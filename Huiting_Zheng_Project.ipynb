{
 "cells": [
  {
   "cell_type": "code",
   "execution_count": 1,
   "id": "0e775ab2",
   "metadata": {},
   "outputs": [],
   "source": [
    "from numpy import array\n",
    "from keras.preprocessing.text import one_hot\n",
    "from keras.preprocessing.sequence import pad_sequences\n",
    "from keras.models import Sequential\n",
    "from keras.layers import Dense\n",
    "from keras.layers import Flatten\n",
    "from keras.layers.embeddings import Embedding"
   ]
  },
  {
   "cell_type": "code",
   "execution_count": 4,
   "id": "cb8760df",
   "metadata": {},
   "outputs": [],
   "source": [
    "import csv\n",
    "import matplotlib.pyplot as plt"
   ]
  },
  {
   "cell_type": "markdown",
   "id": "c8ede988",
   "metadata": {},
   "source": [
    "## Real or Fake News Classifier"
   ]
  },
  {
   "cell_type": "code",
   "execution_count": 5,
   "id": "19f2172a",
   "metadata": {},
   "outputs": [],
   "source": [
    "fake_docs = []\n",
    "real_docs = []\n",
    "with open('train/fake_or_real/fake.csv', newline='') as csvfile:\n",
    "    reader = csv.reader(csvfile, delimiter=',')\n",
    "    for line in reader:\n",
    "        fake_docs.append(line[0])\n",
    "with open('train/fake_or_real/real.csv', newline='') as csvfile:\n",
    "    reader = csv.reader(csvfile, delimiter=',')\n",
    "    for line in reader:\n",
    "        real_docs.append(line[0])"
   ]
  },
  {
   "cell_type": "markdown",
   "id": "cae395b2",
   "metadata": {},
   "source": [
    "Balanced dataset, baseline ~50%"
   ]
  },
  {
   "cell_type": "code",
   "execution_count": 6,
   "id": "70803902",
   "metadata": {},
   "outputs": [
    {
     "name": "stdout",
     "output_type": "stream",
     "text": [
      "20000\n"
     ]
    }
   ],
   "source": [
    "print(len(fake_docs))"
   ]
  },
  {
   "cell_type": "code",
   "execution_count": 7,
   "id": "acba3b13",
   "metadata": {},
   "outputs": [
    {
     "name": "stdout",
     "output_type": "stream",
     "text": [
      "20000\n"
     ]
    }
   ],
   "source": [
    "print(len(real_docs))"
   ]
  },
  {
   "cell_type": "markdown",
   "id": "9288699b",
   "metadata": {},
   "source": [
    "**Separate training set, validation set and test set**"
   ]
  },
  {
   "cell_type": "code",
   "execution_count": 8,
   "id": "1b619261",
   "metadata": {},
   "outputs": [],
   "source": [
    "train_docs = fake_docs[:12000] + real_docs[:12000]\n",
    "val_docs = fake_docs[12000:16000] + real_docs[12000:16000]\n",
    "test_docs = fake_docs[16000:] + real_docs[16000:]"
   ]
  },
  {
   "cell_type": "markdown",
   "id": "647d9fcc",
   "metadata": {},
   "source": [
    "**Prepare labels**  \n",
    "0: Fake news, 1: Real news"
   ]
  },
  {
   "cell_type": "code",
   "execution_count": 9,
   "id": "978b8e1f",
   "metadata": {},
   "outputs": [],
   "source": [
    "train_labels = array([0] * 12000 + [1] * 12000)\n",
    "val_labels = array([0] * 4000 + [1] * 4000)\n",
    "test_labels = array([0] * 4000 + [1] * 4000)"
   ]
  },
  {
   "cell_type": "markdown",
   "id": "f4860906",
   "metadata": {},
   "source": [
    "#### Now encode documents using one hot encoding"
   ]
  },
  {
   "cell_type": "code",
   "execution_count": 10,
   "id": "c032d327",
   "metadata": {},
   "outputs": [],
   "source": [
    "max_feature = 10000\n",
    "train_data = [one_hot(d, max_feature) for d in train_docs]\n",
    "val_data = [one_hot(d, max_feature) for d in val_docs]\n",
    "test_data = [one_hot(d, max_feature) for d in test_docs]"
   ]
  },
  {
   "cell_type": "markdown",
   "id": "92aa7459",
   "metadata": {},
   "source": [
    "take a look at data"
   ]
  },
  {
   "cell_type": "code",
   "execution_count": 11,
   "id": "055277a2",
   "metadata": {
    "scrolled": true
   },
   "outputs": [
    {
     "name": "stdout",
     "output_type": "stream",
     "text": [
      "[[8960, 4417, 9864, 4846, 8579, 5146, 3813, 741, 6576, 9410, 7570, 8954, 8960, 4417, 4835, 9552, 6689, 7579, 1750, 9467, 1519, 9610, 5146, 6646, 5718, 5187, 7377, 9029, 2468, 2955, 6661, 2210, 7839, 3544, 1519, 7672, 4846, 7839, 4059, 8285, 8325, 5718, 8874, 7977, 7267, 4867, 7247, 1880, 8874, 5607, 5089, 9654, 1937, 2210, 4835, 8245, 9063, 7839, 9416, 5718, 6661, 9552, 6689, 9416, 7377, 2395, 6654, 7360, 26, 3758, 6525, 5718, 6672, 6330, 1178, 7839, 7579, 1750, 5544, 1572, 2124, 735, 8285, 8325, 5718, 515, 8874, 7977, 7267, 4867, 7247, 1880, 1519, 9610, 5718, 667, 5146, 6646, 8400, 9343, 2705, 8749, 8796, 5143, 1519, 8031, 6646, 6405, 7434, 2395, 6654, 7360, 26, 3758, 6525, 5718, 6672, 6330, 1178, 7839, 7579, 1750, 5544, 1572, 2124, 735, 8285, 8325, 5718, 515, 8874, 7977, 7267, 4867, 7247, 1880, 1519, 9610, 5718, 667, 5146, 6646, 8796, 5143, 1519, 8031, 6646, 6405, 7434, 8960, 721, 4417, 7791, 746, 4417, 203, 6059, 3021, 319, 2471, 2395, 8274, 2395, 3433, 731, 5023, 3274, 6670, 5544, 8400, 9864, 1519, 5146, 6646, 203, 1202, 922, 9410, 4086, 8354, 6356, 1151, 5607, 4417, 4059, 9643, 5544, 1761, 7676, 6689, 515, 1514, 6615, 7839, 1334, 8823, 8874, 2841, 8463, 702, 7839, 7579, 8874, 6155, 444, 1519, 9610, 5146, 6646, 1822, 5314, 1357, 1266, 746, 2632, 8245, 1071, 3433, 1010, 8887, 746, 6241, 2168, 9229, 3257, 1519, 8031, 6646, 6405, 7434, 7973, 6330, 9553, 1162, 8226, 4460, 2073, 5544, 3323, 7541, 2770, 1442, 746, 9416, 3433, 5617, 5529, 4802, 2695, 3433, 6674, 7839, 1377, 2468, 7985, 6943, 2468, 206, 3433, 3433, 6674, 7839, 1974, 3040, 9416, 8874, 1957, 1750, 206, 178, 1988, 257, 1153, 746, 2969, 8479, 8874, 4512, 8325, 8982, 1519, 5146, 6908, 7579, 9841, 9841, 746, 3433, 469, 6689, 4835, 6248, 9610, 5146, 6646, 584, 2220, 5801, 746, 7192, 203, 4417, 203, 5146, 6646, 203, 741, 6059, 9768, 9610, 5146, 6646, 7839, 1750, 635, 7839, 1572, 7985, 8285, 5718, 5064, 2969, 6674, 3206, 178, 5718, 1052, 6680, 1858, 1957, 4835, 6789, 6689, 5742, 3274, 7839, 9416, 8967, 8960, 721, 4417, 7791, 746, 9410, 7570, 8167, 5146, 6405, 4417, 6661, 203, 7332, 2546, 9410, 6405, 6908, 4417, 365, 1541, 4140, 7839, 4059, 8285, 5718, 8325, 6405, 5146, 6646, 203, 2989, 4032, 5718, 8874, 2081, 5544, 3037, 2853, 7391, 4646, 453, 5863, 4694, 8143, 746, 4417, 203, 6728, 888, 2180, 6413, 3557, 4595, 6979, 8463, 6616, 6661, 9688, 9029, 7857, 7296, 1125, 8400, 5442, 3461, 6033, 746, 6661, 203, 2175, 7332, 922, 9410, 8874, 5607, 5321, 7570, 2468, 8982, 8874, 7571, 246, 6908, 4059, 6205, 365, 7332, 5289, 319, 995, 2069, 5396, 746, 2969, 1879, 9768, 1519, 2644, 8479, 8874, 1379, 8325, 2437, 1537, 746, 6661, 203, 1519, 1292, 6646, 117, 2969, 4412, 4323, 746, 6680, 7839, 1750, 8874, 6943, 2969, 3516, 6405, 9410, 1519, 2460, 2216, 6661, 9229, 9413, 5582, 6661, 2364, 9672, 2729, 3433, 4423, 9449, 6646, 117, 2859, 6789, 6689, 9413, 5718, 4252, 6661, 203, 1519, 6646, 8213, 9062, 2063, 2288, 915, 2883, 2530], [2571, 35, 4417, 9013, 4152, 6137, 6695, 7794, 9789, 3367, 182, 333, 9325, 7919, 7570, 7239, 7839, 6674, 1519, 7807, 5856, 6661, 203, 7332, 3566, 8874, 751, 922, 7985, 5544, 3617, 2468, 8874, 3510, 629, 7297, 6860, 3274, 4608, 8874, 8619, 7794, 6680, 6661, 203, 7332, 6688, 4846, 9029, 8874, 8881, 5544, 4013, 5718, 8874, 8946, 8982, 942, 7839, 8799, 4417, 2395, 7377, 3445, 8874, 7297, 7570, 3557, 3274, 4152, 8874, 7794, 7071, 7839, 7936, 859, 2063, 8874, 5146, 6279, 8778, 5607, 4417, 5552, 9592, 8920, 7558, 6860, 2571, 8982, 1519, 1498, 4963, 2695, 6661, 3427, 3502, 5544, 6137, 6620, 1169, 295, 6102, 4706, 295, 45, 5544, 2468, 7558, 3275, 6689, 4835, 1519, 784, 269, 6405, 4417, 2395, 4059, 3590, 365, 1102, 6661, 2210, 1519, 7036, 1619, 5719, 7973, 1088, 6680, 378, 2395, 9715, 1519, 5525, 8965, 8982, 1519, 1498, 4963, 3917, 1771, 6789, 6689, 2775, 7839, 6009, 1519, 5146, 6279, 82, 4660, 4417, 5718, 8400, 4513, 9406, 8818, 1068, 5544, 4614, 9240, 1184, 7296, 8874, 2786, 7377, 6860, 2153, 7296, 2468, 8874, 5607, 8682, 3856, 623, 5709, 5073, 6633, 4081, 6405, 4417, 7973, 3461, 4417, 2479, 5073, 6615, 9715, 8809, 1519, 3917, 269, 8982, 184, 7558, 3427, 7839, 9175, 3718, 4465, 9695, 2468, 6137, 6549, 4423, 2398, 5265, 8077, 3738, 295, 7499, 5083, 4595, 5058, 6102, 4706, 2024, 6979, 7036, 8308, 7558, 8099, 2468, 6902, 9029, 8874, 1482, 1498, 6960, 5073, 8874, 9175, 4465, 9695, 7570, 7084, 8874, 5072, 4607, 7973, 9240, 1184, 3467, 2695, 7148, 5083, 5892, 1398, 8658, 2456, 9175, 6549, 9568, 8874, 2055, 2471, 8308, 7558, 7839, 8364, 6155, 485, 7071, 7839, 4219, 2352, 5718, 5607, 6155, 5718, 3456, 6549, 5073, 3411, 3502, 5544, 8874, 418, 5719, 7558, 9949, 9181, 7839, 9488, 7839, 8874, 740, 1744, 6330, 5718, 7570, 4252, 1519, 172, 1574, 5073, 717, 7739, 7081, 6583, 203, 3461, 9410, 5268, 6689, 1519, 1002, 7377, 203, 1519, 1858, 1814, 5089, 5820, 9654, 9062, 2063, 1934, 1076, 2883, 2530]]\n"
     ]
    }
   ],
   "source": [
    "print(train_data[:2])"
   ]
  },
  {
   "cell_type": "code",
   "execution_count": 12,
   "id": "5e7dee56",
   "metadata": {},
   "outputs": [],
   "source": [
    "# Cut document after 500 words\n",
    "max_len = 500\n",
    "train_data = pad_sequences(train_data, maxlen=max_len, padding='post')\n",
    "val_data = pad_sequences(val_data, maxlen=max_len, padding='post')\n",
    "test_data = pad_sequences(test_data, maxlen=max_len, padding='post')"
   ]
  },
  {
   "cell_type": "code",
   "execution_count": 13,
   "id": "7512249e",
   "metadata": {},
   "outputs": [
    {
     "data": {
      "text/plain": [
       "(24000, 500)"
      ]
     },
     "execution_count": 13,
     "metadata": {},
     "output_type": "execute_result"
    }
   ],
   "source": [
    "train_data.shape"
   ]
  },
  {
   "cell_type": "markdown",
   "id": "ed2b7565",
   "metadata": {},
   "source": [
    "## Start training"
   ]
  },
  {
   "cell_type": "code",
   "execution_count": 14,
   "id": "e827a167",
   "metadata": {},
   "outputs": [],
   "source": [
    "from keras.layers import LSTM"
   ]
  },
  {
   "cell_type": "code",
   "execution_count": 22,
   "id": "7e0aa0db",
   "metadata": {},
   "outputs": [
    {
     "name": "stderr",
     "output_type": "stream",
     "text": [
      "2021-11-27 00:03:39.953792: I tensorflow/compiler/mlir/mlir_graph_optimization_pass.cc:185] None of the MLIR Optimization Passes are enabled (registered 2)\n"
     ]
    },
    {
     "name": "stdout",
     "output_type": "stream",
     "text": [
      "Epoch 1/10\n",
      "188/188 [==============================] - 69s 356ms/step - loss: 0.3342 - acc: 0.8649 - val_loss: 0.3056 - val_acc: 0.9087\n",
      "Epoch 2/10\n",
      "188/188 [==============================] - 67s 357ms/step - loss: 0.1077 - acc: 0.9754 - val_loss: 0.3224 - val_acc: 0.9144\n",
      "Epoch 3/10\n",
      "188/188 [==============================] - 66s 353ms/step - loss: 0.0841 - acc: 0.9822 - val_loss: 0.3228 - val_acc: 0.9165\n",
      "Epoch 4/10\n",
      "188/188 [==============================] - 67s 355ms/step - loss: 0.0838 - acc: 0.9815 - val_loss: 0.4208 - val_acc: 0.8700\n",
      "Epoch 5/10\n",
      "188/188 [==============================] - 65s 346ms/step - loss: 0.0828 - acc: 0.9808 - val_loss: 0.3872 - val_acc: 0.8964\n",
      "Epoch 6/10\n",
      "188/188 [==============================] - 66s 351ms/step - loss: 0.0975 - acc: 0.9763 - val_loss: 0.4319 - val_acc: 0.8860\n",
      "Epoch 7/10\n",
      "188/188 [==============================] - 67s 356ms/step - loss: 0.0906 - acc: 0.9790 - val_loss: 0.3654 - val_acc: 0.8855\n",
      "Epoch 8/10\n",
      "188/188 [==============================] - 67s 355ms/step - loss: 0.0942 - acc: 0.9776 - val_loss: 0.3682 - val_acc: 0.8796\n",
      "Epoch 9/10\n",
      "188/188 [==============================] - 76s 406ms/step - loss: 0.0911 - acc: 0.9785 - val_loss: 0.4100 - val_acc: 0.8599\n",
      "Epoch 10/10\n",
      "188/188 [==============================] - 80s 424ms/step - loss: 0.0914 - acc: 0.9778 - val_loss: 0.3976 - val_acc: 0.8830\n"
     ]
    }
   ],
   "source": [
    "model = Sequential()\n",
    "model.add(Embedding(max_feature, 64))\n",
    "model.add(LSTM(64))\n",
    "model.add(Dense(1, activation='sigmoid'))\n",
    "\n",
    "model.compile(optimizer='rmsprop', \n",
    "              loss='binary_crossentropy', \n",
    "              metrics=['acc'])\n",
    "\n",
    "history = model.fit(train_data, train_labels,\n",
    "                    epochs=10,\n",
    "                    batch_size=128,\n",
    "                    validation_data=(val_data, val_labels))"
   ]
  },
  {
   "cell_type": "code",
   "execution_count": 23,
   "id": "f6e05006",
   "metadata": {},
   "outputs": [
    {
     "data": {
      "image/png": "[encoded data removed]",
      "text/plain": [
       "<Figure size 432x288 with 1 Axes>"
      ]
     },
     "metadata": {
      "needs_background": "light"
     },
     "output_type": "display_data"
    },
    {
     "data": {
      "image/png": "[encoded data removed]",
      "text/plain": [
       "<Figure size 432x288 with 1 Axes>"
      ]
     },
     "metadata": {
      "needs_background": "light"
     },
     "output_type": "display_data"
    }
   ],
   "source": [
    "import matplotlib.pyplot as plt\n",
    "\n",
    "acc = history.history['acc']\n",
    "val_acc = history.history['val_acc']\n",
    "loss = history.history['loss']\n",
    "val_loss = history.history['val_loss']\n",
    "\n",
    "epochs = range(len(acc))\n",
    "\n",
    "plt.plot(epochs, acc, 'r', label='Training acc')\n",
    "plt.plot(epochs, val_acc, 'b', label='Validation acc')\n",
    "plt.title('Training and validation accuracy')\n",
    "plt.legend()\n",
    "\n",
    "plt.figure()\n",
    "\n",
    "plt.plot(epochs, loss, 'r', label='Training loss')\n",
    "plt.plot(epochs, val_loss, 'b', label='Validation loss')\n",
    "plt.title('Training and validation loss')\n",
    "plt.legend()\n",
    "\n",
    "plt.show()"
   ]
  },
  {
   "cell_type": "code",
   "execution_count": 24,
   "id": "fb449270",
   "metadata": {},
   "outputs": [
    {
     "name": "stdout",
     "output_type": "stream",
     "text": [
      "Epoch 1/10\n",
      "188/188 [==============================] - 102s 529ms/step - loss: 0.3395 - acc: 0.8566 - val_loss: 0.6377 - val_acc: 0.5861\n",
      "Epoch 2/10\n",
      "188/188 [==============================] - 99s 528ms/step - loss: 0.1351 - acc: 0.9549 - val_loss: 0.4057 - val_acc: 0.8907\n",
      "Epoch 3/10\n",
      "188/188 [==============================] - 99s 527ms/step - loss: 0.0985 - acc: 0.9789 - val_loss: 0.4053 - val_acc: 0.8917\n",
      "Epoch 4/10\n",
      "188/188 [==============================] - 98s 521ms/step - loss: 0.1003 - acc: 0.9773 - val_loss: 0.4308 - val_acc: 0.8815\n",
      "Epoch 5/10\n",
      "188/188 [==============================] - 98s 523ms/step - loss: 0.0886 - acc: 0.9801 - val_loss: 0.3221 - val_acc: 0.9128\n",
      "Epoch 6/10\n",
      "188/188 [==============================] - 99s 525ms/step - loss: 0.0878 - acc: 0.9808 - val_loss: 0.4329 - val_acc: 0.8860\n",
      "Epoch 7/10\n",
      "188/188 [==============================] - 2911s 16s/step - loss: 0.0890 - acc: 0.9807 - val_loss: 0.3547 - val_acc: 0.9057\n",
      "Epoch 8/10\n",
      "188/188 [==============================] - 246s 1s/step - loss: 0.0844 - acc: 0.9817 - val_loss: 0.3912 - val_acc: 0.8966\n",
      "Epoch 9/10\n",
      "188/188 [==============================] - 245s 1s/step - loss: 0.0846 - acc: 0.9815 - val_loss: 0.3926 - val_acc: 0.8945\n",
      "Epoch 10/10\n",
      "188/188 [==============================] - 249s 1s/step - loss: 0.0962 - acc: 0.9768 - val_loss: 0.3142 - val_acc: 0.8888\n"
     ]
    }
   ],
   "source": [
    "model = Sequential()\n",
    "model.add(Embedding(max_feature, 64))\n",
    "model.add(LSTM(64, dropout=0.2, recurrent_dropout=0.2))\n",
    "model.add(Dense(1, activation='sigmoid'))\n",
    "\n",
    "model.compile(optimizer='rmsprop', \n",
    "              loss='binary_crossentropy', \n",
    "              metrics=['acc'])\n",
    "\n",
    "history = model.fit(train_data, train_labels,\n",
    "                    epochs=10,\n",
    "                    batch_size=128,\n",
    "                    validation_data=(val_data, val_labels))"
   ]
  },
  {
   "cell_type": "code",
   "execution_count": 25,
   "id": "b208b483",
   "metadata": {},
   "outputs": [
    {
     "data": {
      "image/png": "[encoded data removed]",
      "text/plain": [
       "<Figure size 432x288 with 1 Axes>"
      ]
     },
     "metadata": {
      "needs_background": "light"
     },
     "output_type": "display_data"
    },
    {
     "data": {
      "image/png": "[encoded data removed]",
      "text/plain": [
       "<Figure size 432x288 with 1 Axes>"
      ]
     },
     "metadata": {
      "needs_background": "light"
     },
     "output_type": "display_data"
    }
   ],
   "source": [
    "acc = history.history['acc']\n",
    "val_acc = history.history['val_acc']\n",
    "loss = history.history['loss']\n",
    "val_loss = history.history['val_loss']\n",
    "\n",
    "epochs = range(len(acc))\n",
    "\n",
    "plt.plot(epochs, acc, 'r', label='Training acc')\n",
    "plt.plot(epochs, val_acc, 'b', label='Validation acc')\n",
    "plt.title('Training and validation accuracy')\n",
    "plt.legend()\n",
    "\n",
    "plt.figure()\n",
    "\n",
    "plt.plot(epochs, loss, 'r', label='Training loss')\n",
    "plt.plot(epochs, val_loss, 'b', label='Validation loss')\n",
    "plt.title('Training and validation loss')\n",
    "plt.legend()\n",
    "\n",
    "plt.show()"
   ]
  },
  {
   "cell_type": "code",
   "execution_count": 15,
   "id": "d36cecae",
   "metadata": {},
   "outputs": [
    {
     "name": "stderr",
     "output_type": "stream",
     "text": [
      "2021-12-05 15:28:02.887799: I tensorflow/core/platform/cpu_feature_guard.cc:142] This TensorFlow binary is optimized with oneAPI Deep Neural Network Library (oneDNN) to use the following CPU instructions in performance-critical operations:  AVX2 FMA\n",
      "To enable them in other operations, rebuild TensorFlow with the appropriate compiler flags.\n",
      "2021-12-05 15:28:03.563946: I tensorflow/compiler/mlir/mlir_graph_optimization_pass.cc:185] None of the MLIR Optimization Passes are enabled (registered 2)\n"
     ]
    },
    {
     "name": "stdout",
     "output_type": "stream",
     "text": [
      "Epoch 1/20\n",
      "188/188 [==============================] - 117s 608ms/step - loss: 0.3882 - acc: 0.7987 - val_loss: 0.2746 - val_acc: 0.9237\n",
      "Epoch 2/20\n",
      "188/188 [==============================] - 177s 941ms/step - loss: 0.1261 - acc: 0.9706 - val_loss: 0.2555 - val_acc: 0.9294\n",
      "Epoch 3/20\n",
      "188/188 [==============================] - 134s 715ms/step - loss: 0.0964 - acc: 0.9792 - val_loss: 0.2821 - val_acc: 0.9185\n",
      "Epoch 4/20\n",
      "188/188 [==============================] - 125s 667ms/step - loss: 0.0803 - acc: 0.9833 - val_loss: 0.3307 - val_acc: 0.9154\n",
      "Epoch 5/20\n",
      "188/188 [==============================] - 126s 668ms/step - loss: 0.0839 - acc: 0.9818 - val_loss: 0.3399 - val_acc: 0.9107\n",
      "Epoch 6/20\n",
      "188/188 [==============================] - 130s 690ms/step - loss: 0.0901 - acc: 0.9803 - val_loss: 0.4465 - val_acc: 0.8921\n",
      "Epoch 7/20\n",
      "188/188 [==============================] - 121s 643ms/step - loss: 0.1225 - acc: 0.9679 - val_loss: 0.3625 - val_acc: 0.8939\n",
      "Epoch 8/20\n",
      "188/188 [==============================] - 119s 631ms/step - loss: 0.0969 - acc: 0.9766 - val_loss: 0.8738 - val_acc: 0.7989\n",
      "Epoch 9/20\n",
      "188/188 [==============================] - 124s 660ms/step - loss: 0.0944 - acc: 0.9781 - val_loss: 0.3356 - val_acc: 0.9080\n",
      "Epoch 10/20\n",
      "188/188 [==============================] - 149s 794ms/step - loss: 0.0862 - acc: 0.9789 - val_loss: 0.4154 - val_acc: 0.8975\n",
      "Epoch 11/20\n",
      "188/188 [==============================] - 137s 729ms/step - loss: 0.0937 - acc: 0.9775 - val_loss: 0.3655 - val_acc: 0.9022\n",
      "Epoch 12/20\n",
      "188/188 [==============================] - 138s 734ms/step - loss: 0.0928 - acc: 0.9785 - val_loss: 0.5241 - val_acc: 0.8470\n",
      "Epoch 13/20\n",
      "188/188 [==============================] - 134s 711ms/step - loss: 0.0864 - acc: 0.9797 - val_loss: 0.3401 - val_acc: 0.8989\n",
      "Epoch 14/20\n",
      "188/188 [==============================] - 144s 768ms/step - loss: 0.1007 - acc: 0.9732 - val_loss: 0.3399 - val_acc: 0.8816\n",
      "Epoch 15/20\n",
      "188/188 [==============================] - 153s 817ms/step - loss: 0.0683 - acc: 0.9771 - val_loss: 0.2814 - val_acc: 0.8739\n",
      "Epoch 16/20\n",
      "188/188 [==============================] - 159s 845ms/step - loss: 0.0592 - acc: 0.9811 - val_loss: 0.2273 - val_acc: 0.9265\n",
      "Epoch 17/20\n",
      "188/188 [==============================] - 153s 814ms/step - loss: 0.0516 - acc: 0.9850 - val_loss: 0.2776 - val_acc: 0.8873\n",
      "Epoch 18/20\n",
      "188/188 [==============================] - 134s 713ms/step - loss: 0.0390 - acc: 0.9890 - val_loss: 0.1865 - val_acc: 0.9529\n",
      "Epoch 19/20\n",
      "188/188 [==============================] - 139s 741ms/step - loss: 0.0484 - acc: 0.9873 - val_loss: 0.2857 - val_acc: 0.9436\n",
      "Epoch 20/20\n",
      "188/188 [==============================] - 144s 762ms/step - loss: 0.0410 - acc: 0.9898 - val_loss: 0.2086 - val_acc: 0.9499\n"
     ]
    }
   ],
   "source": [
    "model = Sequential()\n",
    "model.add(Embedding(max_feature, 64))\n",
    "model.add(LSTM(64, dropout=0.2, recurrent_dropout=0.2))\n",
    "model.add(Dense(1, activation='sigmoid'))\n",
    "\n",
    "model.compile(optimizer='rmsprop', \n",
    "              loss='binary_crossentropy', \n",
    "              metrics=['acc'])\n",
    "\n",
    "history = model.fit(train_data, train_labels,\n",
    "                    epochs=20,\n",
    "                    batch_size=128,\n",
    "                    validation_data=(val_data, val_labels))"
   ]
  },
  {
   "cell_type": "code",
   "execution_count": 18,
   "id": "f549d266",
   "metadata": {
    "scrolled": true
   },
   "outputs": [
    {
     "data": {
      "image/png": "[encoded data removed]",
      "text/plain": [
       "<Figure size 432x288 with 1 Axes>"
      ]
     },
     "metadata": {
      "needs_background": "light"
     },
     "output_type": "display_data"
    },
    {
     "data": {
      "image/png": "[encoded data removed]",
      "text/plain": [
       "<Figure size 432x288 with 1 Axes>"
      ]
     },
     "metadata": {
      "needs_background": "light"
     },
     "output_type": "display_data"
    }
   ],
   "source": [
    "acc = history.history['acc']\n",
    "val_acc = history.history['val_acc']\n",
    "loss = history.history['loss']\n",
    "val_loss = history.history['val_loss']\n",
    "\n",
    "epochs = range(len(acc))\n",
    "\n",
    "plt.plot(epochs, acc, 'r', label='Training acc')\n",
    "plt.plot(epochs, val_acc, 'b', label='Validation acc')\n",
    "plt.title('Training and validation accuracy')\n",
    "plt.legend()\n",
    "\n",
    "plt.figure()\n",
    "\n",
    "plt.plot(epochs, loss, 'r', label='Training loss')\n",
    "plt.plot(epochs, val_loss, 'b', label='Validation loss')\n",
    "plt.title('Training and validation loss')\n",
    "plt.legend()\n",
    "\n",
    "plt.show()"
   ]
  },
  {
   "cell_type": "markdown",
   "id": "3bdd2e38",
   "metadata": {},
   "source": [
    "Use this model to evaluate test data"
   ]
  },
  {
   "cell_type": "code",
   "execution_count": 19,
   "id": "41ea0492",
   "metadata": {},
   "outputs": [
    {
     "name": "stdout",
     "output_type": "stream",
     "text": [
      "250/250 [==============================] - 11s 44ms/step - loss: 0.2058 - acc: 0.9492\n"
     ]
    }
   ],
   "source": [
    "results = model.evaluate(test_data, test_labels)"
   ]
  },
  {
   "cell_type": "markdown",
   "id": "c7ba3fbc",
   "metadata": {},
   "source": [
    "## Prepare unseen news data"
   ]
  },
  {
   "cell_type": "code",
   "execution_count": 11,
   "id": "91e51864",
   "metadata": {},
   "outputs": [
    {
     "name": "stdout",
     "output_type": "stream",
     "text": [
      "20000\n"
     ]
    }
   ],
   "source": [
    "news = []\n",
    "# Read the cleaned news dataset into a list\n",
    "with open('train/news.csv', newline='') as csvfile:\n",
    "    reader = csv.reader(csvfile, delimiter=',')\n",
    "    for line in reader:\n",
    "        news.append(line[0])\n",
    "print(len(news))"
   ]
  },
  {
   "cell_type": "code",
   "execution_count": 21,
   "id": "fdc19958",
   "metadata": {},
   "outputs": [
    {
     "name": "stdout",
     "output_type": "stream",
     "text": [
      "ad sales boost time warner profit quarterly profits at us media giant timewarner jumped to bn £ m for the three months to december from m year earlier the firm which is now one of the biggest investors in google benefited from sales of high speed internet connections and higher advert sales timewarner said fourth quarter sales rose to bn from bn its profits were buoyed by one off gains which offset a profit dip at warner bros and less users for aol time warner said on friday that it now owns of search engine google but its own internet business aol had has mixed fortunes it lost subscribers in the fourth quarter profits were lower than in the preceding three quarters however the company said aol s underlying profit before exceptional items rose on the back of stronger internet advertising revenues it hopes to increase subscribers by offering the online service free to timewarner internet customers and will try to sign up aol s existing customers for high speed broadband timewarner also has to restate and results following a probe by the us securities exchange commission sec which is close to concluding time warner s fourth quarter profits were slightly better than analysts expectations but its film division saw profits slump to m helped by box office flops alexander and catwoman a sharp contrast to year earlier when the third and final film in the lord of the rings trilogy boosted results for the full year timewarner posted a profit of bn up from its performance while revenues grew to bn our financial performance was strong meeting or exceeding all of our full year objectives and greatly enhancing our flexibility chairman and chief executive richard parsons said for timewarner is projecting operating earnings growth of around and also expects higher revenue and wider profit margins timewarner is to restate its accounts as part of efforts to resolve an inquiry into aol by us market regulators it has already offered to pay m to settle charges in a deal that is under review by the sec the company said it was unable to estimate the amount it needed to set aside for legal reserves which it previously set at m it intends to adjust the way it accounts for a deal with german music publisher bertelsmann s purchase of a stake in aol europe which it had reported as advertising revenue it will now book the sale of its stake in aol europe as a loss on the value of that stake\n"
     ]
    }
   ],
   "source": [
    "print(news[0])"
   ]
  },
  {
   "cell_type": "code",
   "execution_count": 22,
   "id": "ca895b79",
   "metadata": {},
   "outputs": [],
   "source": [
    "news_data = [one_hot(d, max_feature) for d in news]"
   ]
  },
  {
   "cell_type": "code",
   "execution_count": 23,
   "id": "7fc49d73",
   "metadata": {},
   "outputs": [],
   "source": [
    "# Cut document after 500 words\n",
    "max_len = 500\n",
    "news_data = pad_sequences(news_data, maxlen=max_len, padding='post')"
   ]
  },
  {
   "cell_type": "code",
   "execution_count": 24,
   "id": "2a45c411",
   "metadata": {},
   "outputs": [
    {
     "data": {
      "text/plain": [
       "(20000, 500)"
      ]
     },
     "execution_count": 24,
     "metadata": {},
     "output_type": "execute_result"
    }
   ],
   "source": [
    "news_data.shape"
   ]
  },
  {
   "cell_type": "code",
   "execution_count": 25,
   "id": "1bf18c6d",
   "metadata": {},
   "outputs": [],
   "source": [
    "news_pred = model.predict(news_data)"
   ]
  },
  {
   "cell_type": "code",
   "execution_count": 26,
   "id": "0afcbb26",
   "metadata": {},
   "outputs": [
    {
     "data": {
      "text/plain": [
       "array([[0.99264705],\n",
       "       [0.9926475 ],\n",
       "       [0.9926475 ],\n",
       "       [0.99264765],\n",
       "       [0.9926475 ]], dtype=float32)"
      ]
     },
     "execution_count": 26,
     "metadata": {},
     "output_type": "execute_result"
    }
   ],
   "source": [
    "news_pred[:5]"
   ]
  },
  {
   "cell_type": "code",
   "execution_count": 27,
   "id": "ef4fc834",
   "metadata": {},
   "outputs": [],
   "source": [
    "fake = 0\n",
    "real = 0\n",
    "# Neutral\n",
    "na = 0"
   ]
  },
  {
   "cell_type": "code",
   "execution_count": 28,
   "id": "c20043a3",
   "metadata": {},
   "outputs": [
    {
     "data": {
      "text/plain": [
       "(20000, 1)"
      ]
     },
     "execution_count": 28,
     "metadata": {},
     "output_type": "execute_result"
    }
   ],
   "source": [
    "news_pred.shape"
   ]
  },
  {
   "cell_type": "markdown",
   "id": "f9abf9af",
   "metadata": {},
   "source": [
    "#### According to the fake/real news classifier trained above, what's the proportion of fake, real, neutral news?\n",
    "\n",
    "I chose to have confidence between 0.4 ~ 0.6 as neutral news"
   ]
  },
  {
   "cell_type": "code",
   "execution_count": 29,
   "id": "f06e22a1",
   "metadata": {},
   "outputs": [
    {
     "name": "stdout",
     "output_type": "stream",
     "text": [
      "Predicted fake news: 6497 out of 20000\n",
      "Predicted real news: 12909 out of 20000\n",
      "Predicted neutral news: 594 out of 20000\n"
     ]
    }
   ],
   "source": [
    "for pred in news_pred:\n",
    "    if pred <= 0.3:\n",
    "        fake += 1\n",
    "    elif pred >= 0.7:\n",
    "        real += 1\n",
    "    else:\n",
    "        na += 1\n",
    "print(\"Predicted fake news: \" + str(fake), \"out of 20000\")\n",
    "print(\"Predicted real news: \" + str(real), \"out of 20000\")\n",
    "print(\"Predicted neutral news: \" + str(na), \"out of 20000\")"
   ]
  },
  {
   "cell_type": "code",
   "execution_count": 30,
   "id": "42cef0e6",
   "metadata": {},
   "outputs": [
    {
     "name": "stdout",
     "output_type": "stream",
     "text": [
      "Model: \"sequential\"\n",
      "_________________________________________________________________\n",
      "Layer (type)                 Output Shape              Param #   \n",
      "=================================================================\n",
      "embedding (Embedding)        (None, None, 64)          640000    \n",
      "_________________________________________________________________\n",
      "lstm (LSTM)                  (None, 64)                33024     \n",
      "_________________________________________________________________\n",
      "dense (Dense)                (None, 1)                 65        \n",
      "=================================================================\n",
      "Total params: 673,089\n",
      "Trainable params: 673,089\n",
      "Non-trainable params: 0\n",
      "_________________________________________________________________\n"
     ]
    }
   ],
   "source": [
    "model.summary()"
   ]
  },
  {
   "cell_type": "markdown",
   "id": "540680dc",
   "metadata": {},
   "source": [
    "## Prepare hand-coded ally countries and opponent countries"
   ]
  },
  {
   "cell_type": "code",
   "execution_count": 24,
   "id": "a2eb6a6a",
   "metadata": {},
   "outputs": [
    {
     "name": "stdout",
     "output_type": "stream",
     "text": [
      "{'united kingdom', 'united states', 'great britain', 'u k', 'japan', 'australia', 'u s', 'american', 'british'}\n",
      "{'china', 'russia', 'pakistan', 'iraq', 'syria', 'iran', 'kazakhstan', 'chinese'}\n"
     ]
    }
   ],
   "source": [
    "allies, opponents = set(), set()\n",
    "allies.add('u s')\n",
    "allies.add('united states')\n",
    "allies.add('american')\n",
    "allies.add('united kingdom')\n",
    "allies.add('great britain')\n",
    "allies.add('british')\n",
    "allies.add('u k')\n",
    "allies.add('japan')\n",
    "allies.add('australia')\n",
    "\n",
    "opponents.add('china')\n",
    "opponents.add('chinese')\n",
    "opponents.add('russia')\n",
    "opponents.add('iraq')\n",
    "opponents.add('pakistan')\n",
    "opponents.add('kazakhstan')\n",
    "opponents.add('syria')\n",
    "opponents.add('iran')\n",
    "\n",
    "print(allies)\n",
    "print(opponents)"
   ]
  },
  {
   "cell_type": "markdown",
   "id": "0fc40d58",
   "metadata": {},
   "source": [
    "#### Among the predicted fake / real / neutral news, how often are these countries mentioned respectively?"
   ]
  },
  {
   "cell_type": "code",
   "execution_count": 56,
   "id": "1c2f0026",
   "metadata": {},
   "outputs": [],
   "source": [
    "import collections\n",
    "\n",
    "fake_news_mentions = collections.defaultdict(lambda:0)\n",
    "real_news_mentions = collections.defaultdict(lambda:0)\n",
    "neutral_news_mentions = collections.defaultdict(lambda:0)\n",
    "\n",
    "for idx in range(len(news_pred)):\n",
    "    ally_mentioned = 0\n",
    "    opponent_mentioned = 0\n",
    "    \n",
    "    for a in allies:\n",
    "        if news[idx].find(a) != -1:\n",
    "            ally_mentioned = 1\n",
    "            break\n",
    "    for o in opponents:\n",
    "        if news[idx].find(o) != -1:\n",
    "            opponent_mentioned = 1\n",
    "            break\n",
    "    total = 0\n",
    "    total += ally_mentioned + opponent_mentioned\n",
    "    key = ''\n",
    "    if total == 2:\n",
    "        key = 'both'\n",
    "    elif total == 0:\n",
    "        continue\n",
    "    else:\n",
    "        if ally_mentioned == 1:\n",
    "            key = 'ally'\n",
    "        else:\n",
    "            key = 'opponent'\n",
    "    \n",
    "    if news_pred[idx] <= 0.3:\n",
    "        fake_news_mentions[key] += 1\n",
    "    elif news_pred[idx] >= 0.7:\n",
    "        real_news_mentions[key] += 1\n",
    "    else:\n",
    "        neutral_news_mentions[key] += 1"
   ]
  },
  {
   "cell_type": "code",
   "execution_count": 57,
   "id": "249534d3",
   "metadata": {},
   "outputs": [
    {
     "name": "stdout",
     "output_type": "stream",
     "text": [
      "Out of 6497 predicted fake news,\n",
      "    12.16% mentioned both allied and opponent countires,\n",
      "    43.79% mentioned only allied country(ies),\n",
      "    4.28% mentioned only opponent country(ies)\n",
      "Out of 12909 predicted real news,\n",
      "    22.69% mentioned both allied and opponent countires,\n",
      "    44.63% mentioned only allied country(ies),\n",
      "    5.21% mentioned only opponent country(ies)\n",
      "Out of 594 predicted neutral news,\n",
      "    24.07% mentioned both allied and opponent countires,\n",
      "    43.27% mentioned only allied country(ies),\n",
      "    5.72% mentioned only opponent country(ies)\n"
     ]
    }
   ],
   "source": [
    "print(f\"Out of {fake} predicted fake news,\\n\\\n",
    "    {round(fake_news_mentions['both'] * 100 / fake, 2)}% mentioned both allied and opponent countires,\\n\\\n",
    "    {round(fake_news_mentions['ally'] * 100 / fake, 2)}% mentioned only allied country(ies),\\n\\\n",
    "    {round(fake_news_mentions['opponent'] * 100 / fake, 2)}% mentioned only opponent country(ies)\")\n",
    "print(f\"Out of {real} predicted real news,\\n\\\n",
    "    {round(real_news_mentions['both'] * 100 / real, 2)}% mentioned both allied and opponent countires,\\n\\\n",
    "    {round(real_news_mentions['ally'] * 100 / real, 2)}% mentioned only allied country(ies),\\n\\\n",
    "    {round(real_news_mentions['opponent'] * 100 / real, 2)}% mentioned only opponent country(ies)\")\n",
    "print(f\"Out of {na} predicted neutral news,\\n\\\n",
    "    {round(neutral_news_mentions['both'] * 100 / na, 2)}% mentioned both allied and opponent countires,\\n\\\n",
    "    {round(neutral_news_mentions['ally'] * 100 / na, 2)}% mentioned only allied country(ies),\\n\\\n",
    "    {round(neutral_news_mentions['opponent'] * 100 / na, 2)}% mentioned only opponent country(ies)\")"
   ]
  },
  {
   "cell_type": "markdown",
   "id": "68b287e6",
   "metadata": {},
   "source": [
    "## News Sentiment Analysis\n",
    "\n",
    "In this dataset, there are three classes: positive, negative and neutral"
   ]
  },
  {
   "cell_type": "code",
   "execution_count": 82,
   "id": "12bfca8a",
   "metadata": {},
   "outputs": [],
   "source": [
    "import numpy as np\n",
    "from tensorflow.keras.layers.experimental.preprocessing import TextVectorization\n",
    "from tensorflow.keras import layers\n",
    "from keras import Input"
   ]
  },
  {
   "cell_type": "code",
   "execution_count": 83,
   "id": "be1cb444",
   "metadata": {},
   "outputs": [],
   "source": [
    "train_data = []\n",
    "train_labels = []\n",
    "with open('train/newsSentiments.csv', newline='') as csvfile:\n",
    "    reader = csv.reader(csvfile, delimiter=',')\n",
    "    for line in reader:\n",
    "        train_data.append(line[0])\n",
    "        train_labels.append(line[1])\n",
    "train_data = np.asarray(train_data)"
   ]
  },
  {
   "cell_type": "markdown",
   "id": "f9c502c6",
   "metadata": {},
   "source": [
    "#### Exploring TextVectorization instead of one hot encoding to preserve more sequential sentiments"
   ]
  },
  {
   "cell_type": "code",
   "execution_count": 84,
   "id": "23765829",
   "metadata": {},
   "outputs": [],
   "source": [
    "max_features = 8000\n",
    "\n",
    "vectorize_layer = TextVectorization(\n",
    "    max_tokens=max_features,\n",
    "    output_mode='int',\n",
    "    output_sequence_length=200,\n",
    "    ngrams=3)\n",
    "\n",
    "vectorize_layer.adapt(train_data)"
   ]
  },
  {
   "cell_type": "code",
   "execution_count": 85,
   "id": "694710d3",
   "metadata": {},
   "outputs": [],
   "source": [
    "text_input = Input(shape=(1,), dtype=tf.string, name='text')\n",
    "\n",
    "output = vectorize_layer(text_input)\n",
    "model = tf.keras.Model(text_input, output)"
   ]
  },
  {
   "cell_type": "markdown",
   "id": "3ccbedda",
   "metadata": {},
   "source": [
    "Now we have vectorized data for our training set"
   ]
  },
  {
   "cell_type": "code",
   "execution_count": 88,
   "id": "3194dac8",
   "metadata": {},
   "outputs": [
    {
     "data": {
      "text/plain": [
       "array([[1700,    1,    1, ..., 5224, 3044,    1],\n",
       "       [  22,    1,    3, ...,  571, 2216,    3],\n",
       "       [1649, 3906, 4052, ...,   28,   89,  367],\n",
       "       ...,\n",
       "       [ 176,    1,  626, ...,    0,    0,    0],\n",
       "       [3011,  781, 1796, ...,    0,    0,    0],\n",
       "       [ 452,  797, 1495, ...,    0,    0,    0]])"
      ]
     },
     "execution_count": 88,
     "metadata": {},
     "output_type": "execute_result"
    }
   ],
   "source": [
    "vec = model.predict(train_data)"
   ]
  },
  {
   "cell_type": "markdown",
   "id": "c05f7d8d",
   "metadata": {},
   "source": [
    "#### However, the sample size is very small, as also mentioned in _ProcessNewsSentimentsDataset.ipynb_, the financial news I gathered was unusable"
   ]
  },
  {
   "cell_type": "code",
   "execution_count": 89,
   "id": "1848f14f",
   "metadata": {},
   "outputs": [
    {
     "data": {
      "text/plain": [
       "(3477, 200)"
      ]
     },
     "execution_count": 89,
     "metadata": {},
     "output_type": "execute_result"
    }
   ],
   "source": [
    "vec.shape"
   ]
  },
  {
   "cell_type": "code",
   "execution_count": 90,
   "id": "bd16e8d7",
   "metadata": {},
   "outputs": [
    {
     "data": {
      "text/plain": [
       "3477"
      ]
     },
     "execution_count": 90,
     "metadata": {},
     "output_type": "execute_result"
    }
   ],
   "source": [
    "len(train_data)"
   ]
  },
  {
   "cell_type": "markdown",
   "id": "6a01b9b5",
   "metadata": {},
   "source": [
    "#### So I oversampled the original data"
   ]
  },
  {
   "cell_type": "code",
   "execution_count": 60,
   "id": "2c1c3471",
   "metadata": {},
   "outputs": [],
   "source": [
    "from imblearn.over_sampling import SMOTE"
   ]
  },
  {
   "cell_type": "code",
   "execution_count": 127,
   "id": "06641d50",
   "metadata": {},
   "outputs": [
    {
     "name": "stderr",
     "output_type": "stream",
     "text": [
      "/usr/local/lib/python3.9/site-packages/imblearn/utils/_validation.py:299: UserWarning: After over-sampling, the number of samples (3000) in class pos will be larger than the number of samples in the majority class (class #pos -> 1203)\n",
      "  warnings.warn(\n",
      "/usr/local/lib/python3.9/site-packages/imblearn/utils/_validation.py:299: UserWarning: After over-sampling, the number of samples (3000) in class neg will be larger than the number of samples in the majority class (class #pos -> 1203)\n",
      "  warnings.warn(\n",
      "/usr/local/lib/python3.9/site-packages/imblearn/utils/_validation.py:299: UserWarning: After over-sampling, the number of samples (3000) in class neut will be larger than the number of samples in the majority class (class #pos -> 1203)\n",
      "  warnings.warn(\n"
     ]
    }
   ],
   "source": [
    "smt = SMOTE(sampling_strategy={\"pos\":3000, \"neg\":3000, \"neut\":3000}, random_state=10, k_neighbors=6, n_jobs=3)\n",
    "train_resampled, train_label_resampled = smt.fit_resample(vec, train_labels)"
   ]
  },
  {
   "cell_type": "code",
   "execution_count": 128,
   "id": "8dba0cd4",
   "metadata": {},
   "outputs": [
    {
     "data": {
      "text/plain": [
       "(9000, 200)"
      ]
     },
     "execution_count": 128,
     "metadata": {},
     "output_type": "execute_result"
    }
   ],
   "source": [
    "train_resampled.shape"
   ]
  },
  {
   "cell_type": "markdown",
   "id": "54b09fff",
   "metadata": {},
   "source": [
    "Now each class has 3000 samples"
   ]
  },
  {
   "cell_type": "code",
   "execution_count": 129,
   "id": "35229b3c",
   "metadata": {},
   "outputs": [
    {
     "name": "stdout",
     "output_type": "stream",
     "text": [
      "3000 3000 3000\n"
     ]
    }
   ],
   "source": [
    "pos, neg, neutr = 0, 0, 0\n",
    "for item in train_label_resampled:\n",
    "    if item == 'pos':\n",
    "        pos += 1\n",
    "    elif item == 'neg':\n",
    "        neg += 1\n",
    "    else:\n",
    "        neutr += 1\n",
    "print(pos, neg, neutr)"
   ]
  },
  {
   "cell_type": "markdown",
   "id": "412aec1f",
   "metadata": {},
   "source": [
    "Prep the data and labels into different forms for future use"
   ]
  },
  {
   "cell_type": "code",
   "execution_count": 130,
   "id": "aa1c624e",
   "metadata": {},
   "outputs": [],
   "source": [
    "num_train_labels = []\n",
    "for item in train_label_resampled:\n",
    "    if item == 'pos':\n",
    "        num_train_labels.append(1.0)\n",
    "    elif item == 'neg':\n",
    "         num_train_labels.append(0.0)\n",
    "    else:\n",
    "        num_train_labels.append(0.5)"
   ]
  },
  {
   "cell_type": "code",
   "execution_count": 132,
   "id": "98d65d51",
   "metadata": {},
   "outputs": [],
   "source": [
    "neg_set = []\n",
    "pos_set = []\n",
    "netr_set = []\n",
    "\n",
    "neg_set_label = []\n",
    "pos_set_label = []\n",
    "netr_set_label = []\n",
    "\n",
    "train_aslist = train_resampled.tolist()\n",
    "for idx, val in enumerate(num_train_labels):\n",
    "    if val == 1.0:\n",
    "        pos_set.append(train_aslist[idx])\n",
    "        pos_set_label.append(val)\n",
    "    elif val == 0.0:\n",
    "        neg_set.append(train_aslist[idx])\n",
    "        neg_set_label.append(val)\n",
    "    else:\n",
    "        netr_set.append(train_aslist[idx])\n",
    "        netr_set_label.append(val)"
   ]
  },
  {
   "cell_type": "code",
   "execution_count": 133,
   "id": "ffaebe81",
   "metadata": {},
   "outputs": [
    {
     "data": {
      "text/plain": [
       "(3000, 200)"
      ]
     },
     "execution_count": 133,
     "metadata": {},
     "output_type": "execute_result"
    }
   ],
   "source": [
    "neg_set = np.asarray(neg_set)\n",
    "neg_set.shape"
   ]
  },
  {
   "cell_type": "code",
   "execution_count": 134,
   "id": "cbe1755b",
   "metadata": {},
   "outputs": [
    {
     "data": {
      "text/plain": [
       "(3000, 200)"
      ]
     },
     "execution_count": 134,
     "metadata": {},
     "output_type": "execute_result"
    }
   ],
   "source": [
    "pos_set = np.asarray(pos_set)\n",
    "pos_set.shape"
   ]
  },
  {
   "cell_type": "code",
   "execution_count": 135,
   "id": "fe84c2b1",
   "metadata": {},
   "outputs": [
    {
     "data": {
      "text/plain": [
       "(3000, 200)"
      ]
     },
     "execution_count": 135,
     "metadata": {},
     "output_type": "execute_result"
    }
   ],
   "source": [
    "netr_set = np.asarray(netr_set)\n",
    "netr_set.shape"
   ]
  },
  {
   "cell_type": "markdown",
   "id": "bc6df6de",
   "metadata": {},
   "source": [
    "## Training with RandomForest\n",
    "\n",
    "From my final project in another course, I noticed that **RandomForest** gives a really good performance, almost comparable to RNN, while I didn't have a chance to futher explore RandomForest in the other project, I decided to play with it here."
   ]
  },
  {
   "cell_type": "code",
   "execution_count": 139,
   "id": "81f8001d",
   "metadata": {},
   "outputs": [],
   "source": [
    "from sklearn.model_selection import cross_val_predict\n",
    "from sklearn.metrics import classification_report, confusion_matrix"
   ]
  },
  {
   "cell_type": "markdown",
   "id": "1abf31ff",
   "metadata": {},
   "source": [
    "Using k-fold evaluation since I have a relevantly small data size"
   ]
  },
  {
   "cell_type": "code",
   "execution_count": 140,
   "id": "158a4546",
   "metadata": {},
   "outputs": [],
   "source": [
    "def KFold_eval_improved(clf, X, y, k):\n",
    "    train_pred = cross_val_predict(clf, X, y, cv=k)\n",
    "    \n",
    "    print('===\\tClassification Report\\t===')\n",
    "    print(classification_report(y, train_pred))\n",
    "    \n",
    "    cm = confusion_matrix(y, train_pred).ravel()\n",
    "    print('===\\tConfusion Matrix\\t===')\n",
    "    print(cm)"
   ]
  },
  {
   "cell_type": "markdown",
   "id": "47a2ebdb",
   "metadata": {},
   "source": [
    "100 trees, verbosity 1, use ALL workers, maximum depth 10 -- Accuracy 0.65, Macro-average Precision, Reall, F1 0.65"
   ]
  },
  {
   "cell_type": "code",
   "execution_count": 141,
   "id": "ba37b77c",
   "metadata": {
    "scrolled": true
   },
   "outputs": [
    {
     "name": "stderr",
     "output_type": "stream",
     "text": [
      "[Parallel(n_jobs=-1)]: Using backend LokyBackend with 8 concurrent workers.\n",
      "[Parallel(n_jobs=-1)]: Done  34 tasks      | elapsed:    2.5s\n",
      "[Parallel(n_jobs=-1)]: Done 100 out of 100 | elapsed:    2.7s finished\n",
      "[Parallel(n_jobs=8)]: Using backend ThreadingBackend with 8 concurrent workers.\n",
      "[Parallel(n_jobs=8)]: Done  34 tasks      | elapsed:    0.0s\n",
      "[Parallel(n_jobs=8)]: Done 100 out of 100 | elapsed:    0.0s finished\n",
      "[Parallel(n_jobs=-1)]: Using backend LokyBackend with 8 concurrent workers.\n",
      "[Parallel(n_jobs=-1)]: Done  56 tasks      | elapsed:    0.3s\n",
      "[Parallel(n_jobs=-1)]: Done 100 out of 100 | elapsed:    0.4s finished\n",
      "[Parallel(n_jobs=8)]: Using backend ThreadingBackend with 8 concurrent workers.\n",
      "[Parallel(n_jobs=8)]: Done  34 tasks      | elapsed:    0.0s\n",
      "[Parallel(n_jobs=8)]: Done 100 out of 100 | elapsed:    0.0s finished\n",
      "[Parallel(n_jobs=-1)]: Using backend LokyBackend with 8 concurrent workers.\n",
      "[Parallel(n_jobs=-1)]: Done  56 tasks      | elapsed:    0.4s\n",
      "[Parallel(n_jobs=-1)]: Done 100 out of 100 | elapsed:    0.4s finished\n",
      "[Parallel(n_jobs=8)]: Using backend ThreadingBackend with 8 concurrent workers.\n",
      "[Parallel(n_jobs=8)]: Done  34 tasks      | elapsed:    0.0s\n",
      "[Parallel(n_jobs=8)]: Done 100 out of 100 | elapsed:    0.0s finished\n",
      "[Parallel(n_jobs=-1)]: Using backend LokyBackend with 8 concurrent workers.\n",
      "[Parallel(n_jobs=-1)]: Done  56 tasks      | elapsed:    0.3s\n",
      "[Parallel(n_jobs=-1)]: Done 100 out of 100 | elapsed:    0.4s finished\n",
      "[Parallel(n_jobs=8)]: Using backend ThreadingBackend with 8 concurrent workers.\n",
      "[Parallel(n_jobs=8)]: Done  34 tasks      | elapsed:    0.0s\n",
      "[Parallel(n_jobs=8)]: Done 100 out of 100 | elapsed:    0.0s finished\n",
      "[Parallel(n_jobs=-1)]: Using backend LokyBackend with 8 concurrent workers.\n",
      "[Parallel(n_jobs=-1)]: Done  56 tasks      | elapsed:    0.4s\n",
      "[Parallel(n_jobs=-1)]: Done 100 out of 100 | elapsed:    0.4s finished\n",
      "[Parallel(n_jobs=8)]: Using backend ThreadingBackend with 8 concurrent workers.\n"
     ]
    },
    {
     "name": "stdout",
     "output_type": "stream",
     "text": [
      "===\tClassification Report\t===\n",
      "              precision    recall  f1-score   support\n",
      "\n",
      "         neg       0.59      0.62      0.60      3000\n",
      "        neut       0.57      0.73      0.64      3000\n",
      "         pos       0.89      0.62      0.73      3000\n",
      "\n",
      "    accuracy                           0.65      9000\n",
      "   macro avg       0.69      0.65      0.66      9000\n",
      "weighted avg       0.69      0.65      0.66      9000\n",
      "\n",
      "===\tConfusion Matrix\t===\n",
      "[1848  931  221  810 2190    0  456  693 1851]\n"
     ]
    },
    {
     "name": "stderr",
     "output_type": "stream",
     "text": [
      "[Parallel(n_jobs=8)]: Done  34 tasks      | elapsed:    0.0s\n",
      "[Parallel(n_jobs=8)]: Done 100 out of 100 | elapsed:    0.0s finished\n"
     ]
    }
   ],
   "source": [
    "from sklearn.ensemble import RandomForestClassifier\n",
    "from sklearn.pipeline import Pipeline\n",
    "\n",
    "rf_model = Pipeline([\n",
    "    ('rf', RandomForestClassifier(n_estimators=100,verbose=1, n_jobs=-1, max_depth=10))\n",
    "])\n",
    "# 5 fold\n",
    "KFold_eval_improved(rf_model, train_resampled, train_label_resampled, 5)"
   ]
  },
  {
   "cell_type": "markdown",
   "id": "892e65de",
   "metadata": {},
   "source": [
    "Increasing maximum depth to 20 -- Accuracy 0.77, Macro-average Precision, Reall, F1 0.77"
   ]
  },
  {
   "cell_type": "code",
   "execution_count": 143,
   "id": "8c0ebd27",
   "metadata": {
    "scrolled": true
   },
   "outputs": [
    {
     "name": "stderr",
     "output_type": "stream",
     "text": [
      "[Parallel(n_jobs=-1)]: Using backend LokyBackend with 8 concurrent workers.\n",
      "[Parallel(n_jobs=-1)]: Done  56 tasks      | elapsed:    0.4s\n",
      "[Parallel(n_jobs=-1)]: Done 100 out of 100 | elapsed:    0.5s finished\n",
      "[Parallel(n_jobs=8)]: Using backend ThreadingBackend with 8 concurrent workers.\n",
      "[Parallel(n_jobs=8)]: Done  34 tasks      | elapsed:    0.0s\n",
      "[Parallel(n_jobs=8)]: Done 100 out of 100 | elapsed:    0.0s finished\n",
      "[Parallel(n_jobs=-1)]: Using backend LokyBackend with 8 concurrent workers.\n",
      "[Parallel(n_jobs=-1)]: Done  56 tasks      | elapsed:    0.6s\n",
      "[Parallel(n_jobs=-1)]: Done 100 out of 100 | elapsed:    0.8s finished\n",
      "[Parallel(n_jobs=8)]: Using backend ThreadingBackend with 8 concurrent workers.\n",
      "[Parallel(n_jobs=8)]: Done  34 tasks      | elapsed:    0.0s\n",
      "[Parallel(n_jobs=8)]: Done 100 out of 100 | elapsed:    0.0s finished\n",
      "[Parallel(n_jobs=-1)]: Using backend LokyBackend with 8 concurrent workers.\n",
      "[Parallel(n_jobs=-1)]: Done  56 tasks      | elapsed:    0.4s\n",
      "[Parallel(n_jobs=-1)]: Done 100 out of 100 | elapsed:    0.5s finished\n",
      "[Parallel(n_jobs=8)]: Using backend ThreadingBackend with 8 concurrent workers.\n",
      "[Parallel(n_jobs=8)]: Done  34 tasks      | elapsed:    0.0s\n",
      "[Parallel(n_jobs=8)]: Done 100 out of 100 | elapsed:    0.0s finished\n",
      "[Parallel(n_jobs=-1)]: Using backend LokyBackend with 8 concurrent workers.\n",
      "[Parallel(n_jobs=-1)]: Done  56 tasks      | elapsed:    0.5s\n",
      "[Parallel(n_jobs=-1)]: Done 100 out of 100 | elapsed:    0.6s finished\n",
      "[Parallel(n_jobs=8)]: Using backend ThreadingBackend with 8 concurrent workers.\n",
      "[Parallel(n_jobs=8)]: Done  34 tasks      | elapsed:    0.0s\n",
      "[Parallel(n_jobs=8)]: Done 100 out of 100 | elapsed:    0.0s finished\n",
      "[Parallel(n_jobs=-1)]: Using backend LokyBackend with 8 concurrent workers.\n",
      "[Parallel(n_jobs=-1)]: Done  56 tasks      | elapsed:    0.4s\n",
      "[Parallel(n_jobs=-1)]: Done 100 out of 100 | elapsed:    0.6s finished\n"
     ]
    },
    {
     "name": "stdout",
     "output_type": "stream",
     "text": [
      "===\tClassification Report\t===\n",
      "              precision    recall  f1-score   support\n",
      "\n",
      "         neg       0.71      0.78      0.74      3000\n",
      "        neut       0.73      0.81      0.77      3000\n",
      "         pos       0.90      0.71      0.79      3000\n",
      "\n",
      "    accuracy                           0.77      9000\n",
      "   macro avg       0.78      0.77      0.77      9000\n",
      "weighted avg       0.78      0.77      0.77      9000\n",
      "\n",
      "===\tConfusion Matrix\t===\n",
      "[2330  459  211  541 2433   26  420  458 2122]\n"
     ]
    },
    {
     "name": "stderr",
     "output_type": "stream",
     "text": [
      "[Parallel(n_jobs=8)]: Using backend ThreadingBackend with 8 concurrent workers.\n",
      "[Parallel(n_jobs=8)]: Done  34 tasks      | elapsed:    0.0s\n",
      "[Parallel(n_jobs=8)]: Done 100 out of 100 | elapsed:    0.0s finished\n"
     ]
    }
   ],
   "source": [
    "rf_model_1 = Pipeline([\n",
    "    ('rf', RandomForestClassifier(n_estimators=100,verbose=1, n_jobs=-1, max_depth=20))\n",
    "])\n",
    "\n",
    "KFold_eval_improved(rf_model_1, train_resampled, train_label_resampled, 5)"
   ]
  },
  {
   "cell_type": "markdown",
   "id": "b63188fe",
   "metadata": {},
   "source": [
    "Increasing maximum depth to 30 -- Accuracy 0.80, Macro-average Precision, Reall, F1 0.80"
   ]
  },
  {
   "cell_type": "code",
   "execution_count": 144,
   "id": "f65baca7",
   "metadata": {
    "scrolled": true
   },
   "outputs": [
    {
     "name": "stderr",
     "output_type": "stream",
     "text": [
      "[Parallel(n_jobs=-1)]: Using backend LokyBackend with 8 concurrent workers.\n",
      "[Parallel(n_jobs=-1)]: Done  56 tasks      | elapsed:    0.5s\n",
      "[Parallel(n_jobs=-1)]: Done 100 out of 100 | elapsed:    0.6s finished\n",
      "[Parallel(n_jobs=8)]: Using backend ThreadingBackend with 8 concurrent workers.\n",
      "[Parallel(n_jobs=8)]: Done  34 tasks      | elapsed:    0.0s\n",
      "[Parallel(n_jobs=8)]: Done 100 out of 100 | elapsed:    0.0s finished\n",
      "[Parallel(n_jobs=-1)]: Using backend LokyBackend with 8 concurrent workers.\n",
      "[Parallel(n_jobs=-1)]: Done  56 tasks      | elapsed:    0.6s\n",
      "[Parallel(n_jobs=-1)]: Done 100 out of 100 | elapsed:    0.7s finished\n",
      "[Parallel(n_jobs=8)]: Using backend ThreadingBackend with 8 concurrent workers.\n",
      "[Parallel(n_jobs=8)]: Done  34 tasks      | elapsed:    0.0s\n",
      "[Parallel(n_jobs=8)]: Done 100 out of 100 | elapsed:    0.0s finished\n",
      "[Parallel(n_jobs=-1)]: Using backend LokyBackend with 8 concurrent workers.\n",
      "[Parallel(n_jobs=-1)]: Done  56 tasks      | elapsed:    0.4s\n",
      "[Parallel(n_jobs=-1)]: Done 100 out of 100 | elapsed:    0.6s finished\n",
      "[Parallel(n_jobs=8)]: Using backend ThreadingBackend with 8 concurrent workers.\n",
      "[Parallel(n_jobs=8)]: Done  34 tasks      | elapsed:    0.0s\n",
      "[Parallel(n_jobs=8)]: Done 100 out of 100 | elapsed:    0.0s finished\n",
      "[Parallel(n_jobs=-1)]: Using backend LokyBackend with 8 concurrent workers.\n",
      "[Parallel(n_jobs=-1)]: Done  56 tasks      | elapsed:    0.4s\n",
      "[Parallel(n_jobs=-1)]: Done 100 out of 100 | elapsed:    0.6s finished\n",
      "[Parallel(n_jobs=8)]: Using backend ThreadingBackend with 8 concurrent workers.\n",
      "[Parallel(n_jobs=8)]: Done  34 tasks      | elapsed:    0.0s\n",
      "[Parallel(n_jobs=8)]: Done 100 out of 100 | elapsed:    0.0s finished\n",
      "[Parallel(n_jobs=-1)]: Using backend LokyBackend with 8 concurrent workers.\n",
      "[Parallel(n_jobs=-1)]: Done  56 tasks      | elapsed:    0.5s\n",
      "[Parallel(n_jobs=-1)]: Done 100 out of 100 | elapsed:    0.6s finished\n"
     ]
    },
    {
     "name": "stdout",
     "output_type": "stream",
     "text": [
      "===\tClassification Report\t===\n",
      "              precision    recall  f1-score   support\n",
      "\n",
      "         neg       0.75      0.79      0.77      3000\n",
      "        neut       0.76      0.84      0.80      3000\n",
      "         pos       0.90      0.76      0.82      3000\n",
      "\n",
      "    accuracy                           0.80      9000\n",
      "   macro avg       0.80      0.80      0.80      9000\n",
      "weighted avg       0.80      0.80      0.80      9000\n",
      "\n",
      "===\tConfusion Matrix\t===\n",
      "[2367  407  226  448 2511   41  334  380 2286]\n"
     ]
    },
    {
     "name": "stderr",
     "output_type": "stream",
     "text": [
      "[Parallel(n_jobs=8)]: Using backend ThreadingBackend with 8 concurrent workers.\n",
      "[Parallel(n_jobs=8)]: Done  34 tasks      | elapsed:    0.0s\n",
      "[Parallel(n_jobs=8)]: Done 100 out of 100 | elapsed:    0.0s finished\n"
     ]
    }
   ],
   "source": [
    "rf_model_2 = Pipeline([\n",
    "    ('rf', RandomForestClassifier(n_estimators=100,verbose=1, n_jobs=-1, max_depth=30))\n",
    "])\n",
    "\n",
    "KFold_eval_improved(rf_model_2, train_resampled, train_label_resampled, 5)"
   ]
  },
  {
   "cell_type": "markdown",
   "id": "07797eb3",
   "metadata": {},
   "source": [
    "Trying 6-fold evaluation, same result"
   ]
  },
  {
   "cell_type": "code",
   "execution_count": 145,
   "id": "be7d51d0",
   "metadata": {
    "scrolled": true
   },
   "outputs": [
    {
     "name": "stderr",
     "output_type": "stream",
     "text": [
      "[Parallel(n_jobs=-1)]: Using backend LokyBackend with 8 concurrent workers.\n",
      "[Parallel(n_jobs=-1)]: Done  56 tasks      | elapsed:    0.5s\n",
      "[Parallel(n_jobs=-1)]: Done 100 out of 100 | elapsed:    0.6s finished\n",
      "[Parallel(n_jobs=8)]: Using backend ThreadingBackend with 8 concurrent workers.\n",
      "[Parallel(n_jobs=8)]: Done  34 tasks      | elapsed:    0.0s\n",
      "[Parallel(n_jobs=8)]: Done 100 out of 100 | elapsed:    0.0s finished\n",
      "[Parallel(n_jobs=-1)]: Using backend LokyBackend with 8 concurrent workers.\n",
      "[Parallel(n_jobs=-1)]: Done  56 tasks      | elapsed:    0.6s\n",
      "[Parallel(n_jobs=-1)]: Done 100 out of 100 | elapsed:    0.8s finished\n",
      "[Parallel(n_jobs=8)]: Using backend ThreadingBackend with 8 concurrent workers.\n",
      "[Parallel(n_jobs=8)]: Done  34 tasks      | elapsed:    0.0s\n",
      "[Parallel(n_jobs=8)]: Done 100 out of 100 | elapsed:    0.0s finished\n",
      "[Parallel(n_jobs=-1)]: Using backend LokyBackend with 8 concurrent workers.\n",
      "[Parallel(n_jobs=-1)]: Done  56 tasks      | elapsed:    0.5s\n",
      "[Parallel(n_jobs=-1)]: Done 100 out of 100 | elapsed:    0.7s finished\n",
      "[Parallel(n_jobs=8)]: Using backend ThreadingBackend with 8 concurrent workers.\n",
      "[Parallel(n_jobs=8)]: Done  34 tasks      | elapsed:    0.0s\n",
      "[Parallel(n_jobs=8)]: Done 100 out of 100 | elapsed:    0.0s finished\n",
      "[Parallel(n_jobs=-1)]: Using backend LokyBackend with 8 concurrent workers.\n",
      "[Parallel(n_jobs=-1)]: Done  56 tasks      | elapsed:    0.5s\n",
      "[Parallel(n_jobs=-1)]: Done 100 out of 100 | elapsed:    0.7s finished\n",
      "[Parallel(n_jobs=8)]: Using backend ThreadingBackend with 8 concurrent workers.\n",
      "[Parallel(n_jobs=8)]: Done  34 tasks      | elapsed:    0.0s\n",
      "[Parallel(n_jobs=8)]: Done 100 out of 100 | elapsed:    0.0s finished\n",
      "[Parallel(n_jobs=-1)]: Using backend LokyBackend with 8 concurrent workers.\n",
      "[Parallel(n_jobs=-1)]: Done  56 tasks      | elapsed:    0.5s\n",
      "[Parallel(n_jobs=-1)]: Done 100 out of 100 | elapsed:    0.6s finished\n",
      "[Parallel(n_jobs=8)]: Using backend ThreadingBackend with 8 concurrent workers.\n",
      "[Parallel(n_jobs=8)]: Done  34 tasks      | elapsed:    0.0s\n",
      "[Parallel(n_jobs=8)]: Done 100 out of 100 | elapsed:    0.0s finished\n",
      "[Parallel(n_jobs=-1)]: Using backend LokyBackend with 8 concurrent workers.\n",
      "[Parallel(n_jobs=-1)]: Done  56 tasks      | elapsed:    0.5s\n",
      "[Parallel(n_jobs=-1)]: Done 100 out of 100 | elapsed:    0.7s finished\n"
     ]
    },
    {
     "name": "stdout",
     "output_type": "stream",
     "text": [
      "===\tClassification Report\t===\n",
      "              precision    recall  f1-score   support\n",
      "\n",
      "         neg       0.76      0.78      0.77      3000\n",
      "        neut       0.76      0.84      0.80      3000\n",
      "         pos       0.89      0.77      0.83      3000\n",
      "\n",
      "    accuracy                           0.80      9000\n",
      "   macro avg       0.80      0.80      0.80      9000\n",
      "weighted avg       0.80      0.80      0.80      9000\n",
      "\n",
      "===\tConfusion Matrix\t===\n",
      "[2333  441  226  421 2533   46  306  380 2314]\n"
     ]
    },
    {
     "name": "stderr",
     "output_type": "stream",
     "text": [
      "[Parallel(n_jobs=8)]: Using backend ThreadingBackend with 8 concurrent workers.\n",
      "[Parallel(n_jobs=8)]: Done  34 tasks      | elapsed:    0.0s\n",
      "[Parallel(n_jobs=8)]: Done 100 out of 100 | elapsed:    0.0s finished\n"
     ]
    }
   ],
   "source": [
    "KFold_eval_improved(rf_model_2, train_resampled, train_label_resampled, 6)"
   ]
  },
  {
   "cell_type": "markdown",
   "id": "9482b004",
   "metadata": {},
   "source": [
    "Increasing max depth to 40, very slight changes"
   ]
  },
  {
   "cell_type": "code",
   "execution_count": 147,
   "id": "d565cd5f",
   "metadata": {
    "scrolled": true
   },
   "outputs": [
    {
     "name": "stderr",
     "output_type": "stream",
     "text": [
      "[Parallel(n_jobs=-1)]: Using backend LokyBackend with 8 concurrent workers.\n",
      "[Parallel(n_jobs=-1)]: Done  56 tasks      | elapsed:    0.5s\n",
      "[Parallel(n_jobs=-1)]: Done 100 out of 100 | elapsed:    0.6s finished\n",
      "[Parallel(n_jobs=8)]: Using backend ThreadingBackend with 8 concurrent workers.\n",
      "[Parallel(n_jobs=8)]: Done  34 tasks      | elapsed:    0.0s\n",
      "[Parallel(n_jobs=8)]: Done 100 out of 100 | elapsed:    0.0s finished\n",
      "[Parallel(n_jobs=-1)]: Using backend LokyBackend with 8 concurrent workers.\n",
      "[Parallel(n_jobs=-1)]: Done  56 tasks      | elapsed:    0.6s\n",
      "[Parallel(n_jobs=-1)]: Done 100 out of 100 | elapsed:    0.7s finished\n",
      "[Parallel(n_jobs=8)]: Using backend ThreadingBackend with 8 concurrent workers.\n",
      "[Parallel(n_jobs=8)]: Done  34 tasks      | elapsed:    0.0s\n",
      "[Parallel(n_jobs=8)]: Done 100 out of 100 | elapsed:    0.0s finished\n",
      "[Parallel(n_jobs=-1)]: Using backend LokyBackend with 8 concurrent workers.\n",
      "[Parallel(n_jobs=-1)]: Done  56 tasks      | elapsed:    0.4s\n",
      "[Parallel(n_jobs=-1)]: Done 100 out of 100 | elapsed:    0.6s finished\n",
      "[Parallel(n_jobs=8)]: Using backend ThreadingBackend with 8 concurrent workers.\n",
      "[Parallel(n_jobs=8)]: Done  34 tasks      | elapsed:    0.0s\n",
      "[Parallel(n_jobs=8)]: Done 100 out of 100 | elapsed:    0.0s finished\n",
      "[Parallel(n_jobs=-1)]: Using backend LokyBackend with 8 concurrent workers.\n",
      "[Parallel(n_jobs=-1)]: Done  56 tasks      | elapsed:    0.5s\n",
      "[Parallel(n_jobs=-1)]: Done 100 out of 100 | elapsed:    0.7s finished\n",
      "[Parallel(n_jobs=8)]: Using backend ThreadingBackend with 8 concurrent workers.\n",
      "[Parallel(n_jobs=8)]: Done  34 tasks      | elapsed:    0.0s\n",
      "[Parallel(n_jobs=8)]: Done 100 out of 100 | elapsed:    0.0s finished\n",
      "[Parallel(n_jobs=-1)]: Using backend LokyBackend with 8 concurrent workers.\n",
      "[Parallel(n_jobs=-1)]: Done  56 tasks      | elapsed:    0.5s\n",
      "[Parallel(n_jobs=-1)]: Done 100 out of 100 | elapsed:    0.7s finished\n"
     ]
    },
    {
     "name": "stdout",
     "output_type": "stream",
     "text": [
      "===\tClassification Report\t===\n",
      "              precision    recall  f1-score   support\n",
      "\n",
      "         neg       0.76      0.79      0.77      3000\n",
      "        neut       0.77      0.84      0.80      3000\n",
      "         pos       0.90      0.78      0.84      3000\n",
      "\n",
      "    accuracy                           0.80      9000\n",
      "   macro avg       0.81      0.80      0.80      9000\n",
      "weighted avg       0.81      0.80      0.80      9000\n",
      "\n",
      "===\tConfusion Matrix\t===\n",
      "[2365  404  231  443 2518   39  298  356 2346]\n"
     ]
    },
    {
     "name": "stderr",
     "output_type": "stream",
     "text": [
      "[Parallel(n_jobs=8)]: Using backend ThreadingBackend with 8 concurrent workers.\n",
      "[Parallel(n_jobs=8)]: Done  34 tasks      | elapsed:    0.0s\n",
      "[Parallel(n_jobs=8)]: Done 100 out of 100 | elapsed:    0.0s finished\n"
     ]
    }
   ],
   "source": [
    "rf_model_3 = Pipeline([\n",
    "    ('rf', RandomForestClassifier(n_estimators=100,verbose=1, n_jobs=-1, max_depth=40))\n",
    "])\n",
    "\n",
    "KFold_eval_improved(rf_model_3, train_resampled, train_label_resampled, 5)"
   ]
  },
  {
   "cell_type": "markdown",
   "id": "96dec3b3",
   "metadata": {},
   "source": [
    "Increasing max dept to 50, no changes"
   ]
  },
  {
   "cell_type": "code",
   "execution_count": 148,
   "id": "7f16a59f",
   "metadata": {},
   "outputs": [
    {
     "name": "stderr",
     "output_type": "stream",
     "text": [
      "[Parallel(n_jobs=-1)]: Using backend LokyBackend with 8 concurrent workers.\n",
      "[Parallel(n_jobs=-1)]: Done  56 tasks      | elapsed:    0.5s\n",
      "[Parallel(n_jobs=-1)]: Done 100 out of 100 | elapsed:    0.6s finished\n",
      "[Parallel(n_jobs=8)]: Using backend ThreadingBackend with 8 concurrent workers.\n",
      "[Parallel(n_jobs=8)]: Done  34 tasks      | elapsed:    0.0s\n",
      "[Parallel(n_jobs=8)]: Done 100 out of 100 | elapsed:    0.0s finished\n",
      "[Parallel(n_jobs=-1)]: Using backend LokyBackend with 8 concurrent workers.\n",
      "[Parallel(n_jobs=-1)]: Done  56 tasks      | elapsed:    0.6s\n",
      "[Parallel(n_jobs=-1)]: Done 100 out of 100 | elapsed:    0.7s finished\n",
      "[Parallel(n_jobs=8)]: Using backend ThreadingBackend with 8 concurrent workers.\n",
      "[Parallel(n_jobs=8)]: Done  34 tasks      | elapsed:    0.0s\n",
      "[Parallel(n_jobs=8)]: Done 100 out of 100 | elapsed:    0.0s finished\n",
      "[Parallel(n_jobs=-1)]: Using backend LokyBackend with 8 concurrent workers.\n",
      "[Parallel(n_jobs=-1)]: Done  56 tasks      | elapsed:    0.4s\n",
      "[Parallel(n_jobs=-1)]: Done 100 out of 100 | elapsed:    0.6s finished\n",
      "[Parallel(n_jobs=8)]: Using backend ThreadingBackend with 8 concurrent workers.\n",
      "[Parallel(n_jobs=8)]: Done  34 tasks      | elapsed:    0.0s\n",
      "[Parallel(n_jobs=8)]: Done 100 out of 100 | elapsed:    0.0s finished\n",
      "[Parallel(n_jobs=-1)]: Using backend LokyBackend with 8 concurrent workers.\n",
      "[Parallel(n_jobs=-1)]: Done  56 tasks      | elapsed:    0.5s\n",
      "[Parallel(n_jobs=-1)]: Done 100 out of 100 | elapsed:    0.6s finished\n",
      "[Parallel(n_jobs=8)]: Using backend ThreadingBackend with 8 concurrent workers.\n",
      "[Parallel(n_jobs=8)]: Done  34 tasks      | elapsed:    0.0s\n",
      "[Parallel(n_jobs=8)]: Done 100 out of 100 | elapsed:    0.0s finished\n",
      "[Parallel(n_jobs=-1)]: Using backend LokyBackend with 8 concurrent workers.\n",
      "[Parallel(n_jobs=-1)]: Done  56 tasks      | elapsed:    0.5s\n",
      "[Parallel(n_jobs=-1)]: Done 100 out of 100 | elapsed:    0.6s finished\n"
     ]
    },
    {
     "name": "stdout",
     "output_type": "stream",
     "text": [
      "===\tClassification Report\t===\n",
      "              precision    recall  f1-score   support\n",
      "\n",
      "         neg       0.76      0.79      0.77      3000\n",
      "        neut       0.76      0.84      0.80      3000\n",
      "         pos       0.90      0.77      0.83      3000\n",
      "\n",
      "    accuracy                           0.80      9000\n",
      "   macro avg       0.81      0.80      0.80      9000\n",
      "weighted avg       0.81      0.80      0.80      9000\n",
      "\n",
      "===\tConfusion Matrix\t===\n",
      "[2357  418  225  432 2531   37  303  376 2321]\n"
     ]
    },
    {
     "name": "stderr",
     "output_type": "stream",
     "text": [
      "[Parallel(n_jobs=8)]: Using backend ThreadingBackend with 8 concurrent workers.\n",
      "[Parallel(n_jobs=8)]: Done  34 tasks      | elapsed:    0.0s\n",
      "[Parallel(n_jobs=8)]: Done 100 out of 100 | elapsed:    0.0s finished\n"
     ]
    }
   ],
   "source": [
    "rf_model_4 = Pipeline([\n",
    "    ('rf', RandomForestClassifier(n_estimators=100,verbose=1, n_jobs=-1, max_depth=50))\n",
    "])\n",
    "\n",
    "KFold_eval_improved(rf_model_4, train_resampled, train_label_resampled, 5)"
   ]
  },
  {
   "cell_type": "markdown",
   "id": "201a0575",
   "metadata": {},
   "source": [
    "Depth 35 do the same job"
   ]
  },
  {
   "cell_type": "code",
   "execution_count": 149,
   "id": "b5b4db18",
   "metadata": {
    "scrolled": true
   },
   "outputs": [
    {
     "name": "stderr",
     "output_type": "stream",
     "text": [
      "[Parallel(n_jobs=-1)]: Using backend LokyBackend with 8 concurrent workers.\n",
      "[Parallel(n_jobs=-1)]: Done  56 tasks      | elapsed:    0.5s\n",
      "[Parallel(n_jobs=-1)]: Done 100 out of 100 | elapsed:    0.6s finished\n",
      "[Parallel(n_jobs=8)]: Using backend ThreadingBackend with 8 concurrent workers.\n",
      "[Parallel(n_jobs=8)]: Done  34 tasks      | elapsed:    0.0s\n",
      "[Parallel(n_jobs=8)]: Done 100 out of 100 | elapsed:    0.0s finished\n",
      "[Parallel(n_jobs=-1)]: Using backend LokyBackend with 8 concurrent workers.\n",
      "[Parallel(n_jobs=-1)]: Done  56 tasks      | elapsed:    0.6s\n",
      "[Parallel(n_jobs=-1)]: Done 100 out of 100 | elapsed:    0.8s finished\n",
      "[Parallel(n_jobs=8)]: Using backend ThreadingBackend with 8 concurrent workers.\n",
      "[Parallel(n_jobs=8)]: Done  34 tasks      | elapsed:    0.0s\n",
      "[Parallel(n_jobs=8)]: Done 100 out of 100 | elapsed:    0.0s finished\n",
      "[Parallel(n_jobs=-1)]: Using backend LokyBackend with 8 concurrent workers.\n",
      "[Parallel(n_jobs=-1)]: Done  56 tasks      | elapsed:    0.5s\n",
      "[Parallel(n_jobs=-1)]: Done 100 out of 100 | elapsed:    0.7s finished\n",
      "[Parallel(n_jobs=8)]: Using backend ThreadingBackend with 8 concurrent workers.\n",
      "[Parallel(n_jobs=8)]: Done  34 tasks      | elapsed:    0.0s\n",
      "[Parallel(n_jobs=8)]: Done 100 out of 100 | elapsed:    0.0s finished\n",
      "[Parallel(n_jobs=-1)]: Using backend LokyBackend with 8 concurrent workers.\n",
      "[Parallel(n_jobs=-1)]: Done  56 tasks      | elapsed:    0.5s\n",
      "[Parallel(n_jobs=-1)]: Done 100 out of 100 | elapsed:    0.8s finished\n",
      "[Parallel(n_jobs=8)]: Using backend ThreadingBackend with 8 concurrent workers.\n",
      "[Parallel(n_jobs=8)]: Done  34 tasks      | elapsed:    0.0s\n",
      "[Parallel(n_jobs=8)]: Done 100 out of 100 | elapsed:    0.1s finished\n",
      "[Parallel(n_jobs=-1)]: Using backend LokyBackend with 8 concurrent workers.\n",
      "[Parallel(n_jobs=-1)]: Done  56 tasks      | elapsed:    0.6s\n"
     ]
    },
    {
     "name": "stdout",
     "output_type": "stream",
     "text": [
      "===\tClassification Report\t===\n",
      "              precision    recall  f1-score   support\n",
      "\n",
      "         neg       0.76      0.78      0.77      3000\n",
      "        neut       0.76      0.84      0.80      3000\n",
      "         pos       0.90      0.77      0.83      3000\n",
      "\n",
      "    accuracy                           0.80      9000\n",
      "   macro avg       0.80      0.80      0.80      9000\n",
      "weighted avg       0.80      0.80      0.80      9000\n",
      "\n",
      "===\tConfusion Matrix\t===\n",
      "[2349  419  232  439 2523   38  317  375 2308]\n"
     ]
    },
    {
     "name": "stderr",
     "output_type": "stream",
     "text": [
      "[Parallel(n_jobs=-1)]: Done 100 out of 100 | elapsed:    0.9s finished\n",
      "[Parallel(n_jobs=8)]: Using backend ThreadingBackend with 8 concurrent workers.\n",
      "[Parallel(n_jobs=8)]: Done  34 tasks      | elapsed:    0.0s\n",
      "[Parallel(n_jobs=8)]: Done 100 out of 100 | elapsed:    0.0s finished\n"
     ]
    }
   ],
   "source": [
    "rf_model_5 = Pipeline([\n",
    "    ('rf', RandomForestClassifier(n_estimators=100,verbose=1, n_jobs=-1, max_depth=35))\n",
    "])\n",
    "\n",
    "KFold_eval_improved(rf_model_5, train_resampled, train_label_resampled, 5)"
   ]
  },
  {
   "cell_type": "markdown",
   "id": "327ad8ed",
   "metadata": {},
   "source": [
    "How about increasing trees to 200? -- No change"
   ]
  },
  {
   "cell_type": "code",
   "execution_count": 150,
   "id": "473fbe16",
   "metadata": {
    "scrolled": true
   },
   "outputs": [
    {
     "name": "stderr",
     "output_type": "stream",
     "text": [
      "[Parallel(n_jobs=-1)]: Using backend LokyBackend with 8 concurrent workers.\n",
      "[Parallel(n_jobs=-1)]: Done  56 tasks      | elapsed:    0.4s\n",
      "[Parallel(n_jobs=-1)]: Done 200 out of 200 | elapsed:    1.0s finished\n",
      "[Parallel(n_jobs=8)]: Using backend ThreadingBackend with 8 concurrent workers.\n",
      "[Parallel(n_jobs=8)]: Done  34 tasks      | elapsed:    0.0s\n",
      "[Parallel(n_jobs=8)]: Done 184 tasks      | elapsed:    0.1s\n",
      "[Parallel(n_jobs=8)]: Done 200 out of 200 | elapsed:    0.1s finished\n",
      "[Parallel(n_jobs=-1)]: Using backend LokyBackend with 8 concurrent workers.\n",
      "[Parallel(n_jobs=-1)]: Done  56 tasks      | elapsed:    0.5s\n",
      "[Parallel(n_jobs=-1)]: Done 200 out of 200 | elapsed:    1.2s finished\n",
      "[Parallel(n_jobs=8)]: Using backend ThreadingBackend with 8 concurrent workers.\n",
      "[Parallel(n_jobs=8)]: Done  34 tasks      | elapsed:    0.0s\n",
      "[Parallel(n_jobs=8)]: Done 184 tasks      | elapsed:    0.1s\n",
      "[Parallel(n_jobs=8)]: Done 200 out of 200 | elapsed:    0.1s finished\n",
      "[Parallel(n_jobs=-1)]: Using backend LokyBackend with 8 concurrent workers.\n",
      "[Parallel(n_jobs=-1)]: Done  56 tasks      | elapsed:    0.5s\n",
      "[Parallel(n_jobs=-1)]: Done 200 out of 200 | elapsed:    1.2s finished\n",
      "[Parallel(n_jobs=8)]: Using backend ThreadingBackend with 8 concurrent workers.\n",
      "[Parallel(n_jobs=8)]: Done  34 tasks      | elapsed:    0.0s\n",
      "[Parallel(n_jobs=8)]: Done 184 tasks      | elapsed:    0.0s\n",
      "[Parallel(n_jobs=8)]: Done 200 out of 200 | elapsed:    0.0s finished\n",
      "[Parallel(n_jobs=-1)]: Using backend LokyBackend with 8 concurrent workers.\n",
      "[Parallel(n_jobs=-1)]: Done  56 tasks      | elapsed:    0.5s\n",
      "[Parallel(n_jobs=-1)]: Done 200 out of 200 | elapsed:    1.2s finished\n",
      "[Parallel(n_jobs=8)]: Using backend ThreadingBackend with 8 concurrent workers.\n",
      "[Parallel(n_jobs=8)]: Done  34 tasks      | elapsed:    0.0s\n",
      "[Parallel(n_jobs=8)]: Done 184 tasks      | elapsed:    0.1s\n",
      "[Parallel(n_jobs=8)]: Done 200 out of 200 | elapsed:    0.1s finished\n",
      "[Parallel(n_jobs=-1)]: Using backend LokyBackend with 8 concurrent workers.\n",
      "[Parallel(n_jobs=-1)]: Done  56 tasks      | elapsed:    0.5s\n",
      "[Parallel(n_jobs=-1)]: Done 200 out of 200 | elapsed:    1.2s finished\n",
      "[Parallel(n_jobs=8)]: Using backend ThreadingBackend with 8 concurrent workers.\n",
      "[Parallel(n_jobs=8)]: Done  34 tasks      | elapsed:    0.0s\n",
      "[Parallel(n_jobs=8)]: Done 184 tasks      | elapsed:    0.1s\n",
      "[Parallel(n_jobs=8)]: Done 200 out of 200 | elapsed:    0.1s finished\n"
     ]
    },
    {
     "name": "stdout",
     "output_type": "stream",
     "text": [
      "===\tClassification Report\t===\n",
      "              precision    recall  f1-score   support\n",
      "\n",
      "         neg       0.76      0.79      0.78      3000\n",
      "        neut       0.77      0.84      0.80      3000\n",
      "         pos       0.90      0.77      0.83      3000\n",
      "\n",
      "    accuracy                           0.80      9000\n",
      "   macro avg       0.81      0.80      0.80      9000\n",
      "weighted avg       0.81      0.80      0.80      9000\n",
      "\n",
      "===\tConfusion Matrix\t===\n",
      "[2375  396  229  430 2528   42  315  368 2317]\n"
     ]
    }
   ],
   "source": [
    "rf_model_6 = Pipeline([\n",
    "    ('rf', RandomForestClassifier(n_estimators=200,verbose=1, n_jobs=-1, max_depth=35))\n",
    "])\n",
    "\n",
    "KFold_eval_improved(rf_model_6, train_resampled, train_label_resampled, 5)"
   ]
  },
  {
   "cell_type": "markdown",
   "id": "3b8d6378",
   "metadata": {},
   "source": [
    "Changing verbosity to 20? Slight changes"
   ]
  },
  {
   "cell_type": "code",
   "execution_count": 151,
   "id": "23b1a7fa",
   "metadata": {},
   "outputs": [
    {
     "name": "stderr",
     "output_type": "stream",
     "text": [
      "[Parallel(n_jobs=-1)]: Using backend LokyBackend with 8 concurrent workers.\n",
      "[Parallel(n_jobs=-1)]: Done   1 tasks      | elapsed:    0.0s\n",
      "[Parallel(n_jobs=-1)]: Batch computation too fast (0.0482s.) Setting batch_size=2.\n",
      "[Parallel(n_jobs=-1)]: Done   2 tasks      | elapsed:    0.1s\n",
      "[Parallel(n_jobs=-1)]: Done   3 tasks      | elapsed:    0.1s\n",
      "[Parallel(n_jobs=-1)]: Done   4 tasks      | elapsed:    0.1s\n",
      "[Parallel(n_jobs=-1)]: Done   5 tasks      | elapsed:    0.1s\n",
      "[Parallel(n_jobs=-1)]: Done   6 tasks      | elapsed:    0.1s\n",
      "[Parallel(n_jobs=-1)]: Done   7 tasks      | elapsed:    0.1s\n",
      "[Parallel(n_jobs=-1)]: Done   8 tasks      | elapsed:    0.1s\n",
      "[Parallel(n_jobs=-1)]: Done   9 tasks      | elapsed:    0.1s\n",
      "[Parallel(n_jobs=-1)]: Done  10 tasks      | elapsed:    0.1s\n",
      "[Parallel(n_jobs=-1)]: Done  11 tasks      | elapsed:    0.1s\n",
      "[Parallel(n_jobs=-1)]: Done  12 tasks      | elapsed:    0.1s\n",
      "[Parallel(n_jobs=-1)]: Done  13 tasks      | elapsed:    0.1s\n",
      "[Parallel(n_jobs=-1)]: Done  14 tasks      | elapsed:    0.2s\n",
      "[Parallel(n_jobs=-1)]: Done  15 tasks      | elapsed:    0.2s\n",
      "[Parallel(n_jobs=-1)]: Done  16 tasks      | elapsed:    0.2s\n",
      "[Parallel(n_jobs=-1)]: Done  18 tasks      | elapsed:    0.2s\n",
      "[Parallel(n_jobs=-1)]: Batch computation too fast (0.1793s.) Setting batch_size=4.\n",
      "[Parallel(n_jobs=-1)]: Done  20 tasks      | elapsed:    0.2s\n",
      "[Parallel(n_jobs=-1)]: Done  22 tasks      | elapsed:    0.2s\n",
      "[Parallel(n_jobs=-1)]: Done  24 tasks      | elapsed:    0.3s\n",
      "[Parallel(n_jobs=-1)]: Done  26 tasks      | elapsed:    0.3s\n",
      "[Parallel(n_jobs=-1)]: Done  28 tasks      | elapsed:    0.3s\n",
      "[Parallel(n_jobs=-1)]: Done  30 tasks      | elapsed:    0.3s\n",
      "[Parallel(n_jobs=-1)]: Done  32 tasks      | elapsed:    0.3s\n",
      "[Parallel(n_jobs=-1)]: Done  34 tasks      | elapsed:    0.3s\n",
      "[Parallel(n_jobs=-1)]: Done  36 tasks      | elapsed:    0.3s\n",
      "[Parallel(n_jobs=-1)]: Done  38 tasks      | elapsed:    0.3s\n",
      "[Parallel(n_jobs=-1)]: Done  40 tasks      | elapsed:    0.3s\n",
      "[Parallel(n_jobs=-1)]: Done  42 tasks      | elapsed:    0.3s\n",
      "[Parallel(n_jobs=-1)]: Done  44 tasks      | elapsed:    0.3s\n",
      "[Parallel(n_jobs=-1)]: Done  46 tasks      | elapsed:    0.4s\n",
      "[Parallel(n_jobs=-1)]: Done  48 tasks      | elapsed:    0.4s\n",
      "[Parallel(n_jobs=-1)]: Done  52 tasks      | elapsed:    0.5s\n",
      "[Parallel(n_jobs=-1)]: Done  56 tasks      | elapsed:    0.5s\n",
      "[Parallel(n_jobs=-1)]: Done  60 tasks      | elapsed:    0.5s\n",
      "[Parallel(n_jobs=-1)]: Done  64 tasks      | elapsed:    0.5s\n",
      "[Parallel(n_jobs=-1)]: Done  68 tasks      | elapsed:    0.5s\n",
      "[Parallel(n_jobs=-1)]: Done  72 tasks      | elapsed:    0.5s\n",
      "[Parallel(n_jobs=-1)]: Done  76 tasks      | elapsed:    0.5s\n",
      "[Parallel(n_jobs=-1)]: Done  80 tasks      | elapsed:    0.6s\n",
      "[Parallel(n_jobs=-1)]: Done  84 tasks      | elapsed:    0.6s\n",
      "[Parallel(n_jobs=-1)]: Done  88 tasks      | elapsed:    0.6s\n",
      "[Parallel(n_jobs=-1)]: Done  92 tasks      | elapsed:    0.6s\n",
      "[Parallel(n_jobs=-1)]: Done  96 tasks      | elapsed:    0.7s\n",
      "[Parallel(n_jobs=-1)]: Done 100 tasks      | elapsed:    0.7s\n",
      "[Parallel(n_jobs=-1)]: Done 104 tasks      | elapsed:    0.7s\n",
      "[Parallel(n_jobs=-1)]: Done 108 tasks      | elapsed:    0.7s\n",
      "[Parallel(n_jobs=-1)]: Done 112 tasks      | elapsed:    0.7s\n",
      "[Parallel(n_jobs=-1)]: Done 116 tasks      | elapsed:    0.8s\n",
      "[Parallel(n_jobs=-1)]: Done 120 tasks      | elapsed:    0.8s\n",
      "[Parallel(n_jobs=-1)]: Done 124 tasks      | elapsed:    0.8s\n",
      "[Parallel(n_jobs=-1)]: Done 128 tasks      | elapsed:    0.8s\n",
      "[Parallel(n_jobs=-1)]: Done 132 tasks      | elapsed:    0.8s\n",
      "[Parallel(n_jobs=-1)]: Done 136 tasks      | elapsed:    0.8s\n",
      "[Parallel(n_jobs=-1)]: Done 140 tasks      | elapsed:    0.8s\n",
      "[Parallel(n_jobs=-1)]: Done 144 tasks      | elapsed:    0.8s\n",
      "[Parallel(n_jobs=-1)]: Done 148 tasks      | elapsed:    0.9s\n",
      "[Parallel(n_jobs=-1)]: Done 152 tasks      | elapsed:    0.9s\n",
      "[Parallel(n_jobs=-1)]: Done 156 tasks      | elapsed:    1.0s\n",
      "[Parallel(n_jobs=-1)]: Done 160 tasks      | elapsed:    1.0s\n",
      "[Parallel(n_jobs=-1)]: Done 161 tasks      | elapsed:    1.0s\n",
      "[Parallel(n_jobs=-1)]: Done 165 tasks      | elapsed:    1.0s\n",
      "[Parallel(n_jobs=-1)]: Done 169 tasks      | elapsed:    1.0s\n",
      "[Parallel(n_jobs=-1)]: Done 170 tasks      | elapsed:    1.0s\n",
      "[Parallel(n_jobs=-1)]: Done 171 tasks      | elapsed:    1.0s\n",
      "[Parallel(n_jobs=-1)]: Done 175 tasks      | elapsed:    1.0s\n",
      "[Parallel(n_jobs=-1)]: Done 176 tasks      | elapsed:    1.0s\n",
      "[Parallel(n_jobs=-1)]: Done 177 tasks      | elapsed:    1.0s\n",
      "[Parallel(n_jobs=-1)]: Done 181 tasks      | elapsed:    1.0s\n",
      "[Parallel(n_jobs=-1)]: Done 182 tasks      | elapsed:    1.1s\n",
      "[Parallel(n_jobs=-1)]: Done 183 tasks      | elapsed:    1.1s\n",
      "[Parallel(n_jobs=-1)]: Done 184 tasks      | elapsed:    1.1s\n",
      "[Parallel(n_jobs=-1)]: Done 185 tasks      | elapsed:    1.1s\n",
      "[Parallel(n_jobs=-1)]: Done 196 out of 200 | elapsed:    1.2s remaining:    0.0s\n",
      "[Parallel(n_jobs=-1)]: Done 200 out of 200 | elapsed:    1.2s finished\n",
      "[Parallel(n_jobs=8)]: Using backend ThreadingBackend with 8 concurrent workers.\n",
      "[Parallel(n_jobs=8)]: Done   1 tasks      | elapsed:    0.0s\n",
      "[Parallel(n_jobs=8)]: Done   2 tasks      | elapsed:    0.0s\n",
      "[Parallel(n_jobs=8)]: Done   3 tasks      | elapsed:    0.0s\n",
      "[Parallel(n_jobs=8)]: Done   4 tasks      | elapsed:    0.0s\n",
      "[Parallel(n_jobs=8)]: Done   5 tasks      | elapsed:    0.0s\n",
      "[Parallel(n_jobs=8)]: Done   6 tasks      | elapsed:    0.0s\n",
      "[Parallel(n_jobs=8)]: Done   7 tasks      | elapsed:    0.0s\n",
      "[Parallel(n_jobs=8)]: Done   8 tasks      | elapsed:    0.0s\n",
      "[Parallel(n_jobs=8)]: Done   9 tasks      | elapsed:    0.0s\n",
      "[Parallel(n_jobs=8)]: Done  10 tasks      | elapsed:    0.0s\n",
      "[Parallel(n_jobs=8)]: Done  11 tasks      | elapsed:    0.0s\n",
      "[Parallel(n_jobs=8)]: Done  12 tasks      | elapsed:    0.0s\n",
      "[Parallel(n_jobs=8)]: Done  13 tasks      | elapsed:    0.0s\n",
      "[Parallel(n_jobs=8)]: Done  14 tasks      | elapsed:    0.0s\n",
      "[Parallel(n_jobs=8)]: Done  15 tasks      | elapsed:    0.0s\n",
      "[Parallel(n_jobs=8)]: Done  16 tasks      | elapsed:    0.0s\n",
      "[Parallel(n_jobs=8)]: Done  17 tasks      | elapsed:    0.0s\n",
      "[Parallel(n_jobs=8)]: Done  18 tasks      | elapsed:    0.0s\n",
      "[Parallel(n_jobs=8)]: Done  19 tasks      | elapsed:    0.0s\n",
      "[Parallel(n_jobs=8)]: Done  20 tasks      | elapsed:    0.0s\n",
      "[Parallel(n_jobs=8)]: Done  21 tasks      | elapsed:    0.0s\n",
      "[Parallel(n_jobs=8)]: Done  22 tasks      | elapsed:    0.0s\n",
      "[Parallel(n_jobs=8)]: Done  23 tasks      | elapsed:    0.0s\n",
      "[Parallel(n_jobs=8)]: Done  24 tasks      | elapsed:    0.0s\n",
      "[Parallel(n_jobs=8)]: Done  25 tasks      | elapsed:    0.0s\n",
      "[Parallel(n_jobs=8)]: Done  26 tasks      | elapsed:    0.0s\n",
      "[Parallel(n_jobs=8)]: Done  27 tasks      | elapsed:    0.0s\n",
      "[Parallel(n_jobs=8)]: Done  28 tasks      | elapsed:    0.0s\n",
      "[Parallel(n_jobs=8)]: Done  29 tasks      | elapsed:    0.0s\n",
      "[Parallel(n_jobs=8)]: Done  30 tasks      | elapsed:    0.0s\n",
      "[Parallel(n_jobs=8)]: Done  31 tasks      | elapsed:    0.0s\n",
      "[Parallel(n_jobs=8)]: Done  32 tasks      | elapsed:    0.0s\n",
      "[Parallel(n_jobs=8)]: Done  33 tasks      | elapsed:    0.0s\n",
      "[Parallel(n_jobs=8)]: Done  34 tasks      | elapsed:    0.0s\n",
      "[Parallel(n_jobs=8)]: Done  35 tasks      | elapsed:    0.0s\n",
      "[Parallel(n_jobs=8)]: Done  36 tasks      | elapsed:    0.0s\n",
      "[Parallel(n_jobs=8)]: Done  37 tasks      | elapsed:    0.0s\n",
      "[Parallel(n_jobs=8)]: Done  38 tasks      | elapsed:    0.0s\n",
      "[Parallel(n_jobs=8)]: Done  39 tasks      | elapsed:    0.0s\n",
      "[Parallel(n_jobs=8)]: Done  40 tasks      | elapsed:    0.0s\n",
      "[Parallel(n_jobs=8)]: Done  41 tasks      | elapsed:    0.0s\n",
      "[Parallel(n_jobs=8)]: Done  42 tasks      | elapsed:    0.0s\n",
      "[Parallel(n_jobs=8)]: Done  43 tasks      | elapsed:    0.0s\n",
      "[Parallel(n_jobs=8)]: Done  44 tasks      | elapsed:    0.0s\n",
      "[Parallel(n_jobs=8)]: Done  45 tasks      | elapsed:    0.0s\n",
      "[Parallel(n_jobs=8)]: Done  46 tasks      | elapsed:    0.0s\n",
      "[Parallel(n_jobs=8)]: Done  47 tasks      | elapsed:    0.0s\n",
      "[Parallel(n_jobs=8)]: Done  48 tasks      | elapsed:    0.0s\n",
      "[Parallel(n_jobs=8)]: Done  49 tasks      | elapsed:    0.0s\n",
      "[Parallel(n_jobs=8)]: Done  50 tasks      | elapsed:    0.0s\n",
      "[Parallel(n_jobs=8)]: Done  51 tasks      | elapsed:    0.0s\n",
      "[Parallel(n_jobs=8)]: Done  52 tasks      | elapsed:    0.0s\n",
      "[Parallel(n_jobs=8)]: Done  53 tasks      | elapsed:    0.0s\n",
      "[Parallel(n_jobs=8)]: Done  54 tasks      | elapsed:    0.0s\n",
      "[Parallel(n_jobs=8)]: Done  55 tasks      | elapsed:    0.0s\n",
      "[Parallel(n_jobs=8)]: Done  56 tasks      | elapsed:    0.0s\n",
      "[Parallel(n_jobs=8)]: Done  57 tasks      | elapsed:    0.0s\n",
      "[Parallel(n_jobs=8)]: Done  58 tasks      | elapsed:    0.0s\n",
      "[Parallel(n_jobs=8)]: Done  59 tasks      | elapsed:    0.0s\n",
      "[Parallel(n_jobs=8)]: Done  60 tasks      | elapsed:    0.0s\n",
      "[Parallel(n_jobs=8)]: Done  61 tasks      | elapsed:    0.0s\n",
      "[Parallel(n_jobs=8)]: Done  62 tasks      | elapsed:    0.0s\n",
      "[Parallel(n_jobs=8)]: Done  63 tasks      | elapsed:    0.0s\n",
      "[Parallel(n_jobs=8)]: Done  64 tasks      | elapsed:    0.0s\n",
      "[Parallel(n_jobs=8)]: Done  65 tasks      | elapsed:    0.0s\n",
      "[Parallel(n_jobs=8)]: Done  66 tasks      | elapsed:    0.0s\n",
      "[Parallel(n_jobs=8)]: Done  67 tasks      | elapsed:    0.0s\n",
      "[Parallel(n_jobs=8)]: Done  68 tasks      | elapsed:    0.0s\n",
      "[Parallel(n_jobs=8)]: Done  69 tasks      | elapsed:    0.0s\n",
      "[Parallel(n_jobs=8)]: Done  70 tasks      | elapsed:    0.0s\n",
      "[Parallel(n_jobs=8)]: Done  71 tasks      | elapsed:    0.0s\n",
      "[Parallel(n_jobs=8)]: Done  72 tasks      | elapsed:    0.0s\n",
      "[Parallel(n_jobs=8)]: Done  73 tasks      | elapsed:    0.0s\n",
      "[Parallel(n_jobs=8)]: Done  74 tasks      | elapsed:    0.0s\n",
      "[Parallel(n_jobs=8)]: Done  75 tasks      | elapsed:    0.0s\n",
      "[Parallel(n_jobs=8)]: Done  76 tasks      | elapsed:    0.0s\n",
      "[Parallel(n_jobs=8)]: Done  77 tasks      | elapsed:    0.0s\n",
      "[Parallel(n_jobs=8)]: Done  78 tasks      | elapsed:    0.0s\n",
      "[Parallel(n_jobs=8)]: Done  79 tasks      | elapsed:    0.0s\n",
      "[Parallel(n_jobs=8)]: Done  80 tasks      | elapsed:    0.0s\n",
      "[Parallel(n_jobs=8)]: Done  81 tasks      | elapsed:    0.0s\n",
      "[Parallel(n_jobs=8)]: Done  82 tasks      | elapsed:    0.0s\n",
      "[Parallel(n_jobs=8)]: Done  83 tasks      | elapsed:    0.0s\n",
      "[Parallel(n_jobs=8)]: Done  84 tasks      | elapsed:    0.0s\n",
      "[Parallel(n_jobs=8)]: Done  85 tasks      | elapsed:    0.0s\n",
      "[Parallel(n_jobs=8)]: Done  86 tasks      | elapsed:    0.0s\n",
      "[Parallel(n_jobs=8)]: Done  87 tasks      | elapsed:    0.0s\n",
      "[Parallel(n_jobs=8)]: Done  88 tasks      | elapsed:    0.0s\n",
      "[Parallel(n_jobs=8)]: Done  89 tasks      | elapsed:    0.0s\n",
      "[Parallel(n_jobs=8)]: Done  90 tasks      | elapsed:    0.0s\n",
      "[Parallel(n_jobs=8)]: Done  91 tasks      | elapsed:    0.0s\n",
      "[Parallel(n_jobs=8)]: Done  92 tasks      | elapsed:    0.0s\n",
      "[Parallel(n_jobs=8)]: Done  93 tasks      | elapsed:    0.0s\n",
      "[Parallel(n_jobs=8)]: Done  94 tasks      | elapsed:    0.0s\n",
      "[Parallel(n_jobs=8)]: Done  95 tasks      | elapsed:    0.0s\n",
      "[Parallel(n_jobs=8)]: Done  96 tasks      | elapsed:    0.0s\n",
      "[Parallel(n_jobs=8)]: Done  97 tasks      | elapsed:    0.0s\n",
      "[Parallel(n_jobs=8)]: Done  98 tasks      | elapsed:    0.0s\n",
      "[Parallel(n_jobs=8)]: Done  99 tasks      | elapsed:    0.0s\n",
      "[Parallel(n_jobs=8)]: Done 100 tasks      | elapsed:    0.0s\n",
      "[Parallel(n_jobs=8)]: Done 101 tasks      | elapsed:    0.0s\n",
      "[Parallel(n_jobs=8)]: Done 102 tasks      | elapsed:    0.0s\n",
      "[Parallel(n_jobs=8)]: Done 103 tasks      | elapsed:    0.0s\n",
      "[Parallel(n_jobs=8)]: Done 104 tasks      | elapsed:    0.0s\n",
      "[Parallel(n_jobs=8)]: Done 105 tasks      | elapsed:    0.0s\n",
      "[Parallel(n_jobs=8)]: Done 106 tasks      | elapsed:    0.0s\n",
      "[Parallel(n_jobs=8)]: Done 107 tasks      | elapsed:    0.0s\n",
      "[Parallel(n_jobs=8)]: Done 108 tasks      | elapsed:    0.0s\n",
      "[Parallel(n_jobs=8)]: Done 109 tasks      | elapsed:    0.0s\n",
      "[Parallel(n_jobs=8)]: Done 110 tasks      | elapsed:    0.0s\n",
      "[Parallel(n_jobs=8)]: Done 111 tasks      | elapsed:    0.0s\n",
      "[Parallel(n_jobs=8)]: Done 112 tasks      | elapsed:    0.0s\n",
      "[Parallel(n_jobs=8)]: Done 113 tasks      | elapsed:    0.0s\n",
      "[Parallel(n_jobs=8)]: Done 114 tasks      | elapsed:    0.0s\n",
      "[Parallel(n_jobs=8)]: Done 115 tasks      | elapsed:    0.0s\n",
      "[Parallel(n_jobs=8)]: Done 116 tasks      | elapsed:    0.0s\n",
      "[Parallel(n_jobs=8)]: Done 117 tasks      | elapsed:    0.1s\n",
      "[Parallel(n_jobs=8)]: Done 118 tasks      | elapsed:    0.1s\n",
      "[Parallel(n_jobs=8)]: Done 119 tasks      | elapsed:    0.1s\n",
      "[Parallel(n_jobs=8)]: Done 120 tasks      | elapsed:    0.1s\n",
      "[Parallel(n_jobs=8)]: Done 121 tasks      | elapsed:    0.1s\n",
      "[Parallel(n_jobs=8)]: Done 122 tasks      | elapsed:    0.1s\n",
      "[Parallel(n_jobs=8)]: Done 123 tasks      | elapsed:    0.1s\n",
      "[Parallel(n_jobs=8)]: Done 124 tasks      | elapsed:    0.1s\n",
      "[Parallel(n_jobs=8)]: Done 125 tasks      | elapsed:    0.1s\n",
      "[Parallel(n_jobs=8)]: Done 126 tasks      | elapsed:    0.1s\n",
      "[Parallel(n_jobs=8)]: Done 127 tasks      | elapsed:    0.1s\n",
      "[Parallel(n_jobs=8)]: Done 128 tasks      | elapsed:    0.1s\n",
      "[Parallel(n_jobs=8)]: Done 129 tasks      | elapsed:    0.1s\n",
      "[Parallel(n_jobs=8)]: Done 130 tasks      | elapsed:    0.1s\n",
      "[Parallel(n_jobs=8)]: Done 131 tasks      | elapsed:    0.1s\n",
      "[Parallel(n_jobs=8)]: Done 132 tasks      | elapsed:    0.1s\n",
      "[Parallel(n_jobs=8)]: Done 133 tasks      | elapsed:    0.1s\n",
      "[Parallel(n_jobs=8)]: Done 134 tasks      | elapsed:    0.1s\n",
      "[Parallel(n_jobs=8)]: Done 135 tasks      | elapsed:    0.1s\n",
      "[Parallel(n_jobs=8)]: Done 136 tasks      | elapsed:    0.1s\n",
      "[Parallel(n_jobs=8)]: Done 137 tasks      | elapsed:    0.1s\n",
      "[Parallel(n_jobs=8)]: Done 138 tasks      | elapsed:    0.1s\n",
      "[Parallel(n_jobs=8)]: Done 139 tasks      | elapsed:    0.1s\n",
      "[Parallel(n_jobs=8)]: Done 140 tasks      | elapsed:    0.1s\n",
      "[Parallel(n_jobs=8)]: Done 141 tasks      | elapsed:    0.1s\n",
      "[Parallel(n_jobs=8)]: Done 142 tasks      | elapsed:    0.1s\n",
      "[Parallel(n_jobs=8)]: Done 143 tasks      | elapsed:    0.1s\n",
      "[Parallel(n_jobs=8)]: Done 144 tasks      | elapsed:    0.1s\n",
      "[Parallel(n_jobs=8)]: Done 145 tasks      | elapsed:    0.1s\n",
      "[Parallel(n_jobs=8)]: Done 146 tasks      | elapsed:    0.1s\n",
      "[Parallel(n_jobs=8)]: Done 147 tasks      | elapsed:    0.1s\n",
      "[Parallel(n_jobs=8)]: Done 148 tasks      | elapsed:    0.1s\n",
      "[Parallel(n_jobs=8)]: Done 149 tasks      | elapsed:    0.1s\n",
      "[Parallel(n_jobs=8)]: Done 150 tasks      | elapsed:    0.1s\n",
      "[Parallel(n_jobs=8)]: Done 151 tasks      | elapsed:    0.1s\n",
      "[Parallel(n_jobs=8)]: Done 152 tasks      | elapsed:    0.1s\n",
      "[Parallel(n_jobs=8)]: Done 153 tasks      | elapsed:    0.1s\n",
      "[Parallel(n_jobs=8)]: Done 154 tasks      | elapsed:    0.1s\n",
      "[Parallel(n_jobs=8)]: Done 155 tasks      | elapsed:    0.1s\n",
      "[Parallel(n_jobs=8)]: Done 156 tasks      | elapsed:    0.1s\n",
      "[Parallel(n_jobs=8)]: Done 157 tasks      | elapsed:    0.1s\n",
      "[Parallel(n_jobs=8)]: Done 158 tasks      | elapsed:    0.1s\n",
      "[Parallel(n_jobs=8)]: Done 159 tasks      | elapsed:    0.1s\n",
      "[Parallel(n_jobs=8)]: Done 160 tasks      | elapsed:    0.1s\n",
      "[Parallel(n_jobs=8)]: Done 161 tasks      | elapsed:    0.1s\n",
      "[Parallel(n_jobs=8)]: Done 162 tasks      | elapsed:    0.1s\n",
      "[Parallel(n_jobs=8)]: Done 163 tasks      | elapsed:    0.1s\n",
      "[Parallel(n_jobs=8)]: Done 164 tasks      | elapsed:    0.1s\n",
      "[Parallel(n_jobs=8)]: Done 165 tasks      | elapsed:    0.1s\n",
      "[Parallel(n_jobs=8)]: Done 166 tasks      | elapsed:    0.1s\n",
      "[Parallel(n_jobs=8)]: Done 167 tasks      | elapsed:    0.1s\n",
      "[Parallel(n_jobs=8)]: Done 168 tasks      | elapsed:    0.1s\n",
      "[Parallel(n_jobs=8)]: Done 169 tasks      | elapsed:    0.1s\n",
      "[Parallel(n_jobs=8)]: Done 170 tasks      | elapsed:    0.1s\n",
      "[Parallel(n_jobs=8)]: Done 171 tasks      | elapsed:    0.1s\n",
      "[Parallel(n_jobs=8)]: Done 172 tasks      | elapsed:    0.1s\n",
      "[Parallel(n_jobs=8)]: Done 173 tasks      | elapsed:    0.1s\n",
      "[Parallel(n_jobs=8)]: Done 174 tasks      | elapsed:    0.1s\n",
      "[Parallel(n_jobs=8)]: Done 175 tasks      | elapsed:    0.1s\n",
      "[Parallel(n_jobs=8)]: Done 176 tasks      | elapsed:    0.1s\n",
      "[Parallel(n_jobs=8)]: Done 177 tasks      | elapsed:    0.1s\n",
      "[Parallel(n_jobs=8)]: Done 178 tasks      | elapsed:    0.1s\n",
      "[Parallel(n_jobs=8)]: Done 179 tasks      | elapsed:    0.1s\n",
      "[Parallel(n_jobs=8)]: Done 180 tasks      | elapsed:    0.1s\n",
      "[Parallel(n_jobs=8)]: Done 181 tasks      | elapsed:    0.1s\n",
      "[Parallel(n_jobs=8)]: Done 182 tasks      | elapsed:    0.1s\n",
      "[Parallel(n_jobs=8)]: Done 183 tasks      | elapsed:    0.1s\n",
      "[Parallel(n_jobs=8)]: Done 184 tasks      | elapsed:    0.1s\n",
      "[Parallel(n_jobs=8)]: Done 185 tasks      | elapsed:    0.1s\n",
      "[Parallel(n_jobs=8)]: Done 196 out of 200 | elapsed:    0.1s remaining:    0.0s\n",
      "[Parallel(n_jobs=8)]: Done 200 out of 200 | elapsed:    0.1s finished\n",
      "[Parallel(n_jobs=-1)]: Using backend LokyBackend with 8 concurrent workers.\n"
     ]
    },
    {
     "name": "stdout",
     "output_type": "stream",
     "text": [
      "Using ThreadingBackend as joblib.Parallel backend instead of LokyBackend as the latter does not provide shared memory semantics.\n"
     ]
    },
    {
     "name": "stderr",
     "output_type": "stream",
     "text": [
      "[Parallel(n_jobs=-1)]: Done   1 tasks      | elapsed:    0.1s\n",
      "[Parallel(n_jobs=-1)]: Batch computation too fast (0.0585s.) Setting batch_size=2.\n",
      "[Parallel(n_jobs=-1)]: Done   2 tasks      | elapsed:    0.1s\n",
      "[Parallel(n_jobs=-1)]: Done   3 tasks      | elapsed:    0.1s\n",
      "[Parallel(n_jobs=-1)]: Done   4 tasks      | elapsed:    0.1s\n",
      "[Parallel(n_jobs=-1)]: Done   5 tasks      | elapsed:    0.1s\n",
      "[Parallel(n_jobs=-1)]: Done   6 tasks      | elapsed:    0.1s\n",
      "[Parallel(n_jobs=-1)]: Done   7 tasks      | elapsed:    0.1s\n",
      "[Parallel(n_jobs=-1)]: Done   8 tasks      | elapsed:    0.1s\n",
      "[Parallel(n_jobs=-1)]: Done   9 tasks      | elapsed:    0.1s\n",
      "[Parallel(n_jobs=-1)]: Done  10 tasks      | elapsed:    0.1s\n",
      "[Parallel(n_jobs=-1)]: Done  11 tasks      | elapsed:    0.1s\n",
      "[Parallel(n_jobs=-1)]: Done  12 tasks      | elapsed:    0.1s\n",
      "[Parallel(n_jobs=-1)]: Done  13 tasks      | elapsed:    0.1s\n",
      "[Parallel(n_jobs=-1)]: Done  14 tasks      | elapsed:    0.1s\n",
      "[Parallel(n_jobs=-1)]: Done  15 tasks      | elapsed:    0.1s\n",
      "[Parallel(n_jobs=-1)]: Done  16 tasks      | elapsed:    0.1s\n",
      "[Parallel(n_jobs=-1)]: Done  18 tasks      | elapsed:    0.2s\n",
      "[Parallel(n_jobs=-1)]: Batch computation too fast (0.1376s.) Setting batch_size=4.\n",
      "[Parallel(n_jobs=-1)]: Done  20 tasks      | elapsed:    0.2s\n",
      "[Parallel(n_jobs=-1)]: Done  22 tasks      | elapsed:    0.2s\n",
      "[Parallel(n_jobs=-1)]: Done  24 tasks      | elapsed:    0.2s\n",
      "[Parallel(n_jobs=-1)]: Done  26 tasks      | elapsed:    0.2s\n",
      "[Parallel(n_jobs=-1)]: Done  28 tasks      | elapsed:    0.2s\n",
      "[Parallel(n_jobs=-1)]: Done  30 tasks      | elapsed:    0.2s\n",
      "[Parallel(n_jobs=-1)]: Done  32 tasks      | elapsed:    0.2s\n",
      "[Parallel(n_jobs=-1)]: Done  34 tasks      | elapsed:    0.3s\n",
      "[Parallel(n_jobs=-1)]: Done  36 tasks      | elapsed:    0.3s\n",
      "[Parallel(n_jobs=-1)]: Done  38 tasks      | elapsed:    0.3s\n",
      "[Parallel(n_jobs=-1)]: Done  40 tasks      | elapsed:    0.3s\n",
      "[Parallel(n_jobs=-1)]: Done  42 tasks      | elapsed:    0.3s\n",
      "[Parallel(n_jobs=-1)]: Done  44 tasks      | elapsed:    0.3s\n",
      "[Parallel(n_jobs=-1)]: Done  46 tasks      | elapsed:    0.3s\n",
      "[Parallel(n_jobs=-1)]: Done  48 tasks      | elapsed:    0.3s\n",
      "[Parallel(n_jobs=-1)]: Done  52 tasks      | elapsed:    0.4s\n",
      "[Parallel(n_jobs=-1)]: Done  56 tasks      | elapsed:    0.5s\n",
      "[Parallel(n_jobs=-1)]: Done  60 tasks      | elapsed:    0.5s\n",
      "[Parallel(n_jobs=-1)]: Done  64 tasks      | elapsed:    0.5s\n",
      "[Parallel(n_jobs=-1)]: Done  68 tasks      | elapsed:    0.5s\n",
      "[Parallel(n_jobs=-1)]: Done  72 tasks      | elapsed:    0.5s\n",
      "[Parallel(n_jobs=-1)]: Done  76 tasks      | elapsed:    0.5s\n",
      "[Parallel(n_jobs=-1)]: Done  80 tasks      | elapsed:    0.5s\n",
      "[Parallel(n_jobs=-1)]: Done  84 tasks      | elapsed:    0.6s\n",
      "[Parallel(n_jobs=-1)]: Done  88 tasks      | elapsed:    0.6s\n",
      "[Parallel(n_jobs=-1)]: Done  92 tasks      | elapsed:    0.6s\n",
      "[Parallel(n_jobs=-1)]: Done  96 tasks      | elapsed:    0.6s\n",
      "[Parallel(n_jobs=-1)]: Done 100 tasks      | elapsed:    0.6s\n",
      "[Parallel(n_jobs=-1)]: Done 104 tasks      | elapsed:    0.7s\n",
      "[Parallel(n_jobs=-1)]: Done 108 tasks      | elapsed:    0.7s\n",
      "[Parallel(n_jobs=-1)]: Done 112 tasks      | elapsed:    0.7s\n",
      "[Parallel(n_jobs=-1)]: Done 116 tasks      | elapsed:    0.8s\n",
      "[Parallel(n_jobs=-1)]: Done 120 tasks      | elapsed:    0.8s\n",
      "[Parallel(n_jobs=-1)]: Done 124 tasks      | elapsed:    0.8s\n",
      "[Parallel(n_jobs=-1)]: Done 128 tasks      | elapsed:    0.8s\n",
      "[Parallel(n_jobs=-1)]: Done 132 tasks      | elapsed:    0.8s\n",
      "[Parallel(n_jobs=-1)]: Done 136 tasks      | elapsed:    0.9s\n",
      "[Parallel(n_jobs=-1)]: Done 140 tasks      | elapsed:    0.9s\n",
      "[Parallel(n_jobs=-1)]: Done 144 tasks      | elapsed:    0.9s\n",
      "[Parallel(n_jobs=-1)]: Done 148 tasks      | elapsed:    1.0s\n",
      "[Parallel(n_jobs=-1)]: Done 152 tasks      | elapsed:    1.0s\n",
      "[Parallel(n_jobs=-1)]: Done 156 tasks      | elapsed:    1.0s\n",
      "[Parallel(n_jobs=-1)]: Done 160 tasks      | elapsed:    1.0s\n",
      "[Parallel(n_jobs=-1)]: Done 164 tasks      | elapsed:    1.1s\n",
      "[Parallel(n_jobs=-1)]: Done 168 tasks      | elapsed:    1.1s\n",
      "[Parallel(n_jobs=-1)]: Done 172 tasks      | elapsed:    1.1s\n",
      "[Parallel(n_jobs=-1)]: Done 173 tasks      | elapsed:    1.1s\n",
      "[Parallel(n_jobs=-1)]: Done 174 tasks      | elapsed:    1.1s\n",
      "[Parallel(n_jobs=-1)]: Done 175 tasks      | elapsed:    1.1s\n",
      "[Parallel(n_jobs=-1)]: Done 179 tasks      | elapsed:    1.1s\n",
      "[Parallel(n_jobs=-1)]: Done 180 tasks      | elapsed:    1.1s\n",
      "[Parallel(n_jobs=-1)]: Done 181 tasks      | elapsed:    1.1s\n",
      "[Parallel(n_jobs=-1)]: Done 182 tasks      | elapsed:    1.1s\n",
      "[Parallel(n_jobs=-1)]: Done 183 tasks      | elapsed:    1.1s\n",
      "[Parallel(n_jobs=-1)]: Done 184 tasks      | elapsed:    1.1s\n",
      "[Parallel(n_jobs=-1)]: Done 185 tasks      | elapsed:    1.1s\n",
      "[Parallel(n_jobs=-1)]: Done 196 out of 200 | elapsed:    1.2s remaining:    0.0s\n",
      "[Parallel(n_jobs=-1)]: Done 200 out of 200 | elapsed:    1.2s finished\n"
     ]
    },
    {
     "name": "stdout",
     "output_type": "stream",
     "text": [
      "Using ThreadingBackend as joblib.Parallel backend instead of LokyBackend as the latter does not provide shared memory semantics.\n"
     ]
    },
    {
     "name": "stderr",
     "output_type": "stream",
     "text": [
      "[Parallel(n_jobs=8)]: Using backend ThreadingBackend with 8 concurrent workers.\n",
      "[Parallel(n_jobs=8)]: Done   1 tasks      | elapsed:    0.0s\n",
      "[Parallel(n_jobs=8)]: Done   2 tasks      | elapsed:    0.0s\n",
      "[Parallel(n_jobs=8)]: Done   3 tasks      | elapsed:    0.0s\n",
      "[Parallel(n_jobs=8)]: Done   4 tasks      | elapsed:    0.0s\n",
      "[Parallel(n_jobs=8)]: Done   5 tasks      | elapsed:    0.0s\n",
      "[Parallel(n_jobs=8)]: Done   6 tasks      | elapsed:    0.0s\n",
      "[Parallel(n_jobs=8)]: Done   7 tasks      | elapsed:    0.0s\n",
      "[Parallel(n_jobs=8)]: Done   8 tasks      | elapsed:    0.0s\n",
      "[Parallel(n_jobs=8)]: Done   9 tasks      | elapsed:    0.0s\n",
      "[Parallel(n_jobs=8)]: Done  10 tasks      | elapsed:    0.0s\n",
      "[Parallel(n_jobs=8)]: Done  11 tasks      | elapsed:    0.0s\n",
      "[Parallel(n_jobs=8)]: Done  12 tasks      | elapsed:    0.0s\n",
      "[Parallel(n_jobs=8)]: Done  13 tasks      | elapsed:    0.0s\n",
      "[Parallel(n_jobs=8)]: Done  14 tasks      | elapsed:    0.0s\n",
      "[Parallel(n_jobs=8)]: Done  15 tasks      | elapsed:    0.0s\n",
      "[Parallel(n_jobs=8)]: Done  16 tasks      | elapsed:    0.0s\n",
      "[Parallel(n_jobs=8)]: Done  17 tasks      | elapsed:    0.0s\n",
      "[Parallel(n_jobs=8)]: Done  18 tasks      | elapsed:    0.0s\n",
      "[Parallel(n_jobs=8)]: Done  19 tasks      | elapsed:    0.0s\n",
      "[Parallel(n_jobs=8)]: Done  20 tasks      | elapsed:    0.0s\n",
      "[Parallel(n_jobs=8)]: Done  21 tasks      | elapsed:    0.0s\n",
      "[Parallel(n_jobs=8)]: Done  22 tasks      | elapsed:    0.0s\n",
      "[Parallel(n_jobs=8)]: Done  23 tasks      | elapsed:    0.0s\n",
      "[Parallel(n_jobs=8)]: Done  24 tasks      | elapsed:    0.0s\n",
      "[Parallel(n_jobs=8)]: Done  25 tasks      | elapsed:    0.0s\n",
      "[Parallel(n_jobs=8)]: Done  26 tasks      | elapsed:    0.0s\n",
      "[Parallel(n_jobs=8)]: Done  27 tasks      | elapsed:    0.0s\n",
      "[Parallel(n_jobs=8)]: Done  28 tasks      | elapsed:    0.0s\n",
      "[Parallel(n_jobs=8)]: Done  29 tasks      | elapsed:    0.0s\n",
      "[Parallel(n_jobs=8)]: Done  30 tasks      | elapsed:    0.0s\n",
      "[Parallel(n_jobs=8)]: Done  31 tasks      | elapsed:    0.0s\n",
      "[Parallel(n_jobs=8)]: Done  32 tasks      | elapsed:    0.0s\n",
      "[Parallel(n_jobs=8)]: Done  33 tasks      | elapsed:    0.0s\n",
      "[Parallel(n_jobs=8)]: Done  34 tasks      | elapsed:    0.0s\n",
      "[Parallel(n_jobs=8)]: Done  35 tasks      | elapsed:    0.0s\n",
      "[Parallel(n_jobs=8)]: Done  36 tasks      | elapsed:    0.0s\n",
      "[Parallel(n_jobs=8)]: Done  37 tasks      | elapsed:    0.0s\n",
      "[Parallel(n_jobs=8)]: Done  38 tasks      | elapsed:    0.0s\n",
      "[Parallel(n_jobs=8)]: Done  39 tasks      | elapsed:    0.0s\n",
      "[Parallel(n_jobs=8)]: Done  40 tasks      | elapsed:    0.0s\n",
      "[Parallel(n_jobs=8)]: Done  41 tasks      | elapsed:    0.0s\n",
      "[Parallel(n_jobs=8)]: Done  42 tasks      | elapsed:    0.0s\n",
      "[Parallel(n_jobs=8)]: Done  43 tasks      | elapsed:    0.0s\n",
      "[Parallel(n_jobs=8)]: Done  44 tasks      | elapsed:    0.0s\n",
      "[Parallel(n_jobs=8)]: Done  45 tasks      | elapsed:    0.0s\n",
      "[Parallel(n_jobs=8)]: Done  46 tasks      | elapsed:    0.0s\n",
      "[Parallel(n_jobs=8)]: Done  47 tasks      | elapsed:    0.0s\n",
      "[Parallel(n_jobs=8)]: Done  48 tasks      | elapsed:    0.0s\n",
      "[Parallel(n_jobs=8)]: Done  49 tasks      | elapsed:    0.0s\n",
      "[Parallel(n_jobs=8)]: Done  50 tasks      | elapsed:    0.0s\n",
      "[Parallel(n_jobs=8)]: Done  51 tasks      | elapsed:    0.0s\n",
      "[Parallel(n_jobs=8)]: Done  52 tasks      | elapsed:    0.0s\n",
      "[Parallel(n_jobs=8)]: Done  53 tasks      | elapsed:    0.0s\n",
      "[Parallel(n_jobs=8)]: Done  54 tasks      | elapsed:    0.0s\n",
      "[Parallel(n_jobs=8)]: Done  55 tasks      | elapsed:    0.0s\n",
      "[Parallel(n_jobs=8)]: Done  56 tasks      | elapsed:    0.0s\n",
      "[Parallel(n_jobs=8)]: Done  57 tasks      | elapsed:    0.0s\n",
      "[Parallel(n_jobs=8)]: Done  58 tasks      | elapsed:    0.0s\n",
      "[Parallel(n_jobs=8)]: Done  59 tasks      | elapsed:    0.0s\n",
      "[Parallel(n_jobs=8)]: Done  60 tasks      | elapsed:    0.0s\n",
      "[Parallel(n_jobs=8)]: Done  61 tasks      | elapsed:    0.0s\n",
      "[Parallel(n_jobs=8)]: Done  62 tasks      | elapsed:    0.0s\n",
      "[Parallel(n_jobs=8)]: Done  63 tasks      | elapsed:    0.0s\n",
      "[Parallel(n_jobs=8)]: Done  64 tasks      | elapsed:    0.0s\n",
      "[Parallel(n_jobs=8)]: Done  65 tasks      | elapsed:    0.0s\n",
      "[Parallel(n_jobs=8)]: Done  66 tasks      | elapsed:    0.0s\n",
      "[Parallel(n_jobs=8)]: Done  67 tasks      | elapsed:    0.0s\n",
      "[Parallel(n_jobs=8)]: Done  68 tasks      | elapsed:    0.0s\n",
      "[Parallel(n_jobs=8)]: Done  69 tasks      | elapsed:    0.0s\n",
      "[Parallel(n_jobs=8)]: Done  70 tasks      | elapsed:    0.0s\n",
      "[Parallel(n_jobs=8)]: Done  71 tasks      | elapsed:    0.0s\n",
      "[Parallel(n_jobs=8)]: Done  72 tasks      | elapsed:    0.0s\n",
      "[Parallel(n_jobs=8)]: Done  73 tasks      | elapsed:    0.0s\n",
      "[Parallel(n_jobs=8)]: Done  74 tasks      | elapsed:    0.0s\n",
      "[Parallel(n_jobs=8)]: Done  75 tasks      | elapsed:    0.0s\n",
      "[Parallel(n_jobs=8)]: Done  76 tasks      | elapsed:    0.0s\n",
      "[Parallel(n_jobs=8)]: Done  77 tasks      | elapsed:    0.0s\n",
      "[Parallel(n_jobs=8)]: Done  78 tasks      | elapsed:    0.0s\n",
      "[Parallel(n_jobs=8)]: Done  79 tasks      | elapsed:    0.0s\n",
      "[Parallel(n_jobs=8)]: Done  80 tasks      | elapsed:    0.0s\n",
      "[Parallel(n_jobs=8)]: Done  81 tasks      | elapsed:    0.0s\n",
      "[Parallel(n_jobs=8)]: Done  82 tasks      | elapsed:    0.0s\n",
      "[Parallel(n_jobs=8)]: Done  83 tasks      | elapsed:    0.0s\n",
      "[Parallel(n_jobs=8)]: Done  84 tasks      | elapsed:    0.0s\n",
      "[Parallel(n_jobs=8)]: Done  85 tasks      | elapsed:    0.0s\n",
      "[Parallel(n_jobs=8)]: Done  86 tasks      | elapsed:    0.0s\n",
      "[Parallel(n_jobs=8)]: Done  87 tasks      | elapsed:    0.0s\n",
      "[Parallel(n_jobs=8)]: Done  88 tasks      | elapsed:    0.0s\n",
      "[Parallel(n_jobs=8)]: Done  89 tasks      | elapsed:    0.0s\n",
      "[Parallel(n_jobs=8)]: Done  90 tasks      | elapsed:    0.0s\n",
      "[Parallel(n_jobs=8)]: Done  91 tasks      | elapsed:    0.0s\n",
      "[Parallel(n_jobs=8)]: Done  92 tasks      | elapsed:    0.0s\n",
      "[Parallel(n_jobs=8)]: Done  93 tasks      | elapsed:    0.0s\n",
      "[Parallel(n_jobs=8)]: Done  94 tasks      | elapsed:    0.0s\n",
      "[Parallel(n_jobs=8)]: Done  95 tasks      | elapsed:    0.0s\n",
      "[Parallel(n_jobs=8)]: Done  96 tasks      | elapsed:    0.0s\n",
      "[Parallel(n_jobs=8)]: Done  97 tasks      | elapsed:    0.0s\n",
      "[Parallel(n_jobs=8)]: Done  98 tasks      | elapsed:    0.0s\n",
      "[Parallel(n_jobs=8)]: Done  99 tasks      | elapsed:    0.0s\n",
      "[Parallel(n_jobs=8)]: Done 100 tasks      | elapsed:    0.0s\n",
      "[Parallel(n_jobs=8)]: Done 101 tasks      | elapsed:    0.0s\n",
      "[Parallel(n_jobs=8)]: Done 102 tasks      | elapsed:    0.1s\n",
      "[Parallel(n_jobs=8)]: Done 103 tasks      | elapsed:    0.1s\n",
      "[Parallel(n_jobs=8)]: Done 104 tasks      | elapsed:    0.1s\n",
      "[Parallel(n_jobs=8)]: Done 105 tasks      | elapsed:    0.1s\n",
      "[Parallel(n_jobs=8)]: Done 106 tasks      | elapsed:    0.1s\n",
      "[Parallel(n_jobs=8)]: Done 107 tasks      | elapsed:    0.1s\n",
      "[Parallel(n_jobs=8)]: Done 108 tasks      | elapsed:    0.1s\n",
      "[Parallel(n_jobs=8)]: Done 109 tasks      | elapsed:    0.1s\n",
      "[Parallel(n_jobs=8)]: Done 110 tasks      | elapsed:    0.1s\n",
      "[Parallel(n_jobs=8)]: Done 111 tasks      | elapsed:    0.1s\n",
      "[Parallel(n_jobs=8)]: Done 112 tasks      | elapsed:    0.1s\n",
      "[Parallel(n_jobs=8)]: Done 113 tasks      | elapsed:    0.1s\n",
      "[Parallel(n_jobs=8)]: Done 114 tasks      | elapsed:    0.1s\n",
      "[Parallel(n_jobs=8)]: Done 115 tasks      | elapsed:    0.1s\n",
      "[Parallel(n_jobs=8)]: Done 116 tasks      | elapsed:    0.1s\n",
      "[Parallel(n_jobs=8)]: Done 117 tasks      | elapsed:    0.1s\n",
      "[Parallel(n_jobs=8)]: Done 118 tasks      | elapsed:    0.1s\n",
      "[Parallel(n_jobs=8)]: Done 119 tasks      | elapsed:    0.1s\n",
      "[Parallel(n_jobs=8)]: Done 120 tasks      | elapsed:    0.1s\n",
      "[Parallel(n_jobs=8)]: Done 121 tasks      | elapsed:    0.1s\n",
      "[Parallel(n_jobs=8)]: Done 122 tasks      | elapsed:    0.1s\n",
      "[Parallel(n_jobs=8)]: Done 123 tasks      | elapsed:    0.1s\n",
      "[Parallel(n_jobs=8)]: Done 124 tasks      | elapsed:    0.1s\n",
      "[Parallel(n_jobs=8)]: Done 125 tasks      | elapsed:    0.1s\n",
      "[Parallel(n_jobs=8)]: Done 126 tasks      | elapsed:    0.1s\n",
      "[Parallel(n_jobs=8)]: Done 127 tasks      | elapsed:    0.1s\n",
      "[Parallel(n_jobs=8)]: Done 128 tasks      | elapsed:    0.1s\n",
      "[Parallel(n_jobs=8)]: Done 129 tasks      | elapsed:    0.1s\n",
      "[Parallel(n_jobs=8)]: Done 130 tasks      | elapsed:    0.1s\n",
      "[Parallel(n_jobs=8)]: Done 131 tasks      | elapsed:    0.1s\n",
      "[Parallel(n_jobs=8)]: Done 132 tasks      | elapsed:    0.1s\n",
      "[Parallel(n_jobs=8)]: Done 133 tasks      | elapsed:    0.1s\n",
      "[Parallel(n_jobs=8)]: Done 134 tasks      | elapsed:    0.1s\n",
      "[Parallel(n_jobs=8)]: Done 135 tasks      | elapsed:    0.1s\n",
      "[Parallel(n_jobs=8)]: Done 136 tasks      | elapsed:    0.1s\n",
      "[Parallel(n_jobs=8)]: Done 137 tasks      | elapsed:    0.1s\n",
      "[Parallel(n_jobs=8)]: Done 138 tasks      | elapsed:    0.1s\n",
      "[Parallel(n_jobs=8)]: Done 139 tasks      | elapsed:    0.1s\n",
      "[Parallel(n_jobs=8)]: Done 140 tasks      | elapsed:    0.1s\n",
      "[Parallel(n_jobs=8)]: Done 141 tasks      | elapsed:    0.1s\n",
      "[Parallel(n_jobs=8)]: Done 142 tasks      | elapsed:    0.1s\n",
      "[Parallel(n_jobs=8)]: Done 143 tasks      | elapsed:    0.1s\n",
      "[Parallel(n_jobs=8)]: Done 144 tasks      | elapsed:    0.1s\n",
      "[Parallel(n_jobs=8)]: Done 145 tasks      | elapsed:    0.1s\n",
      "[Parallel(n_jobs=8)]: Done 146 tasks      | elapsed:    0.1s\n",
      "[Parallel(n_jobs=8)]: Done 147 tasks      | elapsed:    0.1s\n",
      "[Parallel(n_jobs=8)]: Done 148 tasks      | elapsed:    0.1s\n",
      "[Parallel(n_jobs=8)]: Done 149 tasks      | elapsed:    0.1s\n",
      "[Parallel(n_jobs=8)]: Done 150 tasks      | elapsed:    0.1s\n",
      "[Parallel(n_jobs=8)]: Done 151 tasks      | elapsed:    0.1s\n",
      "[Parallel(n_jobs=8)]: Done 152 tasks      | elapsed:    0.1s\n",
      "[Parallel(n_jobs=8)]: Done 153 tasks      | elapsed:    0.1s\n",
      "[Parallel(n_jobs=8)]: Done 154 tasks      | elapsed:    0.1s\n",
      "[Parallel(n_jobs=8)]: Done 155 tasks      | elapsed:    0.1s\n",
      "[Parallel(n_jobs=8)]: Done 156 tasks      | elapsed:    0.1s\n",
      "[Parallel(n_jobs=8)]: Done 157 tasks      | elapsed:    0.1s\n",
      "[Parallel(n_jobs=8)]: Done 158 tasks      | elapsed:    0.1s\n",
      "[Parallel(n_jobs=8)]: Done 159 tasks      | elapsed:    0.1s\n",
      "[Parallel(n_jobs=8)]: Done 160 tasks      | elapsed:    0.1s\n",
      "[Parallel(n_jobs=8)]: Done 161 tasks      | elapsed:    0.1s\n",
      "[Parallel(n_jobs=8)]: Done 162 tasks      | elapsed:    0.1s\n",
      "[Parallel(n_jobs=8)]: Done 163 tasks      | elapsed:    0.1s\n",
      "[Parallel(n_jobs=8)]: Done 164 tasks      | elapsed:    0.1s\n",
      "[Parallel(n_jobs=8)]: Done 165 tasks      | elapsed:    0.1s\n",
      "[Parallel(n_jobs=8)]: Done 166 tasks      | elapsed:    0.1s\n",
      "[Parallel(n_jobs=8)]: Done 167 tasks      | elapsed:    0.1s\n",
      "[Parallel(n_jobs=8)]: Done 168 tasks      | elapsed:    0.1s\n",
      "[Parallel(n_jobs=8)]: Done 169 tasks      | elapsed:    0.1s\n",
      "[Parallel(n_jobs=8)]: Done 170 tasks      | elapsed:    0.1s\n",
      "[Parallel(n_jobs=8)]: Done 171 tasks      | elapsed:    0.1s\n",
      "[Parallel(n_jobs=8)]: Done 172 tasks      | elapsed:    0.1s\n",
      "[Parallel(n_jobs=8)]: Done 173 tasks      | elapsed:    0.1s\n",
      "[Parallel(n_jobs=8)]: Done 174 tasks      | elapsed:    0.1s\n",
      "[Parallel(n_jobs=8)]: Done 175 tasks      | elapsed:    0.1s\n",
      "[Parallel(n_jobs=8)]: Done 176 tasks      | elapsed:    0.1s\n",
      "[Parallel(n_jobs=8)]: Done 177 tasks      | elapsed:    0.1s\n",
      "[Parallel(n_jobs=8)]: Done 178 tasks      | elapsed:    0.1s\n",
      "[Parallel(n_jobs=8)]: Done 179 tasks      | elapsed:    0.1s\n",
      "[Parallel(n_jobs=8)]: Done 180 tasks      | elapsed:    0.1s\n",
      "[Parallel(n_jobs=8)]: Done 181 tasks      | elapsed:    0.1s\n",
      "[Parallel(n_jobs=8)]: Done 182 tasks      | elapsed:    0.1s\n",
      "[Parallel(n_jobs=8)]: Done 183 tasks      | elapsed:    0.1s\n",
      "[Parallel(n_jobs=8)]: Done 184 tasks      | elapsed:    0.1s\n",
      "[Parallel(n_jobs=8)]: Done 185 tasks      | elapsed:    0.1s\n",
      "[Parallel(n_jobs=8)]: Done 196 out of 200 | elapsed:    0.1s remaining:    0.0s\n",
      "[Parallel(n_jobs=8)]: Done 200 out of 200 | elapsed:    0.1s finished\n",
      "[Parallel(n_jobs=-1)]: Using backend LokyBackend with 8 concurrent workers.\n"
     ]
    },
    {
     "name": "stderr",
     "output_type": "stream",
     "text": [
      "[Parallel(n_jobs=-1)]: Done   1 tasks      | elapsed:    0.1s\n",
      "[Parallel(n_jobs=-1)]: Batch computation too fast (0.0947s.) Setting batch_size=2.\n",
      "[Parallel(n_jobs=-1)]: Done   2 tasks      | elapsed:    0.1s\n",
      "[Parallel(n_jobs=-1)]: Done   3 tasks      | elapsed:    0.1s\n",
      "[Parallel(n_jobs=-1)]: Done   4 tasks      | elapsed:    0.1s\n",
      "[Parallel(n_jobs=-1)]: Done   5 tasks      | elapsed:    0.1s\n",
      "[Parallel(n_jobs=-1)]: Done   6 tasks      | elapsed:    0.1s\n",
      "[Parallel(n_jobs=-1)]: Done   7 tasks      | elapsed:    0.1s\n",
      "[Parallel(n_jobs=-1)]: Done   8 tasks      | elapsed:    0.1s\n",
      "[Parallel(n_jobs=-1)]: Done   9 tasks      | elapsed:    0.2s\n",
      "[Parallel(n_jobs=-1)]: Done  10 tasks      | elapsed:    0.2s\n",
      "[Parallel(n_jobs=-1)]: Done  11 tasks      | elapsed:    0.2s\n",
      "[Parallel(n_jobs=-1)]: Done  12 tasks      | elapsed:    0.2s\n",
      "[Parallel(n_jobs=-1)]: Done  13 tasks      | elapsed:    0.2s\n",
      "[Parallel(n_jobs=-1)]: Done  14 tasks      | elapsed:    0.2s\n",
      "[Parallel(n_jobs=-1)]: Done  15 tasks      | elapsed:    0.2s\n",
      "[Parallel(n_jobs=-1)]: Done  16 tasks      | elapsed:    0.2s\n",
      "[Parallel(n_jobs=-1)]: Done  18 tasks      | elapsed:    0.3s\n",
      "[Parallel(n_jobs=-1)]: Batch computation too fast (0.1643s.) Setting batch_size=4.\n",
      "[Parallel(n_jobs=-1)]: Done  20 tasks      | elapsed:    0.3s\n",
      "[Parallel(n_jobs=-1)]: Done  22 tasks      | elapsed:    0.3s\n",
      "[Parallel(n_jobs=-1)]: Done  24 tasks      | elapsed:    0.3s\n",
      "[Parallel(n_jobs=-1)]: Done  26 tasks      | elapsed:    0.3s\n",
      "[Parallel(n_jobs=-1)]: Done  28 tasks      | elapsed:    0.3s\n",
      "[Parallel(n_jobs=-1)]: Done  30 tasks      | elapsed:    0.3s\n",
      "[Parallel(n_jobs=-1)]: Done  32 tasks      | elapsed:    0.3s\n",
      "[Parallel(n_jobs=-1)]: Done  34 tasks      | elapsed:    0.4s\n",
      "[Parallel(n_jobs=-1)]: Done  36 tasks      | elapsed:    0.4s\n",
      "[Parallel(n_jobs=-1)]: Done  38 tasks      | elapsed:    0.4s\n",
      "[Parallel(n_jobs=-1)]: Done  40 tasks      | elapsed:    0.4s\n",
      "[Parallel(n_jobs=-1)]: Done  42 tasks      | elapsed:    0.4s\n",
      "[Parallel(n_jobs=-1)]: Done  44 tasks      | elapsed:    0.4s\n",
      "[Parallel(n_jobs=-1)]: Done  46 tasks      | elapsed:    0.4s\n",
      "[Parallel(n_jobs=-1)]: Done  48 tasks      | elapsed:    0.4s\n",
      "[Parallel(n_jobs=-1)]: Done  52 tasks      | elapsed:    0.6s\n",
      "[Parallel(n_jobs=-1)]: Done  56 tasks      | elapsed:    0.6s\n",
      "[Parallel(n_jobs=-1)]: Done  60 tasks      | elapsed:    0.6s\n",
      "[Parallel(n_jobs=-1)]: Done  64 tasks      | elapsed:    0.6s\n",
      "[Parallel(n_jobs=-1)]: Done  68 tasks      | elapsed:    0.7s\n",
      "[Parallel(n_jobs=-1)]: Done  72 tasks      | elapsed:    0.7s\n",
      "[Parallel(n_jobs=-1)]: Done  76 tasks      | elapsed:    0.7s\n",
      "[Parallel(n_jobs=-1)]: Done  80 tasks      | elapsed:    0.7s\n",
      "[Parallel(n_jobs=-1)]: Done  84 tasks      | elapsed:    0.8s\n",
      "[Parallel(n_jobs=-1)]: Done  88 tasks      | elapsed:    0.8s\n",
      "[Parallel(n_jobs=-1)]: Done  92 tasks      | elapsed:    0.9s\n",
      "[Parallel(n_jobs=-1)]: Done  96 tasks      | elapsed:    0.9s\n",
      "[Parallel(n_jobs=-1)]: Done 100 tasks      | elapsed:    0.9s\n",
      "[Parallel(n_jobs=-1)]: Done 104 tasks      | elapsed:    0.9s\n",
      "[Parallel(n_jobs=-1)]: Done 108 tasks      | elapsed:    0.9s\n",
      "[Parallel(n_jobs=-1)]: Done 112 tasks      | elapsed:    0.9s\n",
      "[Parallel(n_jobs=-1)]: Done 116 tasks      | elapsed:    1.0s\n",
      "[Parallel(n_jobs=-1)]: Done 120 tasks      | elapsed:    1.0s\n",
      "[Parallel(n_jobs=-1)]: Done 124 tasks      | elapsed:    1.0s\n",
      "[Parallel(n_jobs=-1)]: Done 128 tasks      | elapsed:    1.1s\n",
      "[Parallel(n_jobs=-1)]: Done 132 tasks      | elapsed:    1.1s\n",
      "[Parallel(n_jobs=-1)]: Done 136 tasks      | elapsed:    1.1s\n",
      "[Parallel(n_jobs=-1)]: Done 140 tasks      | elapsed:    1.1s\n",
      "[Parallel(n_jobs=-1)]: Done 144 tasks      | elapsed:    1.1s\n",
      "[Parallel(n_jobs=-1)]: Done 148 tasks      | elapsed:    1.2s\n",
      "[Parallel(n_jobs=-1)]: Done 152 tasks      | elapsed:    1.2s\n",
      "[Parallel(n_jobs=-1)]: Done 156 tasks      | elapsed:    1.2s\n",
      "[Parallel(n_jobs=-1)]: Done 160 tasks      | elapsed:    1.2s\n",
      "[Parallel(n_jobs=-1)]: Done 164 tasks      | elapsed:    1.2s\n",
      "[Parallel(n_jobs=-1)]: Done 165 tasks      | elapsed:    1.2s\n",
      "[Parallel(n_jobs=-1)]: Done 169 tasks      | elapsed:    1.2s\n",
      "[Parallel(n_jobs=-1)]: Done 170 tasks      | elapsed:    1.3s\n",
      "[Parallel(n_jobs=-1)]: Done 174 tasks      | elapsed:    1.3s\n",
      "[Parallel(n_jobs=-1)]: Done 175 tasks      | elapsed:    1.3s\n",
      "[Parallel(n_jobs=-1)]: Done 179 tasks      | elapsed:    1.3s\n",
      "[Parallel(n_jobs=-1)]: Done 180 tasks      | elapsed:    1.3s\n",
      "[Parallel(n_jobs=-1)]: Done 181 tasks      | elapsed:    1.3s\n",
      "[Parallel(n_jobs=-1)]: Done 182 tasks      | elapsed:    1.3s\n",
      "[Parallel(n_jobs=-1)]: Done 183 tasks      | elapsed:    1.3s\n",
      "[Parallel(n_jobs=-1)]: Done 184 tasks      | elapsed:    1.3s\n",
      "[Parallel(n_jobs=-1)]: Done 185 tasks      | elapsed:    1.3s\n",
      "[Parallel(n_jobs=-1)]: Done 196 out of 200 | elapsed:    1.4s remaining:    0.0s\n",
      "[Parallel(n_jobs=-1)]: Done 200 out of 200 | elapsed:    1.4s finished\n"
     ]
    },
    {
     "name": "stdout",
     "output_type": "stream",
     "text": [
      "Using ThreadingBackend as joblib.Parallel backend instead of LokyBackend as the latter does not provide shared memory semantics.\n"
     ]
    },
    {
     "name": "stderr",
     "output_type": "stream",
     "text": [
      "[Parallel(n_jobs=8)]: Using backend ThreadingBackend with 8 concurrent workers.\n",
      "[Parallel(n_jobs=8)]: Done   1 tasks      | elapsed:    0.0s\n",
      "[Parallel(n_jobs=8)]: Done   2 tasks      | elapsed:    0.0s\n",
      "[Parallel(n_jobs=8)]: Done   3 tasks      | elapsed:    0.0s\n",
      "[Parallel(n_jobs=8)]: Done   4 tasks      | elapsed:    0.0s\n",
      "[Parallel(n_jobs=8)]: Done   5 tasks      | elapsed:    0.0s\n",
      "[Parallel(n_jobs=8)]: Done   6 tasks      | elapsed:    0.0s\n",
      "[Parallel(n_jobs=8)]: Done   7 tasks      | elapsed:    0.0s\n",
      "[Parallel(n_jobs=8)]: Done   8 tasks      | elapsed:    0.0s\n",
      "[Parallel(n_jobs=8)]: Done   9 tasks      | elapsed:    0.0s\n",
      "[Parallel(n_jobs=8)]: Done  10 tasks      | elapsed:    0.0s\n",
      "[Parallel(n_jobs=8)]: Done  11 tasks      | elapsed:    0.0s\n",
      "[Parallel(n_jobs=8)]: Done  12 tasks      | elapsed:    0.0s\n",
      "[Parallel(n_jobs=8)]: Done  13 tasks      | elapsed:    0.0s\n",
      "[Parallel(n_jobs=8)]: Done  14 tasks      | elapsed:    0.0s\n",
      "[Parallel(n_jobs=8)]: Done  15 tasks      | elapsed:    0.0s\n",
      "[Parallel(n_jobs=8)]: Done  16 tasks      | elapsed:    0.0s\n",
      "[Parallel(n_jobs=8)]: Done  17 tasks      | elapsed:    0.0s\n",
      "[Parallel(n_jobs=8)]: Done  18 tasks      | elapsed:    0.0s\n",
      "[Parallel(n_jobs=8)]: Done  19 tasks      | elapsed:    0.0s\n",
      "[Parallel(n_jobs=8)]: Done  20 tasks      | elapsed:    0.0s\n",
      "[Parallel(n_jobs=8)]: Done  21 tasks      | elapsed:    0.0s\n",
      "[Parallel(n_jobs=8)]: Done  22 tasks      | elapsed:    0.0s\n",
      "[Parallel(n_jobs=8)]: Done  23 tasks      | elapsed:    0.0s\n",
      "[Parallel(n_jobs=8)]: Done  24 tasks      | elapsed:    0.0s\n",
      "[Parallel(n_jobs=8)]: Done  25 tasks      | elapsed:    0.0s\n",
      "[Parallel(n_jobs=8)]: Done  26 tasks      | elapsed:    0.0s\n",
      "[Parallel(n_jobs=8)]: Done  27 tasks      | elapsed:    0.0s\n",
      "[Parallel(n_jobs=8)]: Done  28 tasks      | elapsed:    0.0s\n",
      "[Parallel(n_jobs=8)]: Done  29 tasks      | elapsed:    0.0s\n",
      "[Parallel(n_jobs=8)]: Done  30 tasks      | elapsed:    0.0s\n",
      "[Parallel(n_jobs=8)]: Done  31 tasks      | elapsed:    0.0s\n",
      "[Parallel(n_jobs=8)]: Done  32 tasks      | elapsed:    0.0s\n",
      "[Parallel(n_jobs=8)]: Done  33 tasks      | elapsed:    0.0s\n",
      "[Parallel(n_jobs=8)]: Done  34 tasks      | elapsed:    0.0s\n",
      "[Parallel(n_jobs=8)]: Done  35 tasks      | elapsed:    0.0s\n",
      "[Parallel(n_jobs=8)]: Done  36 tasks      | elapsed:    0.0s\n",
      "[Parallel(n_jobs=8)]: Done  37 tasks      | elapsed:    0.0s\n",
      "[Parallel(n_jobs=8)]: Done  38 tasks      | elapsed:    0.0s\n",
      "[Parallel(n_jobs=8)]: Done  39 tasks      | elapsed:    0.0s\n",
      "[Parallel(n_jobs=8)]: Done  40 tasks      | elapsed:    0.0s\n",
      "[Parallel(n_jobs=8)]: Done  41 tasks      | elapsed:    0.0s\n",
      "[Parallel(n_jobs=8)]: Done  42 tasks      | elapsed:    0.0s\n",
      "[Parallel(n_jobs=8)]: Done  43 tasks      | elapsed:    0.0s\n",
      "[Parallel(n_jobs=8)]: Done  44 tasks      | elapsed:    0.0s\n",
      "[Parallel(n_jobs=8)]: Done  45 tasks      | elapsed:    0.0s\n",
      "[Parallel(n_jobs=8)]: Done  46 tasks      | elapsed:    0.0s\n",
      "[Parallel(n_jobs=8)]: Done  47 tasks      | elapsed:    0.0s\n",
      "[Parallel(n_jobs=8)]: Done  48 tasks      | elapsed:    0.0s\n",
      "[Parallel(n_jobs=8)]: Done  49 tasks      | elapsed:    0.0s\n",
      "[Parallel(n_jobs=8)]: Done  50 tasks      | elapsed:    0.0s\n",
      "[Parallel(n_jobs=8)]: Done  51 tasks      | elapsed:    0.0s\n",
      "[Parallel(n_jobs=8)]: Done  52 tasks      | elapsed:    0.0s\n",
      "[Parallel(n_jobs=8)]: Done  53 tasks      | elapsed:    0.0s\n",
      "[Parallel(n_jobs=8)]: Done  54 tasks      | elapsed:    0.0s\n",
      "[Parallel(n_jobs=8)]: Done  55 tasks      | elapsed:    0.0s\n",
      "[Parallel(n_jobs=8)]: Done  56 tasks      | elapsed:    0.0s\n",
      "[Parallel(n_jobs=8)]: Done  57 tasks      | elapsed:    0.0s\n",
      "[Parallel(n_jobs=8)]: Done  58 tasks      | elapsed:    0.0s\n",
      "[Parallel(n_jobs=8)]: Done  59 tasks      | elapsed:    0.0s\n",
      "[Parallel(n_jobs=8)]: Done  60 tasks      | elapsed:    0.0s\n",
      "[Parallel(n_jobs=8)]: Done  61 tasks      | elapsed:    0.0s\n",
      "[Parallel(n_jobs=8)]: Done  62 tasks      | elapsed:    0.0s\n",
      "[Parallel(n_jobs=8)]: Done  63 tasks      | elapsed:    0.0s\n",
      "[Parallel(n_jobs=8)]: Done  64 tasks      | elapsed:    0.0s\n",
      "[Parallel(n_jobs=8)]: Done  65 tasks      | elapsed:    0.0s\n",
      "[Parallel(n_jobs=8)]: Done  66 tasks      | elapsed:    0.0s\n",
      "[Parallel(n_jobs=8)]: Done  67 tasks      | elapsed:    0.0s\n",
      "[Parallel(n_jobs=8)]: Done  68 tasks      | elapsed:    0.0s\n",
      "[Parallel(n_jobs=8)]: Done  69 tasks      | elapsed:    0.0s\n",
      "[Parallel(n_jobs=8)]: Done  70 tasks      | elapsed:    0.0s\n",
      "[Parallel(n_jobs=8)]: Done  71 tasks      | elapsed:    0.0s\n",
      "[Parallel(n_jobs=8)]: Done  72 tasks      | elapsed:    0.0s\n",
      "[Parallel(n_jobs=8)]: Done  73 tasks      | elapsed:    0.0s\n",
      "[Parallel(n_jobs=8)]: Done  74 tasks      | elapsed:    0.0s\n",
      "[Parallel(n_jobs=8)]: Done  75 tasks      | elapsed:    0.0s\n",
      "[Parallel(n_jobs=8)]: Done  76 tasks      | elapsed:    0.0s\n",
      "[Parallel(n_jobs=8)]: Done  77 tasks      | elapsed:    0.0s\n",
      "[Parallel(n_jobs=8)]: Done  78 tasks      | elapsed:    0.0s\n",
      "[Parallel(n_jobs=8)]: Done  79 tasks      | elapsed:    0.0s\n",
      "[Parallel(n_jobs=8)]: Done  80 tasks      | elapsed:    0.0s\n",
      "[Parallel(n_jobs=8)]: Done  81 tasks      | elapsed:    0.0s\n",
      "[Parallel(n_jobs=8)]: Done  82 tasks      | elapsed:    0.0s\n",
      "[Parallel(n_jobs=8)]: Done  83 tasks      | elapsed:    0.0s\n",
      "[Parallel(n_jobs=8)]: Done  84 tasks      | elapsed:    0.0s\n",
      "[Parallel(n_jobs=8)]: Done  85 tasks      | elapsed:    0.0s\n",
      "[Parallel(n_jobs=8)]: Done  86 tasks      | elapsed:    0.0s\n",
      "[Parallel(n_jobs=8)]: Done  87 tasks      | elapsed:    0.0s\n",
      "[Parallel(n_jobs=8)]: Done  88 tasks      | elapsed:    0.0s\n",
      "[Parallel(n_jobs=8)]: Done  89 tasks      | elapsed:    0.0s\n",
      "[Parallel(n_jobs=8)]: Done  90 tasks      | elapsed:    0.0s\n",
      "[Parallel(n_jobs=8)]: Done  91 tasks      | elapsed:    0.0s\n",
      "[Parallel(n_jobs=8)]: Done  92 tasks      | elapsed:    0.0s\n",
      "[Parallel(n_jobs=8)]: Done  93 tasks      | elapsed:    0.0s\n",
      "[Parallel(n_jobs=8)]: Done  94 tasks      | elapsed:    0.0s\n",
      "[Parallel(n_jobs=8)]: Done  95 tasks      | elapsed:    0.0s\n",
      "[Parallel(n_jobs=8)]: Done  96 tasks      | elapsed:    0.0s\n",
      "[Parallel(n_jobs=8)]: Done  97 tasks      | elapsed:    0.0s\n",
      "[Parallel(n_jobs=8)]: Done  98 tasks      | elapsed:    0.0s\n",
      "[Parallel(n_jobs=8)]: Done  99 tasks      | elapsed:    0.0s\n",
      "[Parallel(n_jobs=8)]: Done 100 tasks      | elapsed:    0.0s\n",
      "[Parallel(n_jobs=8)]: Done 101 tasks      | elapsed:    0.0s\n",
      "[Parallel(n_jobs=8)]: Done 102 tasks      | elapsed:    0.0s\n",
      "[Parallel(n_jobs=8)]: Done 103 tasks      | elapsed:    0.0s\n",
      "[Parallel(n_jobs=8)]: Done 104 tasks      | elapsed:    0.0s\n",
      "[Parallel(n_jobs=8)]: Done 105 tasks      | elapsed:    0.0s\n",
      "[Parallel(n_jobs=8)]: Done 106 tasks      | elapsed:    0.0s\n",
      "[Parallel(n_jobs=8)]: Done 107 tasks      | elapsed:    0.0s\n",
      "[Parallel(n_jobs=8)]: Done 108 tasks      | elapsed:    0.0s\n",
      "[Parallel(n_jobs=8)]: Done 109 tasks      | elapsed:    0.0s\n",
      "[Parallel(n_jobs=8)]: Done 110 tasks      | elapsed:    0.0s\n",
      "[Parallel(n_jobs=8)]: Done 111 tasks      | elapsed:    0.0s\n",
      "[Parallel(n_jobs=8)]: Done 112 tasks      | elapsed:    0.0s\n",
      "[Parallel(n_jobs=8)]: Done 113 tasks      | elapsed:    0.1s\n",
      "[Parallel(n_jobs=8)]: Done 114 tasks      | elapsed:    0.1s\n",
      "[Parallel(n_jobs=8)]: Done 115 tasks      | elapsed:    0.1s\n",
      "[Parallel(n_jobs=8)]: Done 116 tasks      | elapsed:    0.1s\n",
      "[Parallel(n_jobs=8)]: Done 117 tasks      | elapsed:    0.1s\n",
      "[Parallel(n_jobs=8)]: Done 118 tasks      | elapsed:    0.1s\n",
      "[Parallel(n_jobs=8)]: Done 119 tasks      | elapsed:    0.1s\n",
      "[Parallel(n_jobs=8)]: Done 120 tasks      | elapsed:    0.1s\n",
      "[Parallel(n_jobs=8)]: Done 121 tasks      | elapsed:    0.1s\n",
      "[Parallel(n_jobs=8)]: Done 122 tasks      | elapsed:    0.1s\n",
      "[Parallel(n_jobs=8)]: Done 123 tasks      | elapsed:    0.1s\n",
      "[Parallel(n_jobs=8)]: Done 124 tasks      | elapsed:    0.1s\n",
      "[Parallel(n_jobs=8)]: Done 125 tasks      | elapsed:    0.1s\n",
      "[Parallel(n_jobs=8)]: Done 126 tasks      | elapsed:    0.1s\n",
      "[Parallel(n_jobs=8)]: Done 127 tasks      | elapsed:    0.1s\n",
      "[Parallel(n_jobs=8)]: Done 128 tasks      | elapsed:    0.1s\n",
      "[Parallel(n_jobs=8)]: Done 129 tasks      | elapsed:    0.1s\n",
      "[Parallel(n_jobs=8)]: Done 130 tasks      | elapsed:    0.1s\n",
      "[Parallel(n_jobs=8)]: Done 131 tasks      | elapsed:    0.1s\n",
      "[Parallel(n_jobs=8)]: Done 132 tasks      | elapsed:    0.1s\n",
      "[Parallel(n_jobs=8)]: Done 133 tasks      | elapsed:    0.1s\n",
      "[Parallel(n_jobs=8)]: Done 134 tasks      | elapsed:    0.1s\n",
      "[Parallel(n_jobs=8)]: Done 135 tasks      | elapsed:    0.1s\n",
      "[Parallel(n_jobs=8)]: Done 136 tasks      | elapsed:    0.1s\n",
      "[Parallel(n_jobs=8)]: Done 137 tasks      | elapsed:    0.1s\n",
      "[Parallel(n_jobs=8)]: Done 138 tasks      | elapsed:    0.1s\n",
      "[Parallel(n_jobs=8)]: Done 139 tasks      | elapsed:    0.1s\n",
      "[Parallel(n_jobs=8)]: Done 140 tasks      | elapsed:    0.1s\n",
      "[Parallel(n_jobs=8)]: Done 141 tasks      | elapsed:    0.1s\n",
      "[Parallel(n_jobs=8)]: Done 142 tasks      | elapsed:    0.1s\n",
      "[Parallel(n_jobs=8)]: Done 143 tasks      | elapsed:    0.1s\n",
      "[Parallel(n_jobs=8)]: Done 144 tasks      | elapsed:    0.1s\n",
      "[Parallel(n_jobs=8)]: Done 145 tasks      | elapsed:    0.1s\n",
      "[Parallel(n_jobs=8)]: Done 146 tasks      | elapsed:    0.1s\n",
      "[Parallel(n_jobs=8)]: Done 147 tasks      | elapsed:    0.1s\n",
      "[Parallel(n_jobs=8)]: Done 148 tasks      | elapsed:    0.1s\n",
      "[Parallel(n_jobs=8)]: Done 149 tasks      | elapsed:    0.1s\n",
      "[Parallel(n_jobs=8)]: Done 150 tasks      | elapsed:    0.1s\n",
      "[Parallel(n_jobs=8)]: Done 151 tasks      | elapsed:    0.1s\n",
      "[Parallel(n_jobs=8)]: Done 152 tasks      | elapsed:    0.1s\n",
      "[Parallel(n_jobs=8)]: Done 153 tasks      | elapsed:    0.1s\n",
      "[Parallel(n_jobs=8)]: Done 154 tasks      | elapsed:    0.1s\n",
      "[Parallel(n_jobs=8)]: Done 155 tasks      | elapsed:    0.1s\n",
      "[Parallel(n_jobs=8)]: Done 156 tasks      | elapsed:    0.1s\n",
      "[Parallel(n_jobs=8)]: Done 157 tasks      | elapsed:    0.1s\n",
      "[Parallel(n_jobs=8)]: Done 158 tasks      | elapsed:    0.1s\n",
      "[Parallel(n_jobs=8)]: Done 159 tasks      | elapsed:    0.1s\n",
      "[Parallel(n_jobs=8)]: Done 160 tasks      | elapsed:    0.1s\n",
      "[Parallel(n_jobs=8)]: Done 161 tasks      | elapsed:    0.1s\n",
      "[Parallel(n_jobs=8)]: Done 162 tasks      | elapsed:    0.1s\n",
      "[Parallel(n_jobs=8)]: Done 163 tasks      | elapsed:    0.1s\n",
      "[Parallel(n_jobs=8)]: Done 164 tasks      | elapsed:    0.1s\n",
      "[Parallel(n_jobs=8)]: Done 165 tasks      | elapsed:    0.1s\n",
      "[Parallel(n_jobs=8)]: Done 166 tasks      | elapsed:    0.1s\n",
      "[Parallel(n_jobs=8)]: Done 167 tasks      | elapsed:    0.1s\n",
      "[Parallel(n_jobs=8)]: Done 168 tasks      | elapsed:    0.1s\n",
      "[Parallel(n_jobs=8)]: Done 169 tasks      | elapsed:    0.1s\n",
      "[Parallel(n_jobs=8)]: Done 170 tasks      | elapsed:    0.1s\n",
      "[Parallel(n_jobs=8)]: Done 171 tasks      | elapsed:    0.1s\n",
      "[Parallel(n_jobs=8)]: Done 172 tasks      | elapsed:    0.1s\n",
      "[Parallel(n_jobs=8)]: Done 173 tasks      | elapsed:    0.1s\n",
      "[Parallel(n_jobs=8)]: Done 174 tasks      | elapsed:    0.1s\n",
      "[Parallel(n_jobs=8)]: Done 175 tasks      | elapsed:    0.1s\n",
      "[Parallel(n_jobs=8)]: Done 176 tasks      | elapsed:    0.1s\n",
      "[Parallel(n_jobs=8)]: Done 177 tasks      | elapsed:    0.1s\n",
      "[Parallel(n_jobs=8)]: Done 178 tasks      | elapsed:    0.1s\n",
      "[Parallel(n_jobs=8)]: Done 179 tasks      | elapsed:    0.1s\n",
      "[Parallel(n_jobs=8)]: Done 180 tasks      | elapsed:    0.1s\n",
      "[Parallel(n_jobs=8)]: Done 181 tasks      | elapsed:    0.1s\n",
      "[Parallel(n_jobs=8)]: Done 182 tasks      | elapsed:    0.1s\n",
      "[Parallel(n_jobs=8)]: Done 183 tasks      | elapsed:    0.1s\n",
      "[Parallel(n_jobs=8)]: Done 184 tasks      | elapsed:    0.1s\n",
      "[Parallel(n_jobs=8)]: Done 185 tasks      | elapsed:    0.1s\n",
      "[Parallel(n_jobs=8)]: Done 196 out of 200 | elapsed:    0.1s remaining:    0.0s\n",
      "[Parallel(n_jobs=8)]: Done 200 out of 200 | elapsed:    0.1s finished\n",
      "[Parallel(n_jobs=-1)]: Using backend LokyBackend with 8 concurrent workers.\n"
     ]
    },
    {
     "name": "stderr",
     "output_type": "stream",
     "text": [
      "[Parallel(n_jobs=-1)]: Done   1 tasks      | elapsed:    0.1s\n",
      "[Parallel(n_jobs=-1)]: Batch computation too fast (0.0613s.) Setting batch_size=2.\n",
      "[Parallel(n_jobs=-1)]: Done   2 tasks      | elapsed:    0.1s\n",
      "[Parallel(n_jobs=-1)]: Done   3 tasks      | elapsed:    0.1s\n",
      "[Parallel(n_jobs=-1)]: Done   4 tasks      | elapsed:    0.1s\n",
      "[Parallel(n_jobs=-1)]: Done   5 tasks      | elapsed:    0.1s\n",
      "[Parallel(n_jobs=-1)]: Done   6 tasks      | elapsed:    0.1s\n",
      "[Parallel(n_jobs=-1)]: Done   7 tasks      | elapsed:    0.1s\n",
      "[Parallel(n_jobs=-1)]: Done   8 tasks      | elapsed:    0.1s\n",
      "[Parallel(n_jobs=-1)]: Done   9 tasks      | elapsed:    0.1s\n",
      "[Parallel(n_jobs=-1)]: Done  10 tasks      | elapsed:    0.1s\n",
      "[Parallel(n_jobs=-1)]: Done  11 tasks      | elapsed:    0.2s\n",
      "[Parallel(n_jobs=-1)]: Done  12 tasks      | elapsed:    0.2s\n",
      "[Parallel(n_jobs=-1)]: Done  13 tasks      | elapsed:    0.2s\n",
      "[Parallel(n_jobs=-1)]: Done  14 tasks      | elapsed:    0.2s\n",
      "[Parallel(n_jobs=-1)]: Done  15 tasks      | elapsed:    0.2s\n",
      "[Parallel(n_jobs=-1)]: Done  16 tasks      | elapsed:    0.2s\n",
      "[Parallel(n_jobs=-1)]: Done  18 tasks      | elapsed:    0.3s\n",
      "[Parallel(n_jobs=-1)]: Batch computation too fast (0.1879s.) Setting batch_size=4.\n",
      "[Parallel(n_jobs=-1)]: Done  20 tasks      | elapsed:    0.3s\n",
      "[Parallel(n_jobs=-1)]: Done  22 tasks      | elapsed:    0.3s\n",
      "[Parallel(n_jobs=-1)]: Done  24 tasks      | elapsed:    0.3s\n",
      "[Parallel(n_jobs=-1)]: Done  26 tasks      | elapsed:    0.3s\n",
      "[Parallel(n_jobs=-1)]: Done  28 tasks      | elapsed:    0.3s\n",
      "[Parallel(n_jobs=-1)]: Done  30 tasks      | elapsed:    0.3s\n",
      "[Parallel(n_jobs=-1)]: Done  32 tasks      | elapsed:    0.3s\n",
      "[Parallel(n_jobs=-1)]: Done  34 tasks      | elapsed:    0.3s\n",
      "[Parallel(n_jobs=-1)]: Done  36 tasks      | elapsed:    0.3s\n",
      "[Parallel(n_jobs=-1)]: Done  38 tasks      | elapsed:    0.4s\n",
      "[Parallel(n_jobs=-1)]: Done  40 tasks      | elapsed:    0.4s\n",
      "[Parallel(n_jobs=-1)]: Done  42 tasks      | elapsed:    0.4s\n",
      "[Parallel(n_jobs=-1)]: Done  44 tasks      | elapsed:    0.4s\n",
      "[Parallel(n_jobs=-1)]: Done  46 tasks      | elapsed:    0.4s\n",
      "[Parallel(n_jobs=-1)]: Done  48 tasks      | elapsed:    0.4s\n",
      "[Parallel(n_jobs=-1)]: Done  52 tasks      | elapsed:    0.5s\n",
      "[Parallel(n_jobs=-1)]: Done  56 tasks      | elapsed:    0.5s\n",
      "[Parallel(n_jobs=-1)]: Done  60 tasks      | elapsed:    0.5s\n",
      "[Parallel(n_jobs=-1)]: Done  64 tasks      | elapsed:    0.5s\n",
      "[Parallel(n_jobs=-1)]: Done  68 tasks      | elapsed:    0.6s\n",
      "[Parallel(n_jobs=-1)]: Done  72 tasks      | elapsed:    0.6s\n",
      "[Parallel(n_jobs=-1)]: Done  76 tasks      | elapsed:    0.6s\n",
      "[Parallel(n_jobs=-1)]: Done  80 tasks      | elapsed:    0.6s\n",
      "[Parallel(n_jobs=-1)]: Done  84 tasks      | elapsed:    0.7s\n",
      "[Parallel(n_jobs=-1)]: Done  88 tasks      | elapsed:    0.7s\n",
      "[Parallel(n_jobs=-1)]: Done  92 tasks      | elapsed:    0.7s\n",
      "[Parallel(n_jobs=-1)]: Done  96 tasks      | elapsed:    0.8s\n",
      "[Parallel(n_jobs=-1)]: Done 100 tasks      | elapsed:    0.8s\n",
      "[Parallel(n_jobs=-1)]: Done 104 tasks      | elapsed:    0.8s\n",
      "[Parallel(n_jobs=-1)]: Done 108 tasks      | elapsed:    0.8s\n",
      "[Parallel(n_jobs=-1)]: Done 112 tasks      | elapsed:    0.8s\n",
      "[Parallel(n_jobs=-1)]: Done 116 tasks      | elapsed:    0.9s\n",
      "[Parallel(n_jobs=-1)]: Done 120 tasks      | elapsed:    0.9s\n",
      "[Parallel(n_jobs=-1)]: Done 124 tasks      | elapsed:    0.9s\n",
      "[Parallel(n_jobs=-1)]: Done 128 tasks      | elapsed:    0.9s\n",
      "[Parallel(n_jobs=-1)]: Done 132 tasks      | elapsed:    1.0s\n",
      "[Parallel(n_jobs=-1)]: Done 136 tasks      | elapsed:    1.0s\n",
      "[Parallel(n_jobs=-1)]: Done 140 tasks      | elapsed:    1.0s\n",
      "[Parallel(n_jobs=-1)]: Done 144 tasks      | elapsed:    1.0s\n",
      "[Parallel(n_jobs=-1)]: Done 148 tasks      | elapsed:    1.1s\n",
      "[Parallel(n_jobs=-1)]: Done 152 tasks      | elapsed:    1.1s\n",
      "[Parallel(n_jobs=-1)]: Done 156 tasks      | elapsed:    1.1s\n",
      "[Parallel(n_jobs=-1)]: Done 160 tasks      | elapsed:    1.1s\n",
      "[Parallel(n_jobs=-1)]: Done 164 tasks      | elapsed:    1.2s\n",
      "[Parallel(n_jobs=-1)]: Done 168 tasks      | elapsed:    1.2s\n",
      "[Parallel(n_jobs=-1)]: Done 172 tasks      | elapsed:    1.2s\n",
      "[Parallel(n_jobs=-1)]: Done 176 tasks      | elapsed:    1.2s\n",
      "[Parallel(n_jobs=-1)]: Done 177 tasks      | elapsed:    1.2s\n",
      "[Parallel(n_jobs=-1)]: Done 178 tasks      | elapsed:    1.2s\n",
      "[Parallel(n_jobs=-1)]: Done 179 tasks      | elapsed:    1.2s\n",
      "[Parallel(n_jobs=-1)]: Done 180 tasks      | elapsed:    1.2s\n",
      "[Parallel(n_jobs=-1)]: Done 181 tasks      | elapsed:    1.2s\n",
      "[Parallel(n_jobs=-1)]: Done 182 tasks      | elapsed:    1.2s\n",
      "[Parallel(n_jobs=-1)]: Done 183 tasks      | elapsed:    1.3s\n",
      "[Parallel(n_jobs=-1)]: Done 184 tasks      | elapsed:    1.3s\n",
      "[Parallel(n_jobs=-1)]: Done 185 tasks      | elapsed:    1.3s\n",
      "[Parallel(n_jobs=-1)]: Done 196 out of 200 | elapsed:    1.3s remaining:    0.0s\n",
      "[Parallel(n_jobs=-1)]: Done 200 out of 200 | elapsed:    1.4s finished\n",
      "[Parallel(n_jobs=8)]: Using backend ThreadingBackend with 8 concurrent workers.\n",
      "[Parallel(n_jobs=8)]: Done   1 tasks      | elapsed:    0.0s\n",
      "[Parallel(n_jobs=8)]: Done   2 tasks      | elapsed:    0.0s\n",
      "[Parallel(n_jobs=8)]: Done   3 tasks      | elapsed:    0.0s\n",
      "[Parallel(n_jobs=8)]: Done   4 tasks      | elapsed:    0.0s\n",
      "[Parallel(n_jobs=8)]: Done   5 tasks      | elapsed:    0.0s\n",
      "[Parallel(n_jobs=8)]: Done   6 tasks      | elapsed:    0.0s\n",
      "[Parallel(n_jobs=8)]: Done   7 tasks      | elapsed:    0.0s\n",
      "[Parallel(n_jobs=8)]: Done   8 tasks      | elapsed:    0.0s\n",
      "[Parallel(n_jobs=8)]: Done   9 tasks      | elapsed:    0.0s\n",
      "[Parallel(n_jobs=8)]: Done  10 tasks      | elapsed:    0.0s\n",
      "[Parallel(n_jobs=8)]: Done  11 tasks      | elapsed:    0.0s\n",
      "[Parallel(n_jobs=8)]: Done  12 tasks      | elapsed:    0.0s\n",
      "[Parallel(n_jobs=8)]: Done  13 tasks      | elapsed:    0.0s\n",
      "[Parallel(n_jobs=8)]: Done  14 tasks      | elapsed:    0.0s\n",
      "[Parallel(n_jobs=8)]: Done  15 tasks      | elapsed:    0.0s\n",
      "[Parallel(n_jobs=8)]: Done  16 tasks      | elapsed:    0.0s\n",
      "[Parallel(n_jobs=8)]: Done  17 tasks      | elapsed:    0.0s\n",
      "[Parallel(n_jobs=8)]: Done  18 tasks      | elapsed:    0.0s\n",
      "[Parallel(n_jobs=8)]: Done  19 tasks      | elapsed:    0.0s\n",
      "[Parallel(n_jobs=8)]: Done  20 tasks      | elapsed:    0.0s\n",
      "[Parallel(n_jobs=8)]: Done  21 tasks      | elapsed:    0.0s\n",
      "[Parallel(n_jobs=8)]: Done  22 tasks      | elapsed:    0.0s\n",
      "[Parallel(n_jobs=8)]: Done  23 tasks      | elapsed:    0.0s\n",
      "[Parallel(n_jobs=8)]: Done  24 tasks      | elapsed:    0.0s\n",
      "[Parallel(n_jobs=8)]: Done  25 tasks      | elapsed:    0.0s\n",
      "[Parallel(n_jobs=8)]: Done  26 tasks      | elapsed:    0.0s\n",
      "[Parallel(n_jobs=8)]: Done  27 tasks      | elapsed:    0.0s\n",
      "[Parallel(n_jobs=8)]: Done  28 tasks      | elapsed:    0.0s\n",
      "[Parallel(n_jobs=8)]: Done  29 tasks      | elapsed:    0.0s\n",
      "[Parallel(n_jobs=8)]: Done  30 tasks      | elapsed:    0.0s\n",
      "[Parallel(n_jobs=8)]: Done  31 tasks      | elapsed:    0.0s\n",
      "[Parallel(n_jobs=8)]: Done  32 tasks      | elapsed:    0.0s\n",
      "[Parallel(n_jobs=8)]: Done  33 tasks      | elapsed:    0.0s\n",
      "[Parallel(n_jobs=8)]: Done  34 tasks      | elapsed:    0.0s\n",
      "[Parallel(n_jobs=8)]: Done  35 tasks      | elapsed:    0.0s\n",
      "[Parallel(n_jobs=8)]: Done  36 tasks      | elapsed:    0.0s\n",
      "[Parallel(n_jobs=8)]: Done  37 tasks      | elapsed:    0.0s\n",
      "[Parallel(n_jobs=8)]: Done  38 tasks      | elapsed:    0.0s\n",
      "[Parallel(n_jobs=8)]: Done  39 tasks      | elapsed:    0.0s\n",
      "[Parallel(n_jobs=8)]: Done  40 tasks      | elapsed:    0.0s\n",
      "[Parallel(n_jobs=8)]: Done  41 tasks      | elapsed:    0.0s\n",
      "[Parallel(n_jobs=8)]: Done  42 tasks      | elapsed:    0.0s\n",
      "[Parallel(n_jobs=8)]: Done  43 tasks      | elapsed:    0.0s\n",
      "[Parallel(n_jobs=8)]: Done  44 tasks      | elapsed:    0.0s\n",
      "[Parallel(n_jobs=8)]: Done  45 tasks      | elapsed:    0.0s\n",
      "[Parallel(n_jobs=8)]: Done  46 tasks      | elapsed:    0.0s\n",
      "[Parallel(n_jobs=8)]: Done  47 tasks      | elapsed:    0.0s\n",
      "[Parallel(n_jobs=8)]: Done  48 tasks      | elapsed:    0.0s\n",
      "[Parallel(n_jobs=8)]: Done  49 tasks      | elapsed:    0.0s\n",
      "[Parallel(n_jobs=8)]: Done  50 tasks      | elapsed:    0.0s\n",
      "[Parallel(n_jobs=8)]: Done  51 tasks      | elapsed:    0.0s\n",
      "[Parallel(n_jobs=8)]: Done  52 tasks      | elapsed:    0.0s\n",
      "[Parallel(n_jobs=8)]: Done  53 tasks      | elapsed:    0.0s\n",
      "[Parallel(n_jobs=8)]: Done  54 tasks      | elapsed:    0.0s\n",
      "[Parallel(n_jobs=8)]: Done  55 tasks      | elapsed:    0.0s\n",
      "[Parallel(n_jobs=8)]: Done  56 tasks      | elapsed:    0.0s\n",
      "[Parallel(n_jobs=8)]: Done  57 tasks      | elapsed:    0.0s\n",
      "[Parallel(n_jobs=8)]: Done  58 tasks      | elapsed:    0.0s\n",
      "[Parallel(n_jobs=8)]: Done  59 tasks      | elapsed:    0.0s\n",
      "[Parallel(n_jobs=8)]: Done  60 tasks      | elapsed:    0.0s\n",
      "[Parallel(n_jobs=8)]: Done  61 tasks      | elapsed:    0.0s\n",
      "[Parallel(n_jobs=8)]: Done  62 tasks      | elapsed:    0.0s\n",
      "[Parallel(n_jobs=8)]: Done  63 tasks      | elapsed:    0.0s\n",
      "[Parallel(n_jobs=8)]: Done  64 tasks      | elapsed:    0.0s\n",
      "[Parallel(n_jobs=8)]: Done  65 tasks      | elapsed:    0.0s\n",
      "[Parallel(n_jobs=8)]: Done  66 tasks      | elapsed:    0.0s\n",
      "[Parallel(n_jobs=8)]: Done  67 tasks      | elapsed:    0.0s\n",
      "[Parallel(n_jobs=8)]: Done  68 tasks      | elapsed:    0.0s\n",
      "[Parallel(n_jobs=8)]: Done  69 tasks      | elapsed:    0.0s\n",
      "[Parallel(n_jobs=8)]: Done  70 tasks      | elapsed:    0.0s\n",
      "[Parallel(n_jobs=8)]: Done  71 tasks      | elapsed:    0.0s\n",
      "[Parallel(n_jobs=8)]: Done  72 tasks      | elapsed:    0.0s\n",
      "[Parallel(n_jobs=8)]: Done  73 tasks      | elapsed:    0.0s\n",
      "[Parallel(n_jobs=8)]: Done  74 tasks      | elapsed:    0.0s\n",
      "[Parallel(n_jobs=8)]: Done  75 tasks      | elapsed:    0.0s\n",
      "[Parallel(n_jobs=8)]: Done  76 tasks      | elapsed:    0.0s\n",
      "[Parallel(n_jobs=8)]: Done  77 tasks      | elapsed:    0.0s\n",
      "[Parallel(n_jobs=8)]: Done  78 tasks      | elapsed:    0.0s\n",
      "[Parallel(n_jobs=8)]: Done  79 tasks      | elapsed:    0.0s\n",
      "[Parallel(n_jobs=8)]: Done  80 tasks      | elapsed:    0.0s\n",
      "[Parallel(n_jobs=8)]: Done  81 tasks      | elapsed:    0.0s\n",
      "[Parallel(n_jobs=8)]: Done  82 tasks      | elapsed:    0.0s\n",
      "[Parallel(n_jobs=8)]: Done  83 tasks      | elapsed:    0.0s\n",
      "[Parallel(n_jobs=8)]: Done  84 tasks      | elapsed:    0.0s\n",
      "[Parallel(n_jobs=8)]: Done  85 tasks      | elapsed:    0.0s\n",
      "[Parallel(n_jobs=8)]: Done  86 tasks      | elapsed:    0.0s\n",
      "[Parallel(n_jobs=8)]: Done  87 tasks      | elapsed:    0.0s\n",
      "[Parallel(n_jobs=8)]: Done  88 tasks      | elapsed:    0.0s\n",
      "[Parallel(n_jobs=8)]: Done  89 tasks      | elapsed:    0.0s\n",
      "[Parallel(n_jobs=8)]: Done  90 tasks      | elapsed:    0.0s\n",
      "[Parallel(n_jobs=8)]: Done  91 tasks      | elapsed:    0.0s\n",
      "[Parallel(n_jobs=8)]: Done  92 tasks      | elapsed:    0.0s\n",
      "[Parallel(n_jobs=8)]: Done  93 tasks      | elapsed:    0.0s\n",
      "[Parallel(n_jobs=8)]: Done  94 tasks      | elapsed:    0.0s\n",
      "[Parallel(n_jobs=8)]: Done  95 tasks      | elapsed:    0.0s\n",
      "[Parallel(n_jobs=8)]: Done  96 tasks      | elapsed:    0.0s\n",
      "[Parallel(n_jobs=8)]: Done  97 tasks      | elapsed:    0.0s\n",
      "[Parallel(n_jobs=8)]: Done  98 tasks      | elapsed:    0.0s\n",
      "[Parallel(n_jobs=8)]: Done  99 tasks      | elapsed:    0.0s\n",
      "[Parallel(n_jobs=8)]: Done 100 tasks      | elapsed:    0.0s\n",
      "[Parallel(n_jobs=8)]: Done 101 tasks      | elapsed:    0.0s\n",
      "[Parallel(n_jobs=8)]: Done 102 tasks      | elapsed:    0.0s\n",
      "[Parallel(n_jobs=8)]: Done 103 tasks      | elapsed:    0.0s\n",
      "[Parallel(n_jobs=8)]: Done 104 tasks      | elapsed:    0.0s\n",
      "[Parallel(n_jobs=8)]: Done 105 tasks      | elapsed:    0.0s\n",
      "[Parallel(n_jobs=8)]: Done 106 tasks      | elapsed:    0.0s\n",
      "[Parallel(n_jobs=8)]: Done 107 tasks      | elapsed:    0.0s\n",
      "[Parallel(n_jobs=8)]: Done 108 tasks      | elapsed:    0.0s\n",
      "[Parallel(n_jobs=8)]: Done 109 tasks      | elapsed:    0.0s\n",
      "[Parallel(n_jobs=8)]: Done 110 tasks      | elapsed:    0.0s\n",
      "[Parallel(n_jobs=8)]: Done 111 tasks      | elapsed:    0.0s\n",
      "[Parallel(n_jobs=8)]: Done 112 tasks      | elapsed:    0.0s\n",
      "[Parallel(n_jobs=8)]: Done 113 tasks      | elapsed:    0.0s\n",
      "[Parallel(n_jobs=8)]: Done 114 tasks      | elapsed:    0.1s\n",
      "[Parallel(n_jobs=8)]: Done 115 tasks      | elapsed:    0.1s\n",
      "[Parallel(n_jobs=8)]: Done 116 tasks      | elapsed:    0.1s\n",
      "[Parallel(n_jobs=8)]: Done 117 tasks      | elapsed:    0.1s\n",
      "[Parallel(n_jobs=8)]: Done 118 tasks      | elapsed:    0.1s\n",
      "[Parallel(n_jobs=8)]: Done 119 tasks      | elapsed:    0.1s\n",
      "[Parallel(n_jobs=8)]: Done 120 tasks      | elapsed:    0.1s\n",
      "[Parallel(n_jobs=8)]: Done 121 tasks      | elapsed:    0.1s\n",
      "[Parallel(n_jobs=8)]: Done 122 tasks      | elapsed:    0.1s\n",
      "[Parallel(n_jobs=8)]: Done 123 tasks      | elapsed:    0.1s\n",
      "[Parallel(n_jobs=8)]: Done 124 tasks      | elapsed:    0.1s\n",
      "[Parallel(n_jobs=8)]: Done 125 tasks      | elapsed:    0.1s\n",
      "[Parallel(n_jobs=8)]: Done 126 tasks      | elapsed:    0.1s\n",
      "[Parallel(n_jobs=8)]: Done 127 tasks      | elapsed:    0.1s\n",
      "[Parallel(n_jobs=8)]: Done 128 tasks      | elapsed:    0.1s\n",
      "[Parallel(n_jobs=8)]: Done 129 tasks      | elapsed:    0.1s\n",
      "[Parallel(n_jobs=8)]: Done 130 tasks      | elapsed:    0.1s\n",
      "[Parallel(n_jobs=8)]: Done 131 tasks      | elapsed:    0.1s\n",
      "[Parallel(n_jobs=8)]: Done 132 tasks      | elapsed:    0.1s\n",
      "[Parallel(n_jobs=8)]: Done 133 tasks      | elapsed:    0.1s\n",
      "[Parallel(n_jobs=8)]: Done 134 tasks      | elapsed:    0.1s\n",
      "[Parallel(n_jobs=8)]: Done 135 tasks      | elapsed:    0.1s\n",
      "[Parallel(n_jobs=8)]: Done 136 tasks      | elapsed:    0.1s\n",
      "[Parallel(n_jobs=8)]: Done 137 tasks      | elapsed:    0.1s\n",
      "[Parallel(n_jobs=8)]: Done 138 tasks      | elapsed:    0.1s\n",
      "[Parallel(n_jobs=8)]: Done 139 tasks      | elapsed:    0.1s\n",
      "[Parallel(n_jobs=8)]: Done 140 tasks      | elapsed:    0.1s\n",
      "[Parallel(n_jobs=8)]: Done 141 tasks      | elapsed:    0.1s\n",
      "[Parallel(n_jobs=8)]: Done 142 tasks      | elapsed:    0.1s\n",
      "[Parallel(n_jobs=8)]: Done 143 tasks      | elapsed:    0.1s\n",
      "[Parallel(n_jobs=8)]: Done 144 tasks      | elapsed:    0.1s\n",
      "[Parallel(n_jobs=8)]: Done 145 tasks      | elapsed:    0.1s\n",
      "[Parallel(n_jobs=8)]: Done 146 tasks      | elapsed:    0.1s\n",
      "[Parallel(n_jobs=8)]: Done 147 tasks      | elapsed:    0.1s\n",
      "[Parallel(n_jobs=8)]: Done 148 tasks      | elapsed:    0.1s\n",
      "[Parallel(n_jobs=8)]: Done 149 tasks      | elapsed:    0.1s\n",
      "[Parallel(n_jobs=8)]: Done 150 tasks      | elapsed:    0.1s\n",
      "[Parallel(n_jobs=8)]: Done 151 tasks      | elapsed:    0.1s\n",
      "[Parallel(n_jobs=8)]: Done 152 tasks      | elapsed:    0.1s\n",
      "[Parallel(n_jobs=8)]: Done 153 tasks      | elapsed:    0.1s\n",
      "[Parallel(n_jobs=8)]: Done 154 tasks      | elapsed:    0.1s\n",
      "[Parallel(n_jobs=8)]: Done 155 tasks      | elapsed:    0.1s\n",
      "[Parallel(n_jobs=8)]: Done 156 tasks      | elapsed:    0.1s\n",
      "[Parallel(n_jobs=8)]: Done 157 tasks      | elapsed:    0.1s\n",
      "[Parallel(n_jobs=8)]: Done 158 tasks      | elapsed:    0.1s\n",
      "[Parallel(n_jobs=8)]: Done 159 tasks      | elapsed:    0.1s\n",
      "[Parallel(n_jobs=8)]: Done 160 tasks      | elapsed:    0.1s\n",
      "[Parallel(n_jobs=8)]: Done 161 tasks      | elapsed:    0.1s\n",
      "[Parallel(n_jobs=8)]: Done 162 tasks      | elapsed:    0.1s\n",
      "[Parallel(n_jobs=8)]: Done 163 tasks      | elapsed:    0.1s\n",
      "[Parallel(n_jobs=8)]: Done 164 tasks      | elapsed:    0.1s\n",
      "[Parallel(n_jobs=8)]: Done 165 tasks      | elapsed:    0.1s\n",
      "[Parallel(n_jobs=8)]: Done 166 tasks      | elapsed:    0.1s\n",
      "[Parallel(n_jobs=8)]: Done 167 tasks      | elapsed:    0.1s\n",
      "[Parallel(n_jobs=8)]: Done 168 tasks      | elapsed:    0.1s\n",
      "[Parallel(n_jobs=8)]: Done 169 tasks      | elapsed:    0.1s\n",
      "[Parallel(n_jobs=8)]: Done 170 tasks      | elapsed:    0.1s\n",
      "[Parallel(n_jobs=8)]: Done 171 tasks      | elapsed:    0.1s\n",
      "[Parallel(n_jobs=8)]: Done 172 tasks      | elapsed:    0.1s\n",
      "[Parallel(n_jobs=8)]: Done 173 tasks      | elapsed:    0.1s\n",
      "[Parallel(n_jobs=8)]: Done 174 tasks      | elapsed:    0.1s\n",
      "[Parallel(n_jobs=8)]: Done 175 tasks      | elapsed:    0.1s\n",
      "[Parallel(n_jobs=8)]: Done 176 tasks      | elapsed:    0.1s\n",
      "[Parallel(n_jobs=8)]: Done 177 tasks      | elapsed:    0.1s\n",
      "[Parallel(n_jobs=8)]: Done 178 tasks      | elapsed:    0.1s\n",
      "[Parallel(n_jobs=8)]: Done 179 tasks      | elapsed:    0.1s\n",
      "[Parallel(n_jobs=8)]: Done 180 tasks      | elapsed:    0.1s\n",
      "[Parallel(n_jobs=8)]: Done 181 tasks      | elapsed:    0.1s\n",
      "[Parallel(n_jobs=8)]: Done 182 tasks      | elapsed:    0.1s\n",
      "[Parallel(n_jobs=8)]: Done 183 tasks      | elapsed:    0.1s\n",
      "[Parallel(n_jobs=8)]: Done 184 tasks      | elapsed:    0.1s\n",
      "[Parallel(n_jobs=8)]: Done 185 tasks      | elapsed:    0.1s\n"
     ]
    },
    {
     "name": "stdout",
     "output_type": "stream",
     "text": [
      "Using ThreadingBackend as joblib.Parallel backend instead of LokyBackend as the latter does not provide shared memory semantics.\n"
     ]
    },
    {
     "name": "stderr",
     "output_type": "stream",
     "text": [
      "[Parallel(n_jobs=8)]: Done 196 out of 200 | elapsed:    0.1s remaining:    0.0s\n",
      "[Parallel(n_jobs=8)]: Done 200 out of 200 | elapsed:    0.1s finished\n",
      "[Parallel(n_jobs=-1)]: Using backend LokyBackend with 8 concurrent workers.\n",
      "[Parallel(n_jobs=-1)]: Done   1 tasks      | elapsed:    0.1s\n",
      "[Parallel(n_jobs=-1)]: Batch computation too fast (0.0608s.) Setting batch_size=2.\n",
      "[Parallel(n_jobs=-1)]: Done   2 tasks      | elapsed:    0.1s\n",
      "[Parallel(n_jobs=-1)]: Done   3 tasks      | elapsed:    0.1s\n",
      "[Parallel(n_jobs=-1)]: Done   4 tasks      | elapsed:    0.1s\n",
      "[Parallel(n_jobs=-1)]: Done   5 tasks      | elapsed:    0.1s\n",
      "[Parallel(n_jobs=-1)]: Done   6 tasks      | elapsed:    0.1s\n",
      "[Parallel(n_jobs=-1)]: Done   7 tasks      | elapsed:    0.1s\n",
      "[Parallel(n_jobs=-1)]: Done   8 tasks      | elapsed:    0.1s\n",
      "[Parallel(n_jobs=-1)]: Done   9 tasks      | elapsed:    0.1s\n",
      "[Parallel(n_jobs=-1)]: Done  10 tasks      | elapsed:    0.1s\n",
      "[Parallel(n_jobs=-1)]: Done  11 tasks      | elapsed:    0.1s\n",
      "[Parallel(n_jobs=-1)]: Done  12 tasks      | elapsed:    0.1s\n",
      "[Parallel(n_jobs=-1)]: Done  13 tasks      | elapsed:    0.1s\n",
      "[Parallel(n_jobs=-1)]: Done  14 tasks      | elapsed:    0.1s\n",
      "[Parallel(n_jobs=-1)]: Done  15 tasks      | elapsed:    0.1s\n",
      "[Parallel(n_jobs=-1)]: Done  16 tasks      | elapsed:    0.2s\n",
      "[Parallel(n_jobs=-1)]: Done  18 tasks      | elapsed:    0.2s\n",
      "[Parallel(n_jobs=-1)]: Batch computation too fast (0.1491s.) Setting batch_size=4.\n",
      "[Parallel(n_jobs=-1)]: Done  20 tasks      | elapsed:    0.2s\n",
      "[Parallel(n_jobs=-1)]: Done  22 tasks      | elapsed:    0.2s\n",
      "[Parallel(n_jobs=-1)]: Done  24 tasks      | elapsed:    0.2s\n",
      "[Parallel(n_jobs=-1)]: Done  26 tasks      | elapsed:    0.2s\n",
      "[Parallel(n_jobs=-1)]: Done  28 tasks      | elapsed:    0.2s\n",
      "[Parallel(n_jobs=-1)]: Done  30 tasks      | elapsed:    0.2s\n",
      "[Parallel(n_jobs=-1)]: Done  32 tasks      | elapsed:    0.2s\n",
      "[Parallel(n_jobs=-1)]: Done  34 tasks      | elapsed:    0.3s\n",
      "[Parallel(n_jobs=-1)]: Done  36 tasks      | elapsed:    0.3s\n",
      "[Parallel(n_jobs=-1)]: Done  38 tasks      | elapsed:    0.3s\n",
      "[Parallel(n_jobs=-1)]: Done  40 tasks      | elapsed:    0.3s\n",
      "[Parallel(n_jobs=-1)]: Done  42 tasks      | elapsed:    0.3s\n",
      "[Parallel(n_jobs=-1)]: Done  44 tasks      | elapsed:    0.3s\n",
      "[Parallel(n_jobs=-1)]: Done  46 tasks      | elapsed:    0.4s\n",
      "[Parallel(n_jobs=-1)]: Done  48 tasks      | elapsed:    0.4s\n",
      "[Parallel(n_jobs=-1)]: Done  52 tasks      | elapsed:    0.5s\n",
      "[Parallel(n_jobs=-1)]: Done  56 tasks      | elapsed:    0.5s\n",
      "[Parallel(n_jobs=-1)]: Done  60 tasks      | elapsed:    0.5s\n",
      "[Parallel(n_jobs=-1)]: Done  64 tasks      | elapsed:    0.5s\n",
      "[Parallel(n_jobs=-1)]: Done  68 tasks      | elapsed:    0.5s\n",
      "[Parallel(n_jobs=-1)]: Done  72 tasks      | elapsed:    0.5s\n",
      "[Parallel(n_jobs=-1)]: Done  76 tasks      | elapsed:    0.5s\n",
      "[Parallel(n_jobs=-1)]: Done  80 tasks      | elapsed:    0.5s\n",
      "[Parallel(n_jobs=-1)]: Done  84 tasks      | elapsed:    0.6s\n",
      "[Parallel(n_jobs=-1)]: Done  88 tasks      | elapsed:    0.6s\n",
      "[Parallel(n_jobs=-1)]: Done  92 tasks      | elapsed:    0.7s\n",
      "[Parallel(n_jobs=-1)]: Done  96 tasks      | elapsed:    0.7s\n",
      "[Parallel(n_jobs=-1)]: Done 100 tasks      | elapsed:    0.7s\n",
      "[Parallel(n_jobs=-1)]: Done 104 tasks      | elapsed:    0.7s\n",
      "[Parallel(n_jobs=-1)]: Done 108 tasks      | elapsed:    0.7s\n",
      "[Parallel(n_jobs=-1)]: Done 112 tasks      | elapsed:    0.7s\n",
      "[Parallel(n_jobs=-1)]: Done 116 tasks      | elapsed:    0.8s\n",
      "[Parallel(n_jobs=-1)]: Done 120 tasks      | elapsed:    0.9s\n",
      "[Parallel(n_jobs=-1)]: Done 124 tasks      | elapsed:    0.9s\n",
      "[Parallel(n_jobs=-1)]: Done 128 tasks      | elapsed:    0.9s\n",
      "[Parallel(n_jobs=-1)]: Done 132 tasks      | elapsed:    0.9s\n",
      "[Parallel(n_jobs=-1)]: Done 136 tasks      | elapsed:    0.9s\n",
      "[Parallel(n_jobs=-1)]: Done 140 tasks      | elapsed:    0.9s\n",
      "[Parallel(n_jobs=-1)]: Done 144 tasks      | elapsed:    0.9s\n",
      "[Parallel(n_jobs=-1)]: Done 148 tasks      | elapsed:    1.0s\n",
      "[Parallel(n_jobs=-1)]: Done 152 tasks      | elapsed:    1.0s\n",
      "[Parallel(n_jobs=-1)]: Done 156 tasks      | elapsed:    1.1s\n",
      "[Parallel(n_jobs=-1)]: Done 160 tasks      | elapsed:    1.1s\n",
      "[Parallel(n_jobs=-1)]: Done 164 tasks      | elapsed:    1.1s\n",
      "[Parallel(n_jobs=-1)]: Done 168 tasks      | elapsed:    1.1s\n",
      "[Parallel(n_jobs=-1)]: Done 169 tasks      | elapsed:    1.1s\n",
      "[Parallel(n_jobs=-1)]: Done 173 tasks      | elapsed:    1.1s\n",
      "[Parallel(n_jobs=-1)]: Done 174 tasks      | elapsed:    1.1s\n",
      "[Parallel(n_jobs=-1)]: Done 175 tasks      | elapsed:    1.1s\n",
      "[Parallel(n_jobs=-1)]: Done 176 tasks      | elapsed:    1.1s\n",
      "[Parallel(n_jobs=-1)]: Done 180 tasks      | elapsed:    1.1s\n",
      "[Parallel(n_jobs=-1)]: Done 181 tasks      | elapsed:    1.1s\n",
      "[Parallel(n_jobs=-1)]: Done 182 tasks      | elapsed:    1.2s\n",
      "[Parallel(n_jobs=-1)]: Done 183 tasks      | elapsed:    1.2s\n",
      "[Parallel(n_jobs=-1)]: Done 184 tasks      | elapsed:    1.2s\n",
      "[Parallel(n_jobs=-1)]: Done 185 tasks      | elapsed:    1.2s\n",
      "[Parallel(n_jobs=-1)]: Done 196 out of 200 | elapsed:    1.3s remaining:    0.0s\n",
      "[Parallel(n_jobs=-1)]: Done 200 out of 200 | elapsed:    1.3s finished\n",
      "[Parallel(n_jobs=8)]: Using backend ThreadingBackend with 8 concurrent workers.\n",
      "[Parallel(n_jobs=8)]: Done   1 tasks      | elapsed:    0.0s\n",
      "[Parallel(n_jobs=8)]: Done   2 tasks      | elapsed:    0.0s\n",
      "[Parallel(n_jobs=8)]: Done   3 tasks      | elapsed:    0.0s\n",
      "[Parallel(n_jobs=8)]: Done   4 tasks      | elapsed:    0.0s\n",
      "[Parallel(n_jobs=8)]: Done   5 tasks      | elapsed:    0.0s\n",
      "[Parallel(n_jobs=8)]: Done   6 tasks      | elapsed:    0.0s\n",
      "[Parallel(n_jobs=8)]: Done   7 tasks      | elapsed:    0.0s\n",
      "[Parallel(n_jobs=8)]: Done   8 tasks      | elapsed:    0.0s\n",
      "[Parallel(n_jobs=8)]: Done   9 tasks      | elapsed:    0.0s\n",
      "[Parallel(n_jobs=8)]: Done  10 tasks      | elapsed:    0.0s\n",
      "[Parallel(n_jobs=8)]: Done  11 tasks      | elapsed:    0.0s\n",
      "[Parallel(n_jobs=8)]: Done  12 tasks      | elapsed:    0.0s\n",
      "[Parallel(n_jobs=8)]: Done  13 tasks      | elapsed:    0.0s\n",
      "[Parallel(n_jobs=8)]: Done  14 tasks      | elapsed:    0.0s\n",
      "[Parallel(n_jobs=8)]: Done  15 tasks      | elapsed:    0.0s\n",
      "[Parallel(n_jobs=8)]: Done  16 tasks      | elapsed:    0.0s\n",
      "[Parallel(n_jobs=8)]: Done  17 tasks      | elapsed:    0.0s\n",
      "[Parallel(n_jobs=8)]: Done  18 tasks      | elapsed:    0.0s\n",
      "[Parallel(n_jobs=8)]: Done  19 tasks      | elapsed:    0.0s\n",
      "[Parallel(n_jobs=8)]: Done  20 tasks      | elapsed:    0.0s\n",
      "[Parallel(n_jobs=8)]: Done  21 tasks      | elapsed:    0.0s\n",
      "[Parallel(n_jobs=8)]: Done  22 tasks      | elapsed:    0.0s\n",
      "[Parallel(n_jobs=8)]: Done  23 tasks      | elapsed:    0.0s\n",
      "[Parallel(n_jobs=8)]: Done  24 tasks      | elapsed:    0.0s\n",
      "[Parallel(n_jobs=8)]: Done  25 tasks      | elapsed:    0.0s\n",
      "[Parallel(n_jobs=8)]: Done  26 tasks      | elapsed:    0.0s\n",
      "[Parallel(n_jobs=8)]: Done  27 tasks      | elapsed:    0.0s\n",
      "[Parallel(n_jobs=8)]: Done  28 tasks      | elapsed:    0.0s\n",
      "[Parallel(n_jobs=8)]: Done  29 tasks      | elapsed:    0.0s\n",
      "[Parallel(n_jobs=8)]: Done  30 tasks      | elapsed:    0.0s\n",
      "[Parallel(n_jobs=8)]: Done  31 tasks      | elapsed:    0.0s\n",
      "[Parallel(n_jobs=8)]: Done  32 tasks      | elapsed:    0.0s\n",
      "[Parallel(n_jobs=8)]: Done  33 tasks      | elapsed:    0.0s\n",
      "[Parallel(n_jobs=8)]: Done  34 tasks      | elapsed:    0.0s\n",
      "[Parallel(n_jobs=8)]: Done  35 tasks      | elapsed:    0.0s\n",
      "[Parallel(n_jobs=8)]: Done  36 tasks      | elapsed:    0.0s\n",
      "[Parallel(n_jobs=8)]: Done  37 tasks      | elapsed:    0.0s\n",
      "[Parallel(n_jobs=8)]: Done  38 tasks      | elapsed:    0.0s\n",
      "[Parallel(n_jobs=8)]: Done  39 tasks      | elapsed:    0.0s\n",
      "[Parallel(n_jobs=8)]: Done  40 tasks      | elapsed:    0.0s\n",
      "[Parallel(n_jobs=8)]: Done  41 tasks      | elapsed:    0.0s\n",
      "[Parallel(n_jobs=8)]: Done  42 tasks      | elapsed:    0.0s\n",
      "[Parallel(n_jobs=8)]: Done  43 tasks      | elapsed:    0.0s\n",
      "[Parallel(n_jobs=8)]: Done  44 tasks      | elapsed:    0.0s\n",
      "[Parallel(n_jobs=8)]: Done  45 tasks      | elapsed:    0.0s\n",
      "[Parallel(n_jobs=8)]: Done  46 tasks      | elapsed:    0.0s\n",
      "[Parallel(n_jobs=8)]: Done  47 tasks      | elapsed:    0.0s\n",
      "[Parallel(n_jobs=8)]: Done  48 tasks      | elapsed:    0.0s\n",
      "[Parallel(n_jobs=8)]: Done  49 tasks      | elapsed:    0.0s\n",
      "[Parallel(n_jobs=8)]: Done  50 tasks      | elapsed:    0.0s\n",
      "[Parallel(n_jobs=8)]: Done  51 tasks      | elapsed:    0.0s\n",
      "[Parallel(n_jobs=8)]: Done  52 tasks      | elapsed:    0.0s\n",
      "[Parallel(n_jobs=8)]: Done  53 tasks      | elapsed:    0.0s\n",
      "[Parallel(n_jobs=8)]: Done  54 tasks      | elapsed:    0.0s\n",
      "[Parallel(n_jobs=8)]: Done  55 tasks      | elapsed:    0.0s\n",
      "[Parallel(n_jobs=8)]: Done  56 tasks      | elapsed:    0.0s\n",
      "[Parallel(n_jobs=8)]: Done  57 tasks      | elapsed:    0.0s\n",
      "[Parallel(n_jobs=8)]: Done  58 tasks      | elapsed:    0.0s\n",
      "[Parallel(n_jobs=8)]: Done  59 tasks      | elapsed:    0.0s\n",
      "[Parallel(n_jobs=8)]: Done  60 tasks      | elapsed:    0.0s\n",
      "[Parallel(n_jobs=8)]: Done  61 tasks      | elapsed:    0.0s\n",
      "[Parallel(n_jobs=8)]: Done  62 tasks      | elapsed:    0.0s\n",
      "[Parallel(n_jobs=8)]: Done  63 tasks      | elapsed:    0.0s\n",
      "[Parallel(n_jobs=8)]: Done  64 tasks      | elapsed:    0.0s\n",
      "[Parallel(n_jobs=8)]: Done  65 tasks      | elapsed:    0.0s\n",
      "[Parallel(n_jobs=8)]: Done  66 tasks      | elapsed:    0.0s\n",
      "[Parallel(n_jobs=8)]: Done  67 tasks      | elapsed:    0.0s\n",
      "[Parallel(n_jobs=8)]: Done  68 tasks      | elapsed:    0.0s\n",
      "[Parallel(n_jobs=8)]: Done  69 tasks      | elapsed:    0.0s\n",
      "[Parallel(n_jobs=8)]: Done  70 tasks      | elapsed:    0.0s\n",
      "[Parallel(n_jobs=8)]: Done  71 tasks      | elapsed:    0.0s\n",
      "[Parallel(n_jobs=8)]: Done  72 tasks      | elapsed:    0.0s\n",
      "[Parallel(n_jobs=8)]: Done  73 tasks      | elapsed:    0.0s\n",
      "[Parallel(n_jobs=8)]: Done  74 tasks      | elapsed:    0.0s\n",
      "[Parallel(n_jobs=8)]: Done  75 tasks      | elapsed:    0.0s\n",
      "[Parallel(n_jobs=8)]: Done  76 tasks      | elapsed:    0.0s\n",
      "[Parallel(n_jobs=8)]: Done  77 tasks      | elapsed:    0.0s\n",
      "[Parallel(n_jobs=8)]: Done  78 tasks      | elapsed:    0.0s\n",
      "[Parallel(n_jobs=8)]: Done  79 tasks      | elapsed:    0.0s\n",
      "[Parallel(n_jobs=8)]: Done  80 tasks      | elapsed:    0.0s\n",
      "[Parallel(n_jobs=8)]: Done  81 tasks      | elapsed:    0.0s\n",
      "[Parallel(n_jobs=8)]: Done  82 tasks      | elapsed:    0.0s\n",
      "[Parallel(n_jobs=8)]: Done  83 tasks      | elapsed:    0.0s\n",
      "[Parallel(n_jobs=8)]: Done  84 tasks      | elapsed:    0.0s\n",
      "[Parallel(n_jobs=8)]: Done  85 tasks      | elapsed:    0.0s\n",
      "[Parallel(n_jobs=8)]: Done  86 tasks      | elapsed:    0.0s\n",
      "[Parallel(n_jobs=8)]: Done  87 tasks      | elapsed:    0.0s\n",
      "[Parallel(n_jobs=8)]: Done  88 tasks      | elapsed:    0.0s\n",
      "[Parallel(n_jobs=8)]: Done  89 tasks      | elapsed:    0.0s\n",
      "[Parallel(n_jobs=8)]: Done  90 tasks      | elapsed:    0.0s\n",
      "[Parallel(n_jobs=8)]: Done  91 tasks      | elapsed:    0.1s\n",
      "[Parallel(n_jobs=8)]: Done  92 tasks      | elapsed:    0.1s\n",
      "[Parallel(n_jobs=8)]: Done  93 tasks      | elapsed:    0.1s\n",
      "[Parallel(n_jobs=8)]: Done  94 tasks      | elapsed:    0.1s\n",
      "[Parallel(n_jobs=8)]: Done  95 tasks      | elapsed:    0.1s\n",
      "[Parallel(n_jobs=8)]: Done  96 tasks      | elapsed:    0.1s\n",
      "[Parallel(n_jobs=8)]: Done  97 tasks      | elapsed:    0.1s\n",
      "[Parallel(n_jobs=8)]: Done  98 tasks      | elapsed:    0.1s\n",
      "[Parallel(n_jobs=8)]: Done  99 tasks      | elapsed:    0.1s\n",
      "[Parallel(n_jobs=8)]: Done 100 tasks      | elapsed:    0.1s\n",
      "[Parallel(n_jobs=8)]: Done 101 tasks      | elapsed:    0.1s\n",
      "[Parallel(n_jobs=8)]: Done 102 tasks      | elapsed:    0.1s\n",
      "[Parallel(n_jobs=8)]: Done 103 tasks      | elapsed:    0.1s\n",
      "[Parallel(n_jobs=8)]: Done 104 tasks      | elapsed:    0.1s\n",
      "[Parallel(n_jobs=8)]: Done 105 tasks      | elapsed:    0.1s\n",
      "[Parallel(n_jobs=8)]: Done 106 tasks      | elapsed:    0.1s\n",
      "[Parallel(n_jobs=8)]: Done 107 tasks      | elapsed:    0.1s\n",
      "[Parallel(n_jobs=8)]: Done 108 tasks      | elapsed:    0.1s\n",
      "[Parallel(n_jobs=8)]: Done 109 tasks      | elapsed:    0.1s\n",
      "[Parallel(n_jobs=8)]: Done 110 tasks      | elapsed:    0.1s\n",
      "[Parallel(n_jobs=8)]: Done 111 tasks      | elapsed:    0.1s\n",
      "[Parallel(n_jobs=8)]: Done 112 tasks      | elapsed:    0.1s\n",
      "[Parallel(n_jobs=8)]: Done 113 tasks      | elapsed:    0.1s\n",
      "[Parallel(n_jobs=8)]: Done 114 tasks      | elapsed:    0.1s\n",
      "[Parallel(n_jobs=8)]: Done 115 tasks      | elapsed:    0.1s\n",
      "[Parallel(n_jobs=8)]: Done 116 tasks      | elapsed:    0.1s\n",
      "[Parallel(n_jobs=8)]: Done 117 tasks      | elapsed:    0.1s\n",
      "[Parallel(n_jobs=8)]: Done 118 tasks      | elapsed:    0.1s\n",
      "[Parallel(n_jobs=8)]: Done 119 tasks      | elapsed:    0.1s\n",
      "[Parallel(n_jobs=8)]: Done 120 tasks      | elapsed:    0.1s\n",
      "[Parallel(n_jobs=8)]: Done 121 tasks      | elapsed:    0.1s\n",
      "[Parallel(n_jobs=8)]: Done 122 tasks      | elapsed:    0.1s\n",
      "[Parallel(n_jobs=8)]: Done 123 tasks      | elapsed:    0.1s\n",
      "[Parallel(n_jobs=8)]: Done 124 tasks      | elapsed:    0.1s\n",
      "[Parallel(n_jobs=8)]: Done 125 tasks      | elapsed:    0.1s\n",
      "[Parallel(n_jobs=8)]: Done 126 tasks      | elapsed:    0.1s\n",
      "[Parallel(n_jobs=8)]: Done 127 tasks      | elapsed:    0.1s\n",
      "[Parallel(n_jobs=8)]: Done 128 tasks      | elapsed:    0.1s\n",
      "[Parallel(n_jobs=8)]: Done 129 tasks      | elapsed:    0.1s\n",
      "[Parallel(n_jobs=8)]: Done 130 tasks      | elapsed:    0.1s\n",
      "[Parallel(n_jobs=8)]: Done 131 tasks      | elapsed:    0.1s\n",
      "[Parallel(n_jobs=8)]: Done 132 tasks      | elapsed:    0.1s\n",
      "[Parallel(n_jobs=8)]: Done 133 tasks      | elapsed:    0.1s\n",
      "[Parallel(n_jobs=8)]: Done 134 tasks      | elapsed:    0.1s\n",
      "[Parallel(n_jobs=8)]: Done 135 tasks      | elapsed:    0.1s\n",
      "[Parallel(n_jobs=8)]: Done 136 tasks      | elapsed:    0.1s\n",
      "[Parallel(n_jobs=8)]: Done 137 tasks      | elapsed:    0.1s\n",
      "[Parallel(n_jobs=8)]: Done 138 tasks      | elapsed:    0.1s\n",
      "[Parallel(n_jobs=8)]: Done 139 tasks      | elapsed:    0.1s\n",
      "[Parallel(n_jobs=8)]: Done 140 tasks      | elapsed:    0.1s\n",
      "[Parallel(n_jobs=8)]: Done 141 tasks      | elapsed:    0.1s\n",
      "[Parallel(n_jobs=8)]: Done 142 tasks      | elapsed:    0.1s\n",
      "[Parallel(n_jobs=8)]: Done 143 tasks      | elapsed:    0.1s\n",
      "[Parallel(n_jobs=8)]: Done 144 tasks      | elapsed:    0.1s\n",
      "[Parallel(n_jobs=8)]: Done 145 tasks      | elapsed:    0.1s\n",
      "[Parallel(n_jobs=8)]: Done 146 tasks      | elapsed:    0.1s\n",
      "[Parallel(n_jobs=8)]: Done 147 tasks      | elapsed:    0.1s\n",
      "[Parallel(n_jobs=8)]: Done 148 tasks      | elapsed:    0.1s\n",
      "[Parallel(n_jobs=8)]: Done 149 tasks      | elapsed:    0.1s\n",
      "[Parallel(n_jobs=8)]: Done 150 tasks      | elapsed:    0.1s\n",
      "[Parallel(n_jobs=8)]: Done 151 tasks      | elapsed:    0.1s\n",
      "[Parallel(n_jobs=8)]: Done 152 tasks      | elapsed:    0.1s\n",
      "[Parallel(n_jobs=8)]: Done 153 tasks      | elapsed:    0.1s\n",
      "[Parallel(n_jobs=8)]: Done 154 tasks      | elapsed:    0.1s\n",
      "[Parallel(n_jobs=8)]: Done 155 tasks      | elapsed:    0.1s\n",
      "[Parallel(n_jobs=8)]: Done 156 tasks      | elapsed:    0.1s\n",
      "[Parallel(n_jobs=8)]: Done 157 tasks      | elapsed:    0.1s\n",
      "[Parallel(n_jobs=8)]: Done 158 tasks      | elapsed:    0.1s\n",
      "[Parallel(n_jobs=8)]: Done 159 tasks      | elapsed:    0.1s\n",
      "[Parallel(n_jobs=8)]: Done 160 tasks      | elapsed:    0.1s\n",
      "[Parallel(n_jobs=8)]: Done 161 tasks      | elapsed:    0.1s\n",
      "[Parallel(n_jobs=8)]: Done 162 tasks      | elapsed:    0.1s\n"
     ]
    },
    {
     "name": "stdout",
     "output_type": "stream",
     "text": [
      "Using ThreadingBackend as joblib.Parallel backend instead of LokyBackend as the latter does not provide shared memory semantics.\n",
      "===\tClassification Report\t===\n",
      "              precision    recall  f1-score   support\n",
      "\n",
      "         neg       0.76      0.79      0.78      3000\n",
      "        neut       0.77      0.84      0.81      3000\n",
      "         pos       0.90      0.78      0.83      3000\n",
      "\n",
      "    accuracy                           0.80      9000\n",
      "   macro avg       0.81      0.80      0.81      9000\n",
      "weighted avg       0.81      0.80      0.81      9000\n",
      "\n",
      "===\tConfusion Matrix\t===\n",
      "[2379  391  230  426 2534   40  307  362 2331]\n"
     ]
    },
    {
     "name": "stderr",
     "output_type": "stream",
     "text": [
      "[Parallel(n_jobs=8)]: Done 163 tasks      | elapsed:    0.1s\n",
      "[Parallel(n_jobs=8)]: Done 164 tasks      | elapsed:    0.1s\n",
      "[Parallel(n_jobs=8)]: Done 165 tasks      | elapsed:    0.1s\n",
      "[Parallel(n_jobs=8)]: Done 166 tasks      | elapsed:    0.1s\n",
      "[Parallel(n_jobs=8)]: Done 167 tasks      | elapsed:    0.1s\n",
      "[Parallel(n_jobs=8)]: Done 168 tasks      | elapsed:    0.1s\n",
      "[Parallel(n_jobs=8)]: Done 169 tasks      | elapsed:    0.1s\n",
      "[Parallel(n_jobs=8)]: Done 170 tasks      | elapsed:    0.1s\n",
      "[Parallel(n_jobs=8)]: Done 171 tasks      | elapsed:    0.1s\n",
      "[Parallel(n_jobs=8)]: Done 172 tasks      | elapsed:    0.1s\n",
      "[Parallel(n_jobs=8)]: Done 173 tasks      | elapsed:    0.1s\n",
      "[Parallel(n_jobs=8)]: Done 174 tasks      | elapsed:    0.1s\n",
      "[Parallel(n_jobs=8)]: Done 175 tasks      | elapsed:    0.1s\n",
      "[Parallel(n_jobs=8)]: Done 176 tasks      | elapsed:    0.1s\n",
      "[Parallel(n_jobs=8)]: Done 177 tasks      | elapsed:    0.1s\n",
      "[Parallel(n_jobs=8)]: Done 178 tasks      | elapsed:    0.1s\n",
      "[Parallel(n_jobs=8)]: Done 179 tasks      | elapsed:    0.1s\n",
      "[Parallel(n_jobs=8)]: Done 180 tasks      | elapsed:    0.1s\n",
      "[Parallel(n_jobs=8)]: Done 181 tasks      | elapsed:    0.1s\n",
      "[Parallel(n_jobs=8)]: Done 182 tasks      | elapsed:    0.1s\n",
      "[Parallel(n_jobs=8)]: Done 183 tasks      | elapsed:    0.1s\n",
      "[Parallel(n_jobs=8)]: Done 184 tasks      | elapsed:    0.1s\n",
      "[Parallel(n_jobs=8)]: Done 185 tasks      | elapsed:    0.1s\n",
      "[Parallel(n_jobs=8)]: Done 196 out of 200 | elapsed:    0.1s remaining:    0.0s\n",
      "[Parallel(n_jobs=8)]: Done 200 out of 200 | elapsed:    0.1s finished\n"
     ]
    }
   ],
   "source": [
    "rf_model_7 = Pipeline([\n",
    "    ('rf', RandomForestClassifier(n_estimators=200,verbose=20, n_jobs=-1, max_depth=35))\n",
    "])\n",
    "\n",
    "KFold_eval_improved(rf_model_7, train_resampled, train_label_resampled, 5)"
   ]
  },
  {
   "cell_type": "markdown",
   "id": "532b4df2",
   "metadata": {},
   "source": [
    "## Training with RNN"
   ]
  },
  {
   "cell_type": "code",
   "execution_count": 157,
   "id": "38e011a7",
   "metadata": {},
   "outputs": [],
   "source": [
    "train_for_rnn = np.asarray(neg_set.tolist()[:2400] + pos_set.tolist()[:2400] + netr_set.tolist()[:2400])"
   ]
  },
  {
   "cell_type": "code",
   "execution_count": 159,
   "id": "c0c56ec1",
   "metadata": {},
   "outputs": [
    {
     "data": {
      "text/plain": [
       "(7200, 200)"
      ]
     },
     "execution_count": 159,
     "metadata": {},
     "output_type": "execute_result"
    }
   ],
   "source": [
    "train_for_rnn.shape"
   ]
  },
  {
   "cell_type": "code",
   "execution_count": 161,
   "id": "93743a2d",
   "metadata": {},
   "outputs": [],
   "source": [
    "train_label_for_rnn = neg_set_label[:2400] + pos_set_label[:2400] + netr_set_label[:2400]\n",
    "val_for_rnn = np.asarray(neg_set.tolist()[2400:] + pos_set.tolist()[2400:] + netr_set.tolist()[2400:])\n",
    "val_label_for_rnn = neg_set_label[2400:] + pos_set_label[2400:] + netr_set_label[2400:]"
   ]
  },
  {
   "cell_type": "markdown",
   "id": "c1e0bec5",
   "metadata": {},
   "source": [
    "Helper function to one hot encode the labels"
   ]
  },
  {
   "cell_type": "code",
   "execution_count": 167,
   "id": "0051b816",
   "metadata": {},
   "outputs": [],
   "source": [
    "def to_one_hot(labels, dimension=3):\n",
    "    results = np.zeros((len(labels), dimension))\n",
    "    for i, label in enumerate(labels):\n",
    "        results[i, int(label*2)] = 1.\n",
    "    return results\n",
    "train_label_for_rnn = to_one_hot(train_label_for_rnn)\n",
    "val_label_for_rnn = to_one_hot(val_label_for_rnn)"
   ]
  },
  {
   "cell_type": "code",
   "execution_count": 169,
   "id": "2996f876",
   "metadata": {},
   "outputs": [
    {
     "name": "stdout",
     "output_type": "stream",
     "text": [
      "Epoch 1/8\n",
      "57/57 [==============================] - 16s 249ms/step - loss: 0.9511 - acc: 0.5150 - val_loss: 0.8849 - val_acc: 0.5411\n",
      "Epoch 2/8\n",
      "57/57 [==============================] - 18s 316ms/step - loss: 0.8913 - acc: 0.5315 - val_loss: 0.8830 - val_acc: 0.5406\n",
      "Epoch 3/8\n",
      "57/57 [==============================] - 17s 304ms/step - loss: 0.8824 - acc: 0.5350 - val_loss: 0.8816 - val_acc: 0.5406\n",
      "Epoch 4/8\n",
      "57/57 [==============================] - 18s 321ms/step - loss: 0.8777 - acc: 0.5218 - val_loss: 0.9044 - val_acc: 0.5411\n",
      "Epoch 5/8\n",
      "57/57 [==============================] - 17s 305ms/step - loss: 0.8749 - acc: 0.5328 - val_loss: 0.8808 - val_acc: 0.5356\n",
      "Epoch 6/8\n",
      "57/57 [==============================] - 17s 293ms/step - loss: 0.8612 - acc: 0.5339 - val_loss: 0.8869 - val_acc: 0.4994\n",
      "Epoch 7/8\n",
      "57/57 [==============================] - 15s 266ms/step - loss: 0.8546 - acc: 0.5332 - val_loss: 0.8969 - val_acc: 0.5367\n",
      "Epoch 8/8\n",
      "57/57 [==============================] - 15s 257ms/step - loss: 0.8455 - acc: 0.5440 - val_loss: 0.9100 - val_acc: 0.5244\n"
     ]
    }
   ],
   "source": [
    "model_rnn = Sequential()\n",
    "model_rnn.add(Embedding(max_features, 64))\n",
    "model_rnn.add(LSTM(64, dropout=0.2, recurrent_dropout=0.2))\n",
    "model_rnn.add(Dense(3, activation='softmax'))\n",
    "\n",
    "model_rnn.compile(optimizer='rmsprop', \n",
    "              loss='categorical_crossentropy', \n",
    "              metrics=['acc'])\n",
    "\n",
    "history = model_rnn.fit(train_for_rnn, train_label_for_rnn,\n",
    "                    epochs=8,\n",
    "                    batch_size=128,\n",
    "                    validation_data=(val_for_rnn, val_label_for_rnn))"
   ]
  },
  {
   "cell_type": "code",
   "execution_count": 184,
   "id": "2d60f70e",
   "metadata": {},
   "outputs": [
    {
     "name": "stdout",
     "output_type": "stream",
     "text": [
      "Epoch 1/8\n",
      "57/57 [==============================] - 1s 3ms/step - loss: 143.8354 - acc: 0.4494 - val_loss: 52.4976 - val_acc: 0.4983\n",
      "Epoch 2/8\n",
      "57/57 [==============================] - 0s 2ms/step - loss: 44.7445 - acc: 0.5312 - val_loss: 27.5206 - val_acc: 0.5906\n",
      "Epoch 3/8\n",
      "57/57 [==============================] - 0s 1ms/step - loss: 26.1338 - acc: 0.5839 - val_loss: 19.3616 - val_acc: 0.6089\n",
      "Epoch 4/8\n",
      "57/57 [==============================] - 0s 2ms/step - loss: 17.3107 - acc: 0.6228 - val_loss: 14.0124 - val_acc: 0.6372\n",
      "Epoch 5/8\n",
      "57/57 [==============================] - 0s 2ms/step - loss: 13.1741 - acc: 0.6365 - val_loss: 12.9942 - val_acc: 0.6528\n",
      "Epoch 6/8\n",
      "57/57 [==============================] - 0s 2ms/step - loss: 10.5728 - acc: 0.6568 - val_loss: 11.9885 - val_acc: 0.6250\n",
      "Epoch 7/8\n",
      "57/57 [==============================] - 0s 2ms/step - loss: 8.6004 - acc: 0.6729 - val_loss: 7.2620 - val_acc: 0.6872\n",
      "Epoch 8/8\n",
      "57/57 [==============================] - 0s 2ms/step - loss: 7.3151 - acc: 0.6886 - val_loss: 6.2846 - val_acc: 0.6911\n"
     ]
    }
   ],
   "source": [
    "model_dense = Sequential()\n",
    "model_dense.add(layers.Dense(64, activation='relu', input_shape=(200,)))\n",
    "model_dense.add(layers.Dense(32, activation='relu'))\n",
    "model_dense.add(layers.Dense(3, activation='softmax'))\n",
    "\n",
    "model_dense.compile(optimizer='rmsprop', \n",
    "              loss='categorical_crossentropy', \n",
    "              metrics=['acc'])\n",
    "\n",
    "history = model_dense.fit(train_for_rnn, train_label_for_rnn,\n",
    "                    epochs=8,\n",
    "                    batch_size=128,\n",
    "                    validation_data=(val_for_rnn, val_label_for_rnn))"
   ]
  },
  {
   "cell_type": "code",
   "execution_count": 183,
   "id": "3cc5be22",
   "metadata": {},
   "outputs": [
    {
     "name": "stdout",
     "output_type": "stream",
     "text": [
      "Epoch 1/8\n",
      "113/113 [==============================] - 24s 195ms/step - loss: 0.9167 - acc: 0.5240 - val_loss: 0.8931 - val_acc: 0.5406\n",
      "Epoch 2/8\n",
      "113/113 [==============================] - 21s 186ms/step - loss: 0.9008 - acc: 0.5285 - val_loss: 0.8813 - val_acc: 0.5406\n",
      "Epoch 3/8\n",
      "113/113 [==============================] - 22s 199ms/step - loss: 0.8787 - acc: 0.5294 - val_loss: 0.8838 - val_acc: 0.5406\n",
      "Epoch 4/8\n",
      "113/113 [==============================] - 25s 217ms/step - loss: 0.8700 - acc: 0.5315 - val_loss: 0.8890 - val_acc: 0.5400\n",
      "Epoch 5/8\n",
      "113/113 [==============================] - 27s 235ms/step - loss: 0.8594 - acc: 0.5310 - val_loss: 0.9312 - val_acc: 0.5406\n",
      "Epoch 6/8\n",
      "113/113 [==============================] - 30s 269ms/step - loss: 0.8446 - acc: 0.5424 - val_loss: 0.9078 - val_acc: 0.5378\n",
      "Epoch 7/8\n",
      "113/113 [==============================] - 31s 272ms/step - loss: 0.8310 - acc: 0.5412 - val_loss: 0.9299 - val_acc: 0.5050\n",
      "Epoch 8/8\n",
      "113/113 [==============================] - 31s 274ms/step - loss: 0.8191 - acc: 0.5481 - val_loss: 0.9466 - val_acc: 0.5111\n"
     ]
    }
   ],
   "source": [
    "model_dense_rnn = Sequential()\n",
    "model_dense_rnn.add(Embedding(max_features, 64))\n",
    "model_dense_rnn.add(LSTM(64, dropout=0.2, recurrent_dropout=0.2))\n",
    "model_dense_rnn.add(layers.Dense(64, activation='relu'))\n",
    "model_dense_rnn.add(layers.Dense(3, activation='softmax'))\n",
    "\n",
    "model_dense_rnn.compile(optimizer='rmsprop', \n",
    "              loss='categorical_crossentropy',\n",
    "              metrics=['acc'])\n",
    "\n",
    "history = model_dense_rnn.fit(train_for_rnn, train_label_for_rnn,\n",
    "                    epochs=8,\n",
    "                    batch_size=64,\n",
    "                    validation_data=(val_for_rnn, val_label_for_rnn))"
   ]
  },
  {
   "cell_type": "markdown",
   "id": "44dd3093",
   "metadata": {},
   "source": [
    "This one looks promising"
   ]
  },
  {
   "cell_type": "code",
   "execution_count": 185,
   "id": "daf57338",
   "metadata": {},
   "outputs": [
    {
     "data": {
      "image/png": "[encoded data removed]",
      "text/plain": [
       "<Figure size 432x288 with 1 Axes>"
      ]
     },
     "metadata": {
      "needs_background": "light"
     },
     "output_type": "display_data"
    }
   ],
   "source": [
    "import matplotlib.pyplot as plt\n",
    "\n",
    "loss = history.history['loss']\n",
    "val_loss = history.history['val_loss']\n",
    "\n",
    "epochs = range(1, len(loss) + 1)\n",
    "\n",
    "plt.plot(epochs, loss, 'bo', label='Training loss')\n",
    "plt.plot(epochs, val_loss, 'b', label='Validation loss')\n",
    "plt.title('Training and validation loss')\n",
    "plt.xlabel('Epochs')\n",
    "plt.ylabel('Loss')\n",
    "plt.legend()\n",
    "\n",
    "plt.show();"
   ]
  },
  {
   "cell_type": "code",
   "execution_count": 186,
   "id": "edb2fafe",
   "metadata": {},
   "outputs": [
    {
     "data": {
      "image/png": "[encoded data removed]",
      "text/plain": [
       "<Figure size 432x288 with 1 Axes>"
      ]
     },
     "metadata": {
      "needs_background": "light"
     },
     "output_type": "display_data"
    }
   ],
   "source": [
    "plt.clf()\n",
    "\n",
    "acc = history.history['acc']\n",
    "val_acc = history.history['val_acc']\n",
    "\n",
    "plt.plot(epochs, acc, 'bo', label='Training acc')\n",
    "plt.plot(epochs, val_acc, 'b', label='Validation acc')\n",
    "plt.title('Training and validation accuracy')\n",
    "plt.xlabel('Epochs')\n",
    "plt.ylabel('Loss')\n",
    "plt.legend()\n",
    "\n",
    "plt.show()"
   ]
  },
  {
   "cell_type": "markdown",
   "id": "fe7fa1b1",
   "metadata": {},
   "source": [
    "Retry with more epochs to see if it keeps growing"
   ]
  },
  {
   "cell_type": "code",
   "execution_count": 227,
   "id": "beb594e1",
   "metadata": {},
   "outputs": [
    {
     "name": "stdout",
     "output_type": "stream",
     "text": [
      "Epoch 1/20\n",
      "113/113 [==============================] - 24s 188ms/step - loss: 0.9399 - acc: 0.5153 - val_loss: 0.8800 - val_acc: 0.5406\n",
      "Epoch 2/20\n",
      "113/113 [==============================] - 23s 199ms/step - loss: 0.8831 - acc: 0.5306 - val_loss: 0.8859 - val_acc: 0.5406\n",
      "Epoch 3/20\n",
      "113/113 [==============================] - 23s 201ms/step - loss: 0.8814 - acc: 0.5333 - val_loss: 0.8778 - val_acc: 0.5078\n",
      "Epoch 4/20\n",
      "113/113 [==============================] - 23s 203ms/step - loss: 0.8725 - acc: 0.5286 - val_loss: 0.8807 - val_acc: 0.5056\n",
      "Epoch 5/20\n",
      "113/113 [==============================] - 29s 255ms/step - loss: 0.8670 - acc: 0.5310 - val_loss: 0.8878 - val_acc: 0.5350\n",
      "Epoch 6/20\n",
      "113/113 [==============================] - 32s 284ms/step - loss: 0.8582 - acc: 0.5372 - val_loss: 0.9140 - val_acc: 0.5400\n",
      "Epoch 7/20\n",
      "113/113 [==============================] - 33s 294ms/step - loss: 0.8502 - acc: 0.5360 - val_loss: 0.9211 - val_acc: 0.5378\n",
      "Epoch 8/20\n",
      "113/113 [==============================] - 29s 256ms/step - loss: 0.8399 - acc: 0.5443 - val_loss: 0.9446 - val_acc: 0.4811\n",
      "Epoch 9/20\n",
      "113/113 [==============================] - 28s 245ms/step - loss: 0.8288 - acc: 0.5501 - val_loss: 0.9370 - val_acc: 0.5278\n",
      "Epoch 10/20\n",
      "113/113 [==============================] - 26s 230ms/step - loss: 0.8229 - acc: 0.5567 - val_loss: 0.9392 - val_acc: 0.5356\n",
      "Epoch 11/20\n",
      "113/113 [==============================] - 25s 223ms/step - loss: 0.8111 - acc: 0.5600 - val_loss: 0.9206 - val_acc: 0.5394\n",
      "Epoch 12/20\n",
      "113/113 [==============================] - 26s 229ms/step - loss: 0.8069 - acc: 0.5599 - val_loss: 1.0094 - val_acc: 0.4978\n",
      "Epoch 13/20\n",
      "113/113 [==============================] - 26s 229ms/step - loss: 0.8040 - acc: 0.5594 - val_loss: 1.1030 - val_acc: 0.4794\n",
      "Epoch 14/20\n",
      "113/113 [==============================] - 27s 237ms/step - loss: 0.7975 - acc: 0.5640 - val_loss: 1.2371 - val_acc: 0.4789\n",
      "Epoch 15/20\n",
      "113/113 [==============================] - 26s 227ms/step - loss: 0.7989 - acc: 0.5633 - val_loss: 1.0218 - val_acc: 0.5372\n",
      "Epoch 16/20\n",
      "113/113 [==============================] - 26s 230ms/step - loss: 0.7983 - acc: 0.5647 - val_loss: 1.0023 - val_acc: 0.5200\n",
      "Epoch 17/20\n",
      "113/113 [==============================] - 25s 224ms/step - loss: 0.7952 - acc: 0.5618 - val_loss: 1.0830 - val_acc: 0.5072\n",
      "Epoch 18/20\n",
      "113/113 [==============================] - 27s 236ms/step - loss: 0.7940 - acc: 0.5650 - val_loss: 1.1548 - val_acc: 0.5011\n",
      "Epoch 19/20\n",
      "113/113 [==============================] - 25s 222ms/step - loss: 0.7936 - acc: 0.5657 - val_loss: 1.1554 - val_acc: 0.5050\n",
      "Epoch 20/20\n",
      "113/113 [==============================] - 26s 227ms/step - loss: 0.7938 - acc: 0.5658 - val_loss: 1.1762 - val_acc: 0.5167\n"
     ]
    }
   ],
   "source": [
    "model_dense_rnn_retry = Sequential()\n",
    "model_dense_rnn_retry.add(Embedding(max_features, 64))\n",
    "model_dense_rnn_retry.add(LSTM(64, dropout=0.2, recurrent_dropout=0.2))\n",
    "model_dense_rnn_retry.add(layers.Dense(64, activation='relu'))\n",
    "model_dense_rnn_retry.add(layers.Dense(3, activation='softmax'))\n",
    "\n",
    "model_dense_rnn_retry.compile(optimizer='rmsprop', \n",
    "              loss='categorical_crossentropy',\n",
    "              metrics=['acc'])\n",
    "\n",
    "history = model_dense_rnn_retry.fit(train_for_rnn, train_label_for_rnn,\n",
    "                    epochs=20,\n",
    "                    batch_size=64,\n",
    "                    validation_data=(val_for_rnn, val_label_for_rnn))"
   ]
  },
  {
   "cell_type": "code",
   "execution_count": 229,
   "id": "1d60fc75",
   "metadata": {},
   "outputs": [
    {
     "data": {
      "image/png": "[encoded data removed]",
      "text/plain": [
       "<Figure size 432x288 with 1 Axes>"
      ]
     },
     "metadata": {
      "needs_background": "light"
     },
     "output_type": "display_data"
    }
   ],
   "source": [
    "acc = history.history['acc']\n",
    "val_acc = history.history['val_acc']\n",
    "\n",
    "plt.plot(epochs, acc, 'bo', label='Training acc')\n",
    "plt.plot(epochs, val_acc, 'b', label='Validation acc')\n",
    "plt.title('Training and validation accuracy')\n",
    "plt.xlabel('Epochs')\n",
    "plt.ylabel('Loss')\n",
    "plt.legend()\n",
    "\n",
    "plt.show()"
   ]
  },
  {
   "cell_type": "markdown",
   "id": "54822953",
   "metadata": {},
   "source": [
    "####  Since the feature extraction method was TextVectorization, what if I change this back to one hot encoding?"
   ]
  },
  {
   "cell_type": "code",
   "execution_count": 189,
   "id": "17a4eae6",
   "metadata": {},
   "outputs": [],
   "source": [
    "train_data_one_hot = [one_hot(d, 8000) for d in train_data]\n",
    "train_data_padded = pad_sequences(train_data_one_hot, maxlen=200, padding='post')"
   ]
  },
  {
   "cell_type": "code",
   "execution_count": 190,
   "id": "8bc1c6fa",
   "metadata": {},
   "outputs": [
    {
     "data": {
      "text/plain": [
       "(3477, 200)"
      ]
     },
     "execution_count": 190,
     "metadata": {},
     "output_type": "execute_result"
    }
   ],
   "source": [
    "train_data_padded.shape"
   ]
  },
  {
   "cell_type": "markdown",
   "id": "f7688e49",
   "metadata": {},
   "source": [
    "Again, resample it to make other factors remain the same"
   ]
  },
  {
   "cell_type": "code",
   "execution_count": 191,
   "id": "e4f4d401",
   "metadata": {},
   "outputs": [
    {
     "name": "stderr",
     "output_type": "stream",
     "text": [
      "/usr/local/lib/python3.9/site-packages/imblearn/utils/_validation.py:299: UserWarning: After over-sampling, the number of samples (3000) in class pos will be larger than the number of samples in the majority class (class #pos -> 1203)\n",
      "  warnings.warn(\n",
      "/usr/local/lib/python3.9/site-packages/imblearn/utils/_validation.py:299: UserWarning: After over-sampling, the number of samples (3000) in class neg will be larger than the number of samples in the majority class (class #pos -> 1203)\n",
      "  warnings.warn(\n",
      "/usr/local/lib/python3.9/site-packages/imblearn/utils/_validation.py:299: UserWarning: After over-sampling, the number of samples (3000) in class neut will be larger than the number of samples in the majority class (class #pos -> 1203)\n",
      "  warnings.warn(\n"
     ]
    }
   ],
   "source": [
    "smt_1 = SMOTE(sampling_strategy={\"pos\":3000, \"neg\":3000, \"neut\":3000}, random_state=10, k_neighbors=6, n_jobs=3)\n",
    "train_resampled_oh, train_label_resampled_oh = smt_1.fit_resample(train_data_padded, train_labels)"
   ]
  },
  {
   "cell_type": "code",
   "execution_count": 194,
   "id": "d1a6aaec",
   "metadata": {},
   "outputs": [],
   "source": [
    "num_train_labels_1 = []\n",
    "for item in train_label_resampled_oh:\n",
    "    if item == 'pos':\n",
    "        num_train_labels_1.append(1.0)\n",
    "    elif item == 'neg':\n",
    "         num_train_labels_1.append(0.0)\n",
    "    else:\n",
    "        num_train_labels_1.append(0.5)"
   ]
  },
  {
   "cell_type": "code",
   "execution_count": 195,
   "id": "d25de7c0",
   "metadata": {},
   "outputs": [],
   "source": [
    "one_hot_labels = to_one_hot(num_train_labels_1)"
   ]
  },
  {
   "cell_type": "code",
   "execution_count": 198,
   "id": "a92ebcfd",
   "metadata": {},
   "outputs": [
    {
     "data": {
      "text/plain": [
       "(9000, 3)"
      ]
     },
     "execution_count": 198,
     "metadata": {},
     "output_type": "execute_result"
    }
   ],
   "source": [
    "one_hot_labels.shape"
   ]
  },
  {
   "cell_type": "code",
   "execution_count": 199,
   "id": "4a9508be",
   "metadata": {},
   "outputs": [
    {
     "name": "stdout",
     "output_type": "stream",
     "text": [
      "Epoch 1/8\n",
      "113/113 [==============================] - 23s 185ms/step - loss: 0.8673 - acc: 0.5132 - val_loss: 2.6763 - val_acc: 0.0050\n",
      "Epoch 2/8\n",
      "113/113 [==============================] - 21s 190ms/step - loss: 0.8738 - acc: 0.5221 - val_loss: 2.6839 - val_acc: 0.0133\n",
      "Epoch 3/8\n",
      "113/113 [==============================] - 22s 192ms/step - loss: 0.8271 - acc: 0.5336 - val_loss: 3.7446 - val_acc: 0.0144\n",
      "Epoch 4/8\n",
      "113/113 [==============================] - 23s 206ms/step - loss: 0.8230 - acc: 0.5322 - val_loss: 1.7639 - val_acc: 0.0633\n",
      "Epoch 5/8\n",
      "113/113 [==============================] - 29s 255ms/step - loss: 0.8165 - acc: 0.5322 - val_loss: 2.1615 - val_acc: 0.0022\n",
      "Epoch 6/8\n",
      "113/113 [==============================] - 35s 308ms/step - loss: 0.8046 - acc: 0.5394 - val_loss: 2.1767 - val_acc: 0.0311\n",
      "Epoch 7/8\n",
      "113/113 [==============================] - 35s 312ms/step - loss: 0.7975 - acc: 0.5476 - val_loss: 3.1657 - val_acc: 0.0017\n",
      "Epoch 8/8\n",
      "113/113 [==============================] - 30s 267ms/step - loss: 0.8082 - acc: 0.5435 - val_loss: 3.3900 - val_acc: 0.0017\n"
     ]
    }
   ],
   "source": [
    "model_dense_rnn_oh = Sequential()\n",
    "model_dense_rnn_oh.add(Embedding(max_features, 64))\n",
    "model_dense_rnn_oh.add(LSTM(64, dropout=0.2, recurrent_dropout=0.2))\n",
    "model_dense_rnn_oh.add(layers.Dense(64, activation='relu'))\n",
    "model_dense_rnn_oh.add(layers.Dense(3, activation='softmax'))\n",
    "\n",
    "model_dense_rnn_oh.compile(optimizer='rmsprop', \n",
    "              loss='categorical_crossentropy',\n",
    "              metrics=['acc'])\n",
    "\n",
    "history = model_dense_rnn_oh.fit(train_resampled_oh, one_hot_labels,\n",
    "                    epochs=8,\n",
    "                    batch_size=64,\n",
    "                    validation_split=0.2)"
   ]
  },
  {
   "cell_type": "code",
   "execution_count": 200,
   "id": "dfe0c44f",
   "metadata": {},
   "outputs": [
    {
     "data": {
      "image/png": "[encoded data removed]",
      "text/plain": [
       "<Figure size 432x288 with 1 Axes>"
      ]
     },
     "metadata": {
      "needs_background": "light"
     },
     "output_type": "display_data"
    }
   ],
   "source": [
    "import matplotlib.pyplot as plt\n",
    "\n",
    "loss = history.history['loss']\n",
    "val_loss = history.history['val_loss']\n",
    "\n",
    "epochs = range(1, len(loss) + 1)\n",
    "\n",
    "plt.plot(epochs, loss, 'bo', label='Training loss')\n",
    "plt.plot(epochs, val_loss, 'b', label='Validation loss')\n",
    "plt.title('Training and validation loss')\n",
    "plt.xlabel('Epochs')\n",
    "plt.ylabel('Loss')\n",
    "plt.legend()\n",
    "\n",
    "plt.show();"
   ]
  },
  {
   "cell_type": "code",
   "execution_count": 201,
   "id": "ec8d3efc",
   "metadata": {},
   "outputs": [
    {
     "data": {
      "image/png": "[encoded data removed]",
      "text/plain": [
       "<Figure size 432x288 with 1 Axes>"
      ]
     },
     "metadata": {
      "needs_background": "light"
     },
     "output_type": "display_data"
    }
   ],
   "source": [
    "plt.clf()   # clear figure\n",
    "\n",
    "acc = history.history['acc']\n",
    "val_acc = history.history['val_acc']\n",
    "\n",
    "plt.plot(epochs, acc, 'bo', label='Training acc')\n",
    "plt.plot(epochs, val_acc, 'b', label='Validation acc')\n",
    "plt.title('Training and validation accuracy')\n",
    "plt.xlabel('Epochs')\n",
    "plt.ylabel('Loss')\n",
    "plt.legend()\n",
    "\n",
    "plt.show()"
   ]
  },
  {
   "cell_type": "code",
   "execution_count": 203,
   "id": "cd63df2b",
   "metadata": {},
   "outputs": [
    {
     "data": {
      "text/plain": [
       "(9000, 3)"
      ]
     },
     "execution_count": 203,
     "metadata": {},
     "output_type": "execute_result"
    }
   ],
   "source": [
    "train_labels_all = to_one_hot(num_train_labels)\n",
    "train_labels_all.shape"
   ]
  },
  {
   "cell_type": "markdown",
   "id": "f93cf071",
   "metadata": {},
   "source": [
    "Add one more Dense layer?"
   ]
  },
  {
   "cell_type": "code",
   "execution_count": 205,
   "id": "d509fb5f",
   "metadata": {},
   "outputs": [
    {
     "name": "stdout",
     "output_type": "stream",
     "text": [
      "Epoch 1/20\n",
      "113/113 [==============================] - 23s 180ms/step - loss: 0.9100 - acc: 0.5217 - val_loss: 0.8885 - val_acc: 0.5406\n",
      "Epoch 2/20\n",
      "113/113 [==============================] - 21s 182ms/step - loss: 0.8838 - acc: 0.5325 - val_loss: 0.8759 - val_acc: 0.5411\n",
      "Epoch 3/20\n",
      "113/113 [==============================] - 21s 185ms/step - loss: 0.8779 - acc: 0.5288 - val_loss: 0.8766 - val_acc: 0.5411\n",
      "Epoch 4/20\n",
      "113/113 [==============================] - 22s 196ms/step - loss: 0.8680 - acc: 0.5349 - val_loss: 0.8826 - val_acc: 0.5411\n",
      "Epoch 5/20\n",
      "113/113 [==============================] - 24s 211ms/step - loss: 0.8590 - acc: 0.5361 - val_loss: 0.9066 - val_acc: 0.5406\n",
      "Epoch 6/20\n",
      "113/113 [==============================] - 26s 228ms/step - loss: 0.8468 - acc: 0.5401 - val_loss: 0.9028 - val_acc: 0.5378\n",
      "Epoch 7/20\n",
      "113/113 [==============================] - 28s 246ms/step - loss: 0.8280 - acc: 0.5487 - val_loss: 0.9436 - val_acc: 0.5194\n",
      "Epoch 8/20\n",
      "113/113 [==============================] - 28s 250ms/step - loss: 0.8168 - acc: 0.5536 - val_loss: 0.9503 - val_acc: 0.5267\n",
      "Epoch 9/20\n",
      "113/113 [==============================] - 27s 242ms/step - loss: 0.8087 - acc: 0.5504 - val_loss: 1.0067 - val_acc: 0.5106\n",
      "Epoch 10/20\n",
      "113/113 [==============================] - 26s 230ms/step - loss: 0.8039 - acc: 0.5607 - val_loss: 1.0440 - val_acc: 0.4917\n",
      "Epoch 11/20\n",
      "113/113 [==============================] - 25s 224ms/step - loss: 0.7999 - acc: 0.5624 - val_loss: 0.9986 - val_acc: 0.5272\n",
      "Epoch 12/20\n",
      "113/113 [==============================] - 27s 241ms/step - loss: 0.8008 - acc: 0.5644 - val_loss: 1.0405 - val_acc: 0.5228\n",
      "Epoch 13/20\n",
      "113/113 [==============================] - 28s 243ms/step - loss: 0.7985 - acc: 0.5600 - val_loss: 1.0967 - val_acc: 0.5111\n",
      "Epoch 14/20\n",
      "113/113 [==============================] - 30s 265ms/step - loss: 0.7957 - acc: 0.5615 - val_loss: 1.1028 - val_acc: 0.5189\n",
      "Epoch 15/20\n",
      "113/113 [==============================] - 29s 254ms/step - loss: 0.7958 - acc: 0.5663 - val_loss: 1.2019 - val_acc: 0.4983\n",
      "Epoch 16/20\n",
      "113/113 [==============================] - 29s 261ms/step - loss: 0.7936 - acc: 0.5638 - val_loss: 1.1938 - val_acc: 0.4939\n",
      "Epoch 17/20\n",
      "113/113 [==============================] - 29s 259ms/step - loss: 0.8021 - acc: 0.5614 - val_loss: 1.2138 - val_acc: 0.5206\n",
      "Epoch 18/20\n",
      "113/113 [==============================] - 29s 260ms/step - loss: 0.7935 - acc: 0.5657 - val_loss: 1.1947 - val_acc: 0.5133\n",
      "Epoch 19/20\n",
      "113/113 [==============================] - 27s 237ms/step - loss: 0.7927 - acc: 0.5649 - val_loss: 1.2599 - val_acc: 0.5189\n",
      "Epoch 20/20\n",
      "113/113 [==============================] - 26s 226ms/step - loss: 0.7938 - acc: 0.5653 - val_loss: 1.2575 - val_acc: 0.5056\n"
     ]
    }
   ],
   "source": [
    "mdr1 = Sequential()\n",
    "mdr1.add(Embedding(max_features, 64))\n",
    "mdr1.add(LSTM(64, dropout=0.2, recurrent_dropout=0.2))\n",
    "mdr1.add(layers.Dense(64, activation='relu'))\n",
    "mdr1.add(layers.Dense(32, activation='relu'))\n",
    "mdr1.add(layers.Dense(3, activation='softmax'))\n",
    "\n",
    "mdr1.compile(optimizer='rmsprop', \n",
    "              loss='categorical_crossentropy',\n",
    "              metrics=['acc'])\n",
    "\n",
    "history = mdr1.fit(train_for_rnn, train_label_for_rnn,\n",
    "                    epochs=20,\n",
    "                    batch_size=64,\n",
    "                    validation_data=(val_for_rnn, val_label_for_rnn))"
   ]
  },
  {
   "cell_type": "code",
   "execution_count": 206,
   "id": "4350ceb7",
   "metadata": {},
   "outputs": [
    {
     "data": {
      "image/png": "[encoded data removed]",
      "text/plain": [
       "<Figure size 432x288 with 1 Axes>"
      ]
     },
     "metadata": {
      "needs_background": "light"
     },
     "output_type": "display_data"
    }
   ],
   "source": [
    "import matplotlib.pyplot as plt\n",
    "\n",
    "loss = history.history['loss']\n",
    "val_loss = history.history['val_loss']\n",
    "\n",
    "epochs = range(1, len(loss) + 1)\n",
    "\n",
    "plt.plot(epochs, loss, 'bo', label='Training loss')\n",
    "plt.plot(epochs, val_loss, 'b', label='Validation loss')\n",
    "plt.title('Training and validation loss')\n",
    "plt.xlabel('Epochs')\n",
    "plt.ylabel('Loss')\n",
    "plt.legend()\n",
    "\n",
    "plt.show();"
   ]
  },
  {
   "cell_type": "code",
   "execution_count": 207,
   "id": "d86cd51b",
   "metadata": {},
   "outputs": [
    {
     "data": {
      "image/png": "[encoded data removed]",
      "text/plain": [
       "<Figure size 432x288 with 1 Axes>"
      ]
     },
     "metadata": {
      "needs_background": "light"
     },
     "output_type": "display_data"
    }
   ],
   "source": [
    "plt.clf()   # clear figure\n",
    "\n",
    "acc = history.history['acc']\n",
    "val_acc = history.history['val_acc']\n",
    "\n",
    "plt.plot(epochs, acc, 'bo', label='Training acc')\n",
    "plt.plot(epochs, val_acc, 'b', label='Validation acc')\n",
    "plt.title('Training and validation accuracy')\n",
    "plt.xlabel('Epochs')\n",
    "plt.ylabel('Loss')\n",
    "plt.legend()\n",
    "\n",
    "plt.show()"
   ]
  },
  {
   "cell_type": "markdown",
   "id": "5f798a21",
   "metadata": {},
   "source": [
    "Keep tuning"
   ]
  },
  {
   "cell_type": "code",
   "execution_count": 212,
   "id": "c10e922b",
   "metadata": {},
   "outputs": [
    {
     "name": "stdout",
     "output_type": "stream",
     "text": [
      "Epoch 1/20\n",
      "113/113 [==============================] - 45s 366ms/step - loss: 0.9075 - acc: 0.5246 - val_loss: 0.8921 - val_acc: 0.5411\n",
      "Epoch 2/20\n",
      "113/113 [==============================] - 44s 387ms/step - loss: 0.8832 - acc: 0.5360 - val_loss: 0.8814 - val_acc: 0.5406\n",
      "Epoch 3/20\n",
      "113/113 [==============================] - 57s 505ms/step - loss: 0.8862 - acc: 0.5260 - val_loss: 0.8962 - val_acc: 0.5356\n",
      "Epoch 4/20\n",
      "113/113 [==============================] - 59s 519ms/step - loss: 0.8701 - acc: 0.5344 - val_loss: 0.8913 - val_acc: 0.5361\n",
      "Epoch 5/20\n",
      "113/113 [==============================] - 51s 454ms/step - loss: 0.8572 - acc: 0.5375 - val_loss: 0.9138 - val_acc: 0.5400\n",
      "Epoch 6/20\n",
      "113/113 [==============================] - 49s 429ms/step - loss: 0.8543 - acc: 0.5362 - val_loss: 0.9233 - val_acc: 0.5317\n",
      "Epoch 7/20\n",
      "113/113 [==============================] - 49s 434ms/step - loss: 0.8396 - acc: 0.5460 - val_loss: 0.9275 - val_acc: 0.5278\n",
      "Epoch 8/20\n",
      "113/113 [==============================] - 51s 455ms/step - loss: 0.8224 - acc: 0.5514 - val_loss: 0.9646 - val_acc: 0.5361\n",
      "Epoch 9/20\n",
      "113/113 [==============================] - 51s 448ms/step - loss: 0.8160 - acc: 0.5532 - val_loss: 0.9559 - val_acc: 0.5322\n",
      "Epoch 10/20\n",
      "113/113 [==============================] - 54s 474ms/step - loss: 0.8089 - acc: 0.5550 - val_loss: 0.9793 - val_acc: 0.5183\n",
      "Epoch 11/20\n",
      "113/113 [==============================] - 51s 449ms/step - loss: 0.8259 - acc: 0.5515 - val_loss: 1.0150 - val_acc: 0.5156\n",
      "Epoch 12/20\n",
      "113/113 [==============================] - 50s 444ms/step - loss: 0.8039 - acc: 0.5578 - val_loss: 1.0196 - val_acc: 0.5267\n",
      "Epoch 13/20\n",
      "113/113 [==============================] - 50s 440ms/step - loss: 0.8059 - acc: 0.5504 - val_loss: 1.0310 - val_acc: 0.5167\n",
      "Epoch 14/20\n",
      "113/113 [==============================] - 50s 441ms/step - loss: 0.8056 - acc: 0.5562 - val_loss: 1.0367 - val_acc: 0.5194\n",
      "Epoch 15/20\n",
      "113/113 [==============================] - 50s 442ms/step - loss: 0.7941 - acc: 0.5604 - val_loss: 1.0975 - val_acc: 0.5122\n",
      "Epoch 16/20\n",
      "113/113 [==============================] - 51s 451ms/step - loss: 0.7979 - acc: 0.5640 - val_loss: 1.0750 - val_acc: 0.5167\n",
      "Epoch 17/20\n",
      "113/113 [==============================] - 63s 559ms/step - loss: 0.7980 - acc: 0.5585 - val_loss: 1.0682 - val_acc: 0.5172\n",
      "Epoch 18/20\n",
      "113/113 [==============================] - 60s 529ms/step - loss: 0.8173 - acc: 0.5506 - val_loss: 1.0488 - val_acc: 0.5250\n",
      "Epoch 19/20\n",
      "113/113 [==============================] - 59s 525ms/step - loss: 0.7977 - acc: 0.5543 - val_loss: 1.1165 - val_acc: 0.5106\n",
      "Epoch 20/20\n",
      "113/113 [==============================] - 56s 493ms/step - loss: 0.7925 - acc: 0.5663 - val_loss: 1.1011 - val_acc: 0.5278\n"
     ]
    }
   ],
   "source": [
    "mdr2 = Sequential()\n",
    "mdr2.add(Embedding(max_features, 64))\n",
    "mdr2.add(LSTM(64, dropout=0.2, recurrent_dropout=0.2, return_sequences=True))\n",
    "mdr2.add(LSTM(64, dropout=0.2, recurrent_dropout=0.2))\n",
    "mdr2.add(layers.Dense(3, activation='softmax'))\n",
    "\n",
    "mdr2.compile(optimizer='rmsprop', \n",
    "              loss='categorical_crossentropy',\n",
    "              metrics=['acc'])\n",
    "\n",
    "history = mdr2.fit(train_for_rnn, train_label_for_rnn,\n",
    "                    epochs=20,\n",
    "                    batch_size=64,\n",
    "                    validation_data=(val_for_rnn, val_label_for_rnn))"
   ]
  },
  {
   "cell_type": "markdown",
   "id": "442fa31b",
   "metadata": {},
   "source": [
    "Baseline is ~0.33, there is still some improvements here with ~0.52 accuracy"
   ]
  },
  {
   "cell_type": "code",
   "execution_count": 213,
   "id": "6a974437",
   "metadata": {},
   "outputs": [
    {
     "data": {
      "text/plain": [
       "0.3362222222222222"
      ]
     },
     "execution_count": 213,
     "metadata": {},
     "output_type": "execute_result"
    }
   ],
   "source": [
    "import copy\n",
    "\n",
    "test_labels_copy = copy.copy(train_label_resampled)\n",
    "np.random.shuffle(test_labels_copy)\n",
    "float(np.sum(np.array(train_label_resampled) == np.array(test_labels_copy))) / len(train_label_resampled)"
   ]
  },
  {
   "cell_type": "markdown",
   "id": "fd4ca3f0",
   "metadata": {},
   "source": [
    "Keep tuning"
   ]
  },
  {
   "cell_type": "code",
   "execution_count": 214,
   "id": "79fa01e3",
   "metadata": {},
   "outputs": [
    {
     "name": "stdout",
     "output_type": "stream",
     "text": [
      "Epoch 1/20\n",
      "113/113 [==============================] - 38s 306ms/step - loss: 0.9068 - acc: 0.5217 - val_loss: 0.8788 - val_acc: 0.5411\n",
      "Epoch 2/20\n",
      "113/113 [==============================] - 36s 321ms/step - loss: 0.8839 - acc: 0.5311 - val_loss: 0.8773 - val_acc: 0.5411\n",
      "Epoch 3/20\n",
      "113/113 [==============================] - 41s 367ms/step - loss: 0.8796 - acc: 0.5310 - val_loss: 0.8761 - val_acc: 0.5411\n",
      "Epoch 4/20\n",
      "113/113 [==============================] - 46s 412ms/step - loss: 0.8693 - acc: 0.5324 - val_loss: 0.8864 - val_acc: 0.5411\n",
      "Epoch 5/20\n",
      "113/113 [==============================] - 48s 423ms/step - loss: 0.8644 - acc: 0.5328 - val_loss: 0.9113 - val_acc: 0.5133\n",
      "Epoch 6/20\n",
      "113/113 [==============================] - 46s 404ms/step - loss: 0.8532 - acc: 0.5378 - val_loss: 0.9077 - val_acc: 0.4994\n",
      "Epoch 7/20\n",
      "113/113 [==============================] - 44s 386ms/step - loss: 0.8461 - acc: 0.5381 - val_loss: 0.9259 - val_acc: 0.5067\n",
      "Epoch 8/20\n",
      "113/113 [==============================] - 43s 385ms/step - loss: 0.8347 - acc: 0.5487 - val_loss: 0.9287 - val_acc: 0.5072\n",
      "Epoch 9/20\n",
      "113/113 [==============================] - 44s 386ms/step - loss: 0.8413 - acc: 0.5447 - val_loss: 0.9518 - val_acc: 0.5261\n",
      "Epoch 10/20\n",
      "113/113 [==============================] - 44s 391ms/step - loss: 0.8315 - acc: 0.5489 - val_loss: 0.9704 - val_acc: 0.5011\n",
      "Epoch 11/20\n",
      "113/113 [==============================] - 44s 390ms/step - loss: 0.8184 - acc: 0.5517 - val_loss: 0.9708 - val_acc: 0.5028\n",
      "Epoch 12/20\n",
      "113/113 [==============================] - 44s 391ms/step - loss: 0.8133 - acc: 0.5558 - val_loss: 0.9797 - val_acc: 0.5372\n",
      "Epoch 13/20\n",
      "113/113 [==============================] - 44s 390ms/step - loss: 0.8147 - acc: 0.5517 - val_loss: 0.9889 - val_acc: 0.5128\n",
      "Epoch 14/20\n",
      "113/113 [==============================] - 44s 391ms/step - loss: 0.8080 - acc: 0.5569 - val_loss: 1.0123 - val_acc: 0.5228\n",
      "Epoch 15/20\n",
      "113/113 [==============================] - 96s 857ms/step - loss: 0.8023 - acc: 0.5567 - val_loss: 1.0191 - val_acc: 0.5167\n",
      "Epoch 16/20\n",
      "113/113 [==============================] - 1842s 16s/step - loss: 0.8004 - acc: 0.5629 - val_loss: 1.0547 - val_acc: 0.5100\n",
      "Epoch 17/20\n",
      "113/113 [==============================] - 169s 2s/step - loss: 0.7977 - acc: 0.5558 - val_loss: 1.0606 - val_acc: 0.5122\n",
      "Epoch 18/20\n",
      "113/113 [==============================] - 164s 1s/step - loss: 0.7985 - acc: 0.5664 - val_loss: 1.0577 - val_acc: 0.5167\n",
      "Epoch 19/20\n",
      "113/113 [==============================] - 1930s 17s/step - loss: 0.7947 - acc: 0.5622 - val_loss: 1.0582 - val_acc: 0.5217\n",
      "Epoch 20/20\n",
      "113/113 [==============================] - 165s 1s/step - loss: 0.7988 - acc: 0.5593 - val_loss: 1.0621 - val_acc: 0.5122\n"
     ]
    }
   ],
   "source": [
    "mdr2 = Sequential()\n",
    "mdr2.add(Embedding(max_features, 32))\n",
    "mdr2.add(LSTM(32, dropout=0.2, recurrent_dropout=0.2, return_sequences=True))\n",
    "mdr2.add(LSTM(32, dropout=0.2, recurrent_dropout=0.2))\n",
    "mdr2.add(layers.Dense(3, activation='softmax'))\n",
    "\n",
    "mdr2.compile(optimizer='rmsprop', \n",
    "              loss='categorical_crossentropy',\n",
    "              metrics=['acc'])\n",
    "\n",
    "history = mdr2.fit(train_for_rnn, train_label_for_rnn,\n",
    "                    epochs=20,\n",
    "                    batch_size=64,\n",
    "                    validation_data=(val_for_rnn, val_label_for_rnn))"
   ]
  },
  {
   "cell_type": "code",
   "execution_count": 217,
   "id": "80d8bbe4",
   "metadata": {},
   "outputs": [
    {
     "name": "stdout",
     "output_type": "stream",
     "text": [
      "Model: \"sequential_27\"\n",
      "_________________________________________________________________\n",
      "Layer (type)                 Output Shape              Param #   \n",
      "=================================================================\n",
      "embedding_19 (Embedding)     (None, None, 32)          256000    \n",
      "_________________________________________________________________\n",
      "lstm_27 (LSTM)               (None, None, 32)          8320      \n",
      "_________________________________________________________________\n",
      "lstm_28 (LSTM)               (None, 32)                8320      \n",
      "_________________________________________________________________\n",
      "dense_42 (Dense)             (None, 3)                 99        \n",
      "=================================================================\n",
      "Total params: 272,739\n",
      "Trainable params: 272,739\n",
      "Non-trainable params: 0\n",
      "_________________________________________________________________\n"
     ]
    }
   ],
   "source": [
    "mdr2.summary()"
   ]
  },
  {
   "cell_type": "markdown",
   "id": "7d1249cd",
   "metadata": {},
   "source": [
    "#### What if I use the original dataset without oversampling it?"
   ]
  },
  {
   "cell_type": "code",
   "execution_count": 220,
   "id": "29805675",
   "metadata": {},
   "outputs": [
    {
     "data": {
      "text/plain": [
       "(3477, 3)"
      ]
     },
     "execution_count": 220,
     "metadata": {},
     "output_type": "execute_result"
    }
   ],
   "source": [
    "num_train_labels_original = []\n",
    "for item in train_labels:\n",
    "    if item == 'pos':\n",
    "        num_train_labels_original.append(1.0)\n",
    "    elif item == 'neg':\n",
    "         num_train_labels_original.append(0.0)\n",
    "    else:\n",
    "        num_train_labels_original.append(0.5)\n",
    "num_train_labels_original = to_one_hot(num_train_labels_original)\n",
    "num_train_labels_original.shape"
   ]
  },
  {
   "cell_type": "code",
   "execution_count": 224,
   "id": "d2dbc71a",
   "metadata": {},
   "outputs": [
    {
     "name": "stdout",
     "output_type": "stream",
     "text": [
      "Epoch 1/20\n",
      "44/44 [==============================] - 19s 323ms/step - loss: 0.8783 - acc: 0.6152 - val_loss: 1.2126 - val_acc: 0.0000e+00\n",
      "Epoch 2/20\n",
      "44/44 [==============================] - 13s 302ms/step - loss: 0.8338 - acc: 0.6221 - val_loss: 1.3807 - val_acc: 0.0000e+00\n",
      "Epoch 3/20\n",
      "44/44 [==============================] - 15s 333ms/step - loss: 0.8234 - acc: 0.6221 - val_loss: 1.3579 - val_acc: 0.0000e+00\n",
      "Epoch 4/20\n",
      "44/44 [==============================] - 15s 347ms/step - loss: 0.7947 - acc: 0.6293 - val_loss: 1.3696 - val_acc: 0.0000e+00\n",
      "Epoch 5/20\n",
      "44/44 [==============================] - 15s 338ms/step - loss: 0.7719 - acc: 0.6397 - val_loss: 1.2440 - val_acc: 0.0000e+00\n",
      "Epoch 6/20\n",
      "44/44 [==============================] - 15s 342ms/step - loss: 0.7667 - acc: 0.6422 - val_loss: 1.3024 - val_acc: 0.0000e+00\n",
      "Epoch 7/20\n",
      "44/44 [==============================] - 15s 336ms/step - loss: 0.7482 - acc: 0.6498 - val_loss: 1.3375 - val_acc: 0.0000e+00\n",
      "Epoch 8/20\n",
      "44/44 [==============================] - 15s 344ms/step - loss: 0.7440 - acc: 0.6519 - val_loss: 1.4111 - val_acc: 0.0000e+00\n",
      "Epoch 9/20\n",
      "44/44 [==============================] - 15s 346ms/step - loss: 0.7420 - acc: 0.6537 - val_loss: 1.4500 - val_acc: 0.0000e+00\n",
      "Epoch 10/20\n",
      "44/44 [==============================] - 15s 348ms/step - loss: 0.7445 - acc: 0.6498 - val_loss: 1.3271 - val_acc: 0.0000e+00\n",
      "Epoch 11/20\n",
      "44/44 [==============================] - 16s 357ms/step - loss: 0.7451 - acc: 0.6559 - val_loss: 1.2378 - val_acc: 0.0000e+00\n",
      "Epoch 12/20\n",
      "44/44 [==============================] - 16s 369ms/step - loss: 0.7287 - acc: 0.6559 - val_loss: 1.2853 - val_acc: 0.0000e+00\n",
      "Epoch 13/20\n",
      "44/44 [==============================] - 17s 377ms/step - loss: 0.7344 - acc: 0.6548 - val_loss: 1.3634 - val_acc: 0.0000e+00\n",
      "Epoch 14/20\n",
      "44/44 [==============================] - 17s 384ms/step - loss: 0.7237 - acc: 0.6570 - val_loss: 1.3901 - val_acc: 0.0000e+00\n",
      "Epoch 15/20\n",
      "44/44 [==============================] - 17s 387ms/step - loss: 0.7308 - acc: 0.6570 - val_loss: 1.4110 - val_acc: 0.0000e+00\n",
      "Epoch 16/20\n",
      "44/44 [==============================] - 17s 392ms/step - loss: 0.7255 - acc: 0.6562 - val_loss: 1.3009 - val_acc: 0.0000e+00\n",
      "Epoch 17/20\n",
      "44/44 [==============================] - 17s 384ms/step - loss: 0.7255 - acc: 0.6562 - val_loss: 1.5038 - val_acc: 0.0000e+00\n",
      "Epoch 18/20\n",
      "44/44 [==============================] - 18s 400ms/step - loss: 0.7225 - acc: 0.6570 - val_loss: 1.2972 - val_acc: 0.0000e+00\n",
      "Epoch 19/20\n",
      "44/44 [==============================] - 17s 379ms/step - loss: 0.7306 - acc: 0.6552 - val_loss: 1.3473 - val_acc: 0.0000e+00\n",
      "Epoch 20/20\n",
      "44/44 [==============================] - 16s 374ms/step - loss: 0.7222 - acc: 0.6570 - val_loss: 1.3200 - val_acc: 0.0000e+00\n"
     ]
    }
   ],
   "source": [
    "mdr3_original = Sequential()\n",
    "mdr3_original.add(Embedding(max_features, 32))\n",
    "mdr3_original.add(LSTM(32, dropout=0.2, recurrent_dropout=0.2, return_sequences=True))\n",
    "mdr3_original.add(LSTM(32, dropout=0.2, recurrent_dropout=0.2))\n",
    "mdr3_original.add(layers.Dense(3, activation='softmax'))\n",
    "\n",
    "mdr3_original.compile(optimizer='rmsprop', \n",
    "              loss='categorical_crossentropy',\n",
    "              metrics=['acc'])\n",
    "\n",
    "history = mdr3_original.fit(vec, num_train_labels_original,\n",
    "                    epochs=20,\n",
    "                    batch_size=64,\n",
    "                    validation_split=0.2)"
   ]
  },
  {
   "cell_type": "markdown",
   "id": "c0ecfda3",
   "metadata": {},
   "source": [
    "### Predict on the unseen news data\n",
    "\n",
    "Prepare it with TextVectorization"
   ]
  },
  {
   "cell_type": "code",
   "execution_count": 230,
   "id": "c90e865e",
   "metadata": {},
   "outputs": [],
   "source": [
    "max_features = 8000\n",
    "\n",
    "vectorize_layer_1 = TextVectorization(\n",
    "    max_tokens=max_features,\n",
    "    output_mode='int',\n",
    "    output_sequence_length=200,\n",
    "    ngrams=3)\n",
    "\n",
    "vectorize_layer.adapt(news)"
   ]
  },
  {
   "cell_type": "code",
   "execution_count": 231,
   "id": "c9b1a7d7",
   "metadata": {},
   "outputs": [],
   "source": [
    "text_input_news = Input(shape=(1,), dtype=tf.string, name='text')\n",
    "\n",
    "output_news = vectorize_layer(text_input_news)\n",
    "model = tf.keras.Model(text_input_news, output_news)"
   ]
  },
  {
   "cell_type": "code",
   "execution_count": 232,
   "id": "bb67b8dd",
   "metadata": {},
   "outputs": [],
   "source": [
    "news_vec = model.predict(news)"
   ]
  },
  {
   "cell_type": "code",
   "execution_count": 234,
   "id": "182c8d08",
   "metadata": {},
   "outputs": [
    {
     "data": {
      "text/plain": [
       "(20000, 200)"
      ]
     },
     "execution_count": 234,
     "metadata": {},
     "output_type": "execute_result"
    }
   ],
   "source": [
    "news_vec.shape"
   ]
  },
  {
   "cell_type": "code",
   "execution_count": 238,
   "id": "0702f5bf",
   "metadata": {},
   "outputs": [
    {
     "name": "stderr",
     "output_type": "stream",
     "text": [
      "[Parallel(n_jobs=-1)]: Using backend ThreadingBackend with 8 concurrent workers.\n",
      "[Parallel(n_jobs=-1)]: Done   1 tasks      | elapsed:    0.1s\n",
      "[Parallel(n_jobs=-1)]: Done   2 tasks      | elapsed:    0.1s\n",
      "[Parallel(n_jobs=-1)]: Done   3 tasks      | elapsed:    0.1s\n",
      "[Parallel(n_jobs=-1)]: Done   4 tasks      | elapsed:    0.1s\n",
      "[Parallel(n_jobs=-1)]: Done   5 tasks      | elapsed:    0.1s\n",
      "[Parallel(n_jobs=-1)]: Done   6 tasks      | elapsed:    0.1s\n",
      "[Parallel(n_jobs=-1)]: Done   7 tasks      | elapsed:    0.1s\n",
      "[Parallel(n_jobs=-1)]: Done   8 tasks      | elapsed:    0.1s\n",
      "[Parallel(n_jobs=-1)]: Done   9 tasks      | elapsed:    0.1s\n",
      "[Parallel(n_jobs=-1)]: Done  10 tasks      | elapsed:    0.1s\n",
      "[Parallel(n_jobs=-1)]: Done  11 tasks      | elapsed:    0.1s\n",
      "[Parallel(n_jobs=-1)]: Done  12 tasks      | elapsed:    0.1s\n",
      "[Parallel(n_jobs=-1)]: Done  13 tasks      | elapsed:    0.1s\n",
      "[Parallel(n_jobs=-1)]: Done  14 tasks      | elapsed:    0.1s\n",
      "[Parallel(n_jobs=-1)]: Done  15 tasks      | elapsed:    0.1s\n",
      "[Parallel(n_jobs=-1)]: Done  16 tasks      | elapsed:    0.1s\n",
      "[Parallel(n_jobs=-1)]: Done  17 tasks      | elapsed:    0.2s\n",
      "[Parallel(n_jobs=-1)]: Done  18 tasks      | elapsed:    0.2s\n",
      "[Parallel(n_jobs=-1)]: Done  19 tasks      | elapsed:    0.2s\n",
      "[Parallel(n_jobs=-1)]: Done  20 tasks      | elapsed:    0.2s\n",
      "[Parallel(n_jobs=-1)]: Done  21 tasks      | elapsed:    0.2s\n",
      "[Parallel(n_jobs=-1)]: Done  22 tasks      | elapsed:    0.2s\n",
      "[Parallel(n_jobs=-1)]: Done  23 tasks      | elapsed:    0.2s\n",
      "[Parallel(n_jobs=-1)]: Done  24 tasks      | elapsed:    0.2s\n"
     ]
    },
    {
     "name": "stdout",
     "output_type": "stream",
     "text": [
      "building tree 1 of 200\n",
      "building tree 2 of 200building tree 3 of 200building tree 4 of 200\n",
      "\n",
      "building tree 5 of 200\n",
      "\n",
      "building tree 6 of 200\n",
      "building tree 7 of 200\n",
      "building tree 8 of 200\n",
      "building tree 9 of 200\n",
      "building tree 10 of 200\n",
      "building tree 11 of 200\n",
      "building tree 12 of 200\n",
      "building tree 13 of 200\n",
      "building tree 14 of 200building tree 15 of 200building tree 16 of 200\n",
      "\n",
      "\n",
      "building tree 17 of 200\n",
      "building tree 18 of 200\n",
      "building tree 19 of 200\n",
      "building tree 20 of 200\n",
      "building tree 21 of 200building tree 22 of 200building tree 23 of 200\n",
      "\n",
      "\n",
      "building tree 24 of 200\n",
      "building tree 25 of 200\n",
      "building tree 26 of 200\n",
      "building tree 27 of 200\n",
      "building tree 28 of 200building tree 29 of 200\n",
      "\n",
      "building tree 30 of 200\n",
      "building tree 31 of 200\n",
      "building tree 32 of 200\n",
      "building tree 33 of 200building tree 34 of 200\n",
      "building tree 35 of 200building tree 36 of 200\n",
      "\n",
      "\n",
      "building tree 37 of 200building tree 38 of 200\n",
      "\n",
      "building tree 39 of 200\n",
      "building tree 40 of 200\n",
      "building tree 41 of 200\n",
      "building tree 42 of 200\n",
      "building tree 43 of 200\n",
      "building tree 44 of 200\n",
      "building tree 45 of 200\n",
      "building tree 46 of 200\n",
      "building tree 47 of 200\n",
      "building tree 48 of 200\n",
      "building tree 49 of 200\n",
      "building tree 50 of 200\n",
      "building tree 51 of 200\n",
      "building tree 52 of 200building tree 53 of 200building tree 54 of 200\n",
      "\n",
      "building tree 55 of 200\n",
      "\n",
      "building tree 56 of 200\n",
      "building tree 57 of 200\n",
      "building tree 58 of 200\n",
      "building tree 59 of 200\n",
      "building tree 60 of 200building tree 61 of 200building tree 62 of 200\n",
      "\n",
      "building tree 63 of 200building tree 64 of 200\n",
      "\n",
      "\n"
     ]
    },
    {
     "name": "stderr",
     "output_type": "stream",
     "text": [
      "[Parallel(n_jobs=-1)]: Done  25 tasks      | elapsed:    0.2s\n",
      "[Parallel(n_jobs=-1)]: Done  26 tasks      | elapsed:    0.2s\n",
      "[Parallel(n_jobs=-1)]: Done  27 tasks      | elapsed:    0.2s\n",
      "[Parallel(n_jobs=-1)]: Done  28 tasks      | elapsed:    0.2s\n",
      "[Parallel(n_jobs=-1)]: Done  29 tasks      | elapsed:    0.2s\n",
      "[Parallel(n_jobs=-1)]: Done  30 tasks      | elapsed:    0.2s\n",
      "[Parallel(n_jobs=-1)]: Done  31 tasks      | elapsed:    0.3s\n",
      "[Parallel(n_jobs=-1)]: Done  32 tasks      | elapsed:    0.3s\n",
      "[Parallel(n_jobs=-1)]: Done  33 tasks      | elapsed:    0.3s\n",
      "[Parallel(n_jobs=-1)]: Done  34 tasks      | elapsed:    0.3s\n",
      "[Parallel(n_jobs=-1)]: Done  35 tasks      | elapsed:    0.3s\n",
      "[Parallel(n_jobs=-1)]: Done  36 tasks      | elapsed:    0.3s\n",
      "[Parallel(n_jobs=-1)]: Done  37 tasks      | elapsed:    0.3s\n",
      "[Parallel(n_jobs=-1)]: Done  38 tasks      | elapsed:    0.3s\n",
      "[Parallel(n_jobs=-1)]: Done  39 tasks      | elapsed:    0.3s\n",
      "[Parallel(n_jobs=-1)]: Done  40 tasks      | elapsed:    0.3s\n",
      "[Parallel(n_jobs=-1)]: Done  41 tasks      | elapsed:    0.4s\n",
      "[Parallel(n_jobs=-1)]: Done  42 tasks      | elapsed:    0.4s\n",
      "[Parallel(n_jobs=-1)]: Done  43 tasks      | elapsed:    0.4s\n",
      "[Parallel(n_jobs=-1)]: Done  44 tasks      | elapsed:    0.4s\n",
      "[Parallel(n_jobs=-1)]: Done  45 tasks      | elapsed:    0.4s\n",
      "[Parallel(n_jobs=-1)]: Done  46 tasks      | elapsed:    0.4s\n",
      "[Parallel(n_jobs=-1)]: Done  47 tasks      | elapsed:    0.4s\n",
      "[Parallel(n_jobs=-1)]: Done  48 tasks      | elapsed:    0.4s\n",
      "[Parallel(n_jobs=-1)]: Done  49 tasks      | elapsed:    0.4s\n",
      "[Parallel(n_jobs=-1)]: Done  50 tasks      | elapsed:    0.4s\n",
      "[Parallel(n_jobs=-1)]: Done  51 tasks      | elapsed:    0.4s\n",
      "[Parallel(n_jobs=-1)]: Done  52 tasks      | elapsed:    0.4s\n",
      "[Parallel(n_jobs=-1)]: Done  53 tasks      | elapsed:    0.4s\n",
      "[Parallel(n_jobs=-1)]: Done  54 tasks      | elapsed:    0.4s\n",
      "[Parallel(n_jobs=-1)]: Done  55 tasks      | elapsed:    0.4s\n",
      "[Parallel(n_jobs=-1)]: Done  56 tasks      | elapsed:    0.4s\n",
      "[Parallel(n_jobs=-1)]: Done  57 tasks      | elapsed:    0.5s\n",
      "[Parallel(n_jobs=-1)]: Done  58 tasks      | elapsed:    0.5s\n",
      "[Parallel(n_jobs=-1)]: Done  59 tasks      | elapsed:    0.5s\n",
      "[Parallel(n_jobs=-1)]: Done  60 tasks      | elapsed:    0.5s\n",
      "[Parallel(n_jobs=-1)]: Done  61 tasks      | elapsed:    0.5s\n",
      "[Parallel(n_jobs=-1)]: Done  62 tasks      | elapsed:    0.5s\n",
      "[Parallel(n_jobs=-1)]: Done  63 tasks      | elapsed:    0.5s\n",
      "[Parallel(n_jobs=-1)]: Done  64 tasks      | elapsed:    0.5s\n",
      "[Parallel(n_jobs=-1)]: Done  65 tasks      | elapsed:    0.5s\n",
      "[Parallel(n_jobs=-1)]: Done  66 tasks      | elapsed:    0.5s\n",
      "[Parallel(n_jobs=-1)]: Done  67 tasks      | elapsed:    0.6s\n",
      "[Parallel(n_jobs=-1)]: Done  68 tasks      | elapsed:    0.6s\n",
      "[Parallel(n_jobs=-1)]: Done  69 tasks      | elapsed:    0.6s\n",
      "[Parallel(n_jobs=-1)]: Done  70 tasks      | elapsed:    0.6s\n",
      "[Parallel(n_jobs=-1)]: Done  71 tasks      | elapsed:    0.6s\n",
      "[Parallel(n_jobs=-1)]: Done  72 tasks      | elapsed:    0.6s\n",
      "[Parallel(n_jobs=-1)]: Done  73 tasks      | elapsed:    0.6s\n",
      "[Parallel(n_jobs=-1)]: Done  74 tasks      | elapsed:    0.6s\n",
      "[Parallel(n_jobs=-1)]: Done  75 tasks      | elapsed:    0.6s\n",
      "[Parallel(n_jobs=-1)]: Done  76 tasks      | elapsed:    0.6s\n",
      "[Parallel(n_jobs=-1)]: Done  77 tasks      | elapsed:    0.6s\n",
      "[Parallel(n_jobs=-1)]: Done  78 tasks      | elapsed:    0.6s\n",
      "[Parallel(n_jobs=-1)]: Done  79 tasks      | elapsed:    0.6s\n",
      "[Parallel(n_jobs=-1)]: Done  80 tasks      | elapsed:    0.6s\n",
      "[Parallel(n_jobs=-1)]: Done  81 tasks      | elapsed:    0.6s\n",
      "[Parallel(n_jobs=-1)]: Done  82 tasks      | elapsed:    0.7s\n",
      "[Parallel(n_jobs=-1)]: Done  83 tasks      | elapsed:    0.7s\n"
     ]
    },
    {
     "name": "stdout",
     "output_type": "stream",
     "text": [
      "building tree 65 of 200\n",
      "building tree 66 of 200building tree 67 of 200building tree 68 of 200\n",
      "\n",
      "\n",
      "building tree 69 of 200\n",
      "building tree 70 of 200\n",
      "building tree 71 of 200\n",
      "building tree 72 of 200\n",
      "building tree 73 of 200\n",
      "building tree 74 of 200\n",
      "building tree 75 of 200\n",
      "building tree 76 of 200\n",
      "building tree 77 of 200\n",
      "building tree 78 of 200\n",
      "building tree 79 of 200\n",
      "building tree 80 of 200\n",
      "building tree 81 of 200\n",
      "building tree 82 of 200\n",
      "building tree 83 of 200\n",
      "building tree 84 of 200\n",
      "building tree 85 of 200\n",
      "building tree 86 of 200\n",
      "building tree 87 of 200\n",
      "building tree 88 of 200\n",
      "building tree 89 of 200\n",
      "building tree 90 of 200\n",
      "building tree 91 of 200building tree 92 of 200\n",
      "\n",
      "building tree 93 of 200\n"
     ]
    },
    {
     "name": "stderr",
     "output_type": "stream",
     "text": [
      "[Parallel(n_jobs=-1)]: Done  84 tasks      | elapsed:    0.7s\n",
      "[Parallel(n_jobs=-1)]: Done  85 tasks      | elapsed:    0.7s\n",
      "[Parallel(n_jobs=-1)]: Done  86 tasks      | elapsed:    0.7s\n",
      "[Parallel(n_jobs=-1)]: Done  87 tasks      | elapsed:    0.7s\n",
      "[Parallel(n_jobs=-1)]: Done  88 tasks      | elapsed:    0.7s\n",
      "[Parallel(n_jobs=-1)]: Done  89 tasks      | elapsed:    0.7s\n",
      "[Parallel(n_jobs=-1)]: Done  90 tasks      | elapsed:    0.7s\n",
      "[Parallel(n_jobs=-1)]: Done  91 tasks      | elapsed:    0.7s\n",
      "[Parallel(n_jobs=-1)]: Done  92 tasks      | elapsed:    0.7s\n",
      "[Parallel(n_jobs=-1)]: Done  93 tasks      | elapsed:    0.7s\n",
      "[Parallel(n_jobs=-1)]: Done  94 tasks      | elapsed:    0.8s\n",
      "[Parallel(n_jobs=-1)]: Done  95 tasks      | elapsed:    0.8s\n",
      "[Parallel(n_jobs=-1)]: Done  96 tasks      | elapsed:    0.8s\n",
      "[Parallel(n_jobs=-1)]: Done  97 tasks      | elapsed:    0.8s\n",
      "[Parallel(n_jobs=-1)]: Done  98 tasks      | elapsed:    0.8s\n",
      "[Parallel(n_jobs=-1)]: Done  99 tasks      | elapsed:    0.8s\n",
      "[Parallel(n_jobs=-1)]: Done 100 tasks      | elapsed:    0.8s\n",
      "[Parallel(n_jobs=-1)]: Done 101 tasks      | elapsed:    0.8s\n",
      "[Parallel(n_jobs=-1)]: Done 102 tasks      | elapsed:    0.8s\n",
      "[Parallel(n_jobs=-1)]: Done 103 tasks      | elapsed:    0.8s\n",
      "[Parallel(n_jobs=-1)]: Done 104 tasks      | elapsed:    0.8s\n",
      "[Parallel(n_jobs=-1)]: Done 105 tasks      | elapsed:    0.8s\n",
      "[Parallel(n_jobs=-1)]: Done 106 tasks      | elapsed:    0.8s\n",
      "[Parallel(n_jobs=-1)]: Done 107 tasks      | elapsed:    0.8s\n",
      "[Parallel(n_jobs=-1)]: Done 108 tasks      | elapsed:    0.9s\n",
      "[Parallel(n_jobs=-1)]: Done 109 tasks      | elapsed:    0.9s\n",
      "[Parallel(n_jobs=-1)]: Done 110 tasks      | elapsed:    0.9s\n",
      "[Parallel(n_jobs=-1)]: Done 111 tasks      | elapsed:    0.9s\n"
     ]
    },
    {
     "name": "stdout",
     "output_type": "stream",
     "text": [
      "building tree 94 of 200\n",
      "building tree 95 of 200\n",
      "building tree 96 of 200building tree 97 of 200\n",
      "\n",
      "building tree 98 of 200\n",
      "building tree 99 of 200\n",
      "building tree 100 of 200\n",
      "building tree 101 of 200\n",
      "building tree 102 of 200\n",
      "building tree 103 of 200\n",
      "building tree 104 of 200\n",
      "building tree 105 of 200\n",
      "building tree 106 of 200\n",
      "building tree 107 of 200\n",
      "building tree 108 of 200\n",
      "building tree 109 of 200\n",
      "building tree 110 of 200\n",
      "building tree 111 of 200building tree 112 of 200\n",
      "\n",
      "building tree 113 of 200\n",
      "building tree 114 of 200\n",
      "building tree 115 of 200\n",
      "building tree 116 of 200\n",
      "building tree 117 of 200\n",
      "building tree 118 of 200\n",
      "building tree 119 of 200\n"
     ]
    },
    {
     "name": "stderr",
     "output_type": "stream",
     "text": [
      "[Parallel(n_jobs=-1)]: Done 112 tasks      | elapsed:    0.9s\n",
      "[Parallel(n_jobs=-1)]: Done 113 tasks      | elapsed:    0.9s\n",
      "[Parallel(n_jobs=-1)]: Done 114 tasks      | elapsed:    0.9s\n",
      "[Parallel(n_jobs=-1)]: Done 115 tasks      | elapsed:    0.9s\n",
      "[Parallel(n_jobs=-1)]: Done 116 tasks      | elapsed:    0.9s\n",
      "[Parallel(n_jobs=-1)]: Done 117 tasks      | elapsed:    0.9s\n",
      "[Parallel(n_jobs=-1)]: Done 118 tasks      | elapsed:    0.9s\n",
      "[Parallel(n_jobs=-1)]: Done 119 tasks      | elapsed:    1.0s\n",
      "[Parallel(n_jobs=-1)]: Done 120 tasks      | elapsed:    1.0s\n",
      "[Parallel(n_jobs=-1)]: Done 121 tasks      | elapsed:    1.0s\n",
      "[Parallel(n_jobs=-1)]: Done 122 tasks      | elapsed:    1.0s\n",
      "[Parallel(n_jobs=-1)]: Done 123 tasks      | elapsed:    1.0s\n",
      "[Parallel(n_jobs=-1)]: Done 124 tasks      | elapsed:    1.0s\n",
      "[Parallel(n_jobs=-1)]: Done 125 tasks      | elapsed:    1.0s\n",
      "[Parallel(n_jobs=-1)]: Done 126 tasks      | elapsed:    1.0s\n",
      "[Parallel(n_jobs=-1)]: Done 127 tasks      | elapsed:    1.1s\n"
     ]
    },
    {
     "name": "stdout",
     "output_type": "stream",
     "text": [
      "building tree 120 of 200\n",
      "building tree 121 of 200\n",
      "building tree 122 of 200\n",
      "building tree 123 of 200building tree 124 of 200\n",
      "\n",
      "building tree 125 of 200\n",
      "building tree 126 of 200\n",
      "building tree 127 of 200\n",
      "building tree 128 of 200building tree 129 of 200\n",
      "\n",
      "building tree 130 of 200\n",
      "building tree 131 of 200\n",
      "building tree 132 of 200\n",
      "building tree 133 of 200building tree 134 of 200\n",
      "building tree 135 of 200\n",
      "\n"
     ]
    },
    {
     "name": "stderr",
     "output_type": "stream",
     "text": [
      "[Parallel(n_jobs=-1)]: Done 128 tasks      | elapsed:    1.1s\n",
      "[Parallel(n_jobs=-1)]: Done 129 tasks      | elapsed:    1.1s\n",
      "[Parallel(n_jobs=-1)]: Done 130 tasks      | elapsed:    1.1s\n",
      "[Parallel(n_jobs=-1)]: Done 131 tasks      | elapsed:    1.1s\n",
      "[Parallel(n_jobs=-1)]: Done 132 tasks      | elapsed:    1.2s\n",
      "[Parallel(n_jobs=-1)]: Done 133 tasks      | elapsed:    1.2s\n",
      "[Parallel(n_jobs=-1)]: Done 134 tasks      | elapsed:    1.2s\n",
      "[Parallel(n_jobs=-1)]: Done 135 tasks      | elapsed:    1.2s\n",
      "[Parallel(n_jobs=-1)]: Done 136 tasks      | elapsed:    1.2s\n",
      "[Parallel(n_jobs=-1)]: Done 137 tasks      | elapsed:    1.2s\n",
      "[Parallel(n_jobs=-1)]: Done 138 tasks      | elapsed:    1.2s\n",
      "[Parallel(n_jobs=-1)]: Done 139 tasks      | elapsed:    1.2s\n",
      "[Parallel(n_jobs=-1)]: Done 140 tasks      | elapsed:    1.2s\n",
      "[Parallel(n_jobs=-1)]: Done 141 tasks      | elapsed:    1.2s\n",
      "[Parallel(n_jobs=-1)]: Done 142 tasks      | elapsed:    1.2s\n",
      "[Parallel(n_jobs=-1)]: Done 143 tasks      | elapsed:    1.2s\n",
      "[Parallel(n_jobs=-1)]: Done 144 tasks      | elapsed:    1.3s\n",
      "[Parallel(n_jobs=-1)]: Done 145 tasks      | elapsed:    1.3s\n",
      "[Parallel(n_jobs=-1)]: Done 146 tasks      | elapsed:    1.3s\n",
      "[Parallel(n_jobs=-1)]: Done 147 tasks      | elapsed:    1.3s\n",
      "[Parallel(n_jobs=-1)]: Done 148 tasks      | elapsed:    1.3s\n",
      "[Parallel(n_jobs=-1)]: Done 149 tasks      | elapsed:    1.3s\n"
     ]
    },
    {
     "name": "stdout",
     "output_type": "stream",
     "text": [
      "building tree 136 of 200\n",
      "building tree 137 of 200\n",
      "building tree 138 of 200building tree 139 of 200\n",
      "\n",
      "building tree 140 of 200\n",
      "building tree 141 of 200\n",
      "building tree 142 of 200building tree 143 of 200\n",
      "\n",
      "building tree 144 of 200\n",
      "building tree 145 of 200\n",
      "building tree 146 of 200\n",
      "building tree 147 of 200\n",
      "building tree 148 of 200\n",
      "building tree 149 of 200\n",
      "building tree 150 of 200\n",
      "building tree 151 of 200\n",
      "building tree 152 of 200\n",
      "building tree 153 of 200\n",
      "building tree 154 of 200\n",
      "building tree 155 of 200\n",
      "building tree 156 of 200\n",
      "building tree 157 of 200\n",
      "building tree 158 of 200\n",
      "building tree 159 of 200\n",
      "building tree 160 of 200\n",
      "building tree 161 of 200\n",
      "building tree 162 of 200building tree 163 of 200\n",
      "\n",
      "building tree 164 of 200\n",
      "building tree 165 of 200\n",
      "building tree 166 of 200building tree 167 of 200\n",
      "\n",
      "building tree 168 of 200\n",
      "building tree 169 of 200\n",
      "building tree 170 of 200\n",
      "building tree 171 of 200\n",
      "building tree 172 of 200\n",
      "building tree 173 of 200\n",
      "building tree 174 of 200\n",
      "building tree 175 of 200\n",
      "building tree 176 of 200\n",
      "building tree 177 of 200\n",
      "building tree 178 of 200\n",
      "building tree 179 of 200\n",
      "building tree 180 of 200\n",
      "building tree 181 of 200building tree 182 of 200\n",
      "\n",
      "building tree 183 of 200\n"
     ]
    },
    {
     "name": "stderr",
     "output_type": "stream",
     "text": [
      "[Parallel(n_jobs=-1)]: Done 150 tasks      | elapsed:    1.3s\n",
      "[Parallel(n_jobs=-1)]: Done 151 tasks      | elapsed:    1.3s\n",
      "[Parallel(n_jobs=-1)]: Done 152 tasks      | elapsed:    1.3s\n",
      "[Parallel(n_jobs=-1)]: Done 153 tasks      | elapsed:    1.3s\n",
      "[Parallel(n_jobs=-1)]: Done 154 tasks      | elapsed:    1.3s\n",
      "[Parallel(n_jobs=-1)]: Done 155 tasks      | elapsed:    1.3s\n",
      "[Parallel(n_jobs=-1)]: Done 156 tasks      | elapsed:    1.4s\n",
      "[Parallel(n_jobs=-1)]: Done 157 tasks      | elapsed:    1.4s\n",
      "[Parallel(n_jobs=-1)]: Done 158 tasks      | elapsed:    1.4s\n",
      "[Parallel(n_jobs=-1)]: Done 159 tasks      | elapsed:    1.4s\n",
      "[Parallel(n_jobs=-1)]: Done 160 tasks      | elapsed:    1.4s\n",
      "[Parallel(n_jobs=-1)]: Done 161 tasks      | elapsed:    1.4s\n",
      "[Parallel(n_jobs=-1)]: Done 162 tasks      | elapsed:    1.4s\n",
      "[Parallel(n_jobs=-1)]: Done 163 tasks      | elapsed:    1.4s\n",
      "[Parallel(n_jobs=-1)]: Done 164 tasks      | elapsed:    1.4s\n",
      "[Parallel(n_jobs=-1)]: Done 165 tasks      | elapsed:    1.4s\n",
      "[Parallel(n_jobs=-1)]: Done 166 tasks      | elapsed:    1.4s\n",
      "[Parallel(n_jobs=-1)]: Done 167 tasks      | elapsed:    1.4s\n",
      "[Parallel(n_jobs=-1)]: Done 168 tasks      | elapsed:    1.5s\n",
      "[Parallel(n_jobs=-1)]: Done 169 tasks      | elapsed:    1.5s\n",
      "[Parallel(n_jobs=-1)]: Done 170 tasks      | elapsed:    1.5s\n",
      "[Parallel(n_jobs=-1)]: Done 171 tasks      | elapsed:    1.5s\n",
      "[Parallel(n_jobs=-1)]: Done 172 tasks      | elapsed:    1.5s\n",
      "[Parallel(n_jobs=-1)]: Done 173 tasks      | elapsed:    1.5s\n",
      "[Parallel(n_jobs=-1)]: Done 174 tasks      | elapsed:    1.5s\n",
      "[Parallel(n_jobs=-1)]: Done 175 tasks      | elapsed:    1.5s\n"
     ]
    },
    {
     "name": "stdout",
     "output_type": "stream",
     "text": [
      "building tree 184 of 200\n",
      "building tree 185 of 200building tree 186 of 200\n",
      "\n",
      "building tree 187 of 200building tree 188 of 200\n",
      "\n",
      "building tree 189 of 200building tree 190 of 200\n",
      "\n",
      "building tree 191 of 200\n",
      "building tree 192 of 200\n",
      "building tree 193 of 200\n",
      "building tree 194 of 200\n",
      "building tree 195 of 200\n",
      "building tree 196 of 200\n",
      "building tree 197 of 200building tree 198 of 200\n",
      "\n",
      "building tree 199 of 200\n",
      "building tree 200 of 200\n"
     ]
    },
    {
     "name": "stderr",
     "output_type": "stream",
     "text": [
      "[Parallel(n_jobs=-1)]: Done 176 tasks      | elapsed:    1.5s\n",
      "[Parallel(n_jobs=-1)]: Done 177 tasks      | elapsed:    1.5s\n",
      "[Parallel(n_jobs=-1)]: Done 178 tasks      | elapsed:    1.5s\n",
      "[Parallel(n_jobs=-1)]: Done 179 tasks      | elapsed:    1.5s\n",
      "[Parallel(n_jobs=-1)]: Done 180 tasks      | elapsed:    1.5s\n",
      "[Parallel(n_jobs=-1)]: Done 181 tasks      | elapsed:    1.5s\n",
      "[Parallel(n_jobs=-1)]: Done 182 tasks      | elapsed:    1.5s\n",
      "[Parallel(n_jobs=-1)]: Done 183 tasks      | elapsed:    1.5s\n",
      "[Parallel(n_jobs=-1)]: Done 184 tasks      | elapsed:    1.6s\n",
      "[Parallel(n_jobs=-1)]: Done 185 tasks      | elapsed:    1.6s\n",
      "[Parallel(n_jobs=-1)]: Done 196 out of 200 | elapsed:    1.7s remaining:    0.0s\n",
      "[Parallel(n_jobs=-1)]: Done 200 out of 200 | elapsed:    1.7s finished\n",
      "[Parallel(n_jobs=8)]: Using backend ThreadingBackend with 8 concurrent workers.\n",
      "[Parallel(n_jobs=8)]: Done   1 tasks      | elapsed:    0.0s\n",
      "[Parallel(n_jobs=8)]: Done   2 tasks      | elapsed:    0.0s\n",
      "[Parallel(n_jobs=8)]: Done   3 tasks      | elapsed:    0.0s\n",
      "[Parallel(n_jobs=8)]: Done   4 tasks      | elapsed:    0.0s\n",
      "[Parallel(n_jobs=8)]: Done   5 tasks      | elapsed:    0.0s\n",
      "[Parallel(n_jobs=8)]: Done   6 tasks      | elapsed:    0.0s\n",
      "[Parallel(n_jobs=8)]: Done   7 tasks      | elapsed:    0.0s\n",
      "[Parallel(n_jobs=8)]: Done   8 tasks      | elapsed:    0.0s\n",
      "[Parallel(n_jobs=8)]: Done   9 tasks      | elapsed:    0.0s\n",
      "[Parallel(n_jobs=8)]: Done  10 tasks      | elapsed:    0.0s\n",
      "[Parallel(n_jobs=8)]: Done  11 tasks      | elapsed:    0.0s\n",
      "[Parallel(n_jobs=8)]: Done  12 tasks      | elapsed:    0.0s\n",
      "[Parallel(n_jobs=8)]: Done  13 tasks      | elapsed:    0.0s\n",
      "[Parallel(n_jobs=8)]: Done  14 tasks      | elapsed:    0.0s\n",
      "[Parallel(n_jobs=8)]: Done  15 tasks      | elapsed:    0.0s\n",
      "[Parallel(n_jobs=8)]: Done  16 tasks      | elapsed:    0.0s\n",
      "[Parallel(n_jobs=8)]: Done  17 tasks      | elapsed:    0.0s\n",
      "[Parallel(n_jobs=8)]: Done  18 tasks      | elapsed:    0.0s\n",
      "[Parallel(n_jobs=8)]: Done  19 tasks      | elapsed:    0.0s\n",
      "[Parallel(n_jobs=8)]: Done  20 tasks      | elapsed:    0.0s\n",
      "[Parallel(n_jobs=8)]: Done  21 tasks      | elapsed:    0.0s\n",
      "[Parallel(n_jobs=8)]: Done  22 tasks      | elapsed:    0.0s\n",
      "[Parallel(n_jobs=8)]: Done  23 tasks      | elapsed:    0.0s\n",
      "[Parallel(n_jobs=8)]: Done  24 tasks      | elapsed:    0.0s\n",
      "[Parallel(n_jobs=8)]: Done  25 tasks      | elapsed:    0.0s\n",
      "[Parallel(n_jobs=8)]: Done  26 tasks      | elapsed:    0.0s\n",
      "[Parallel(n_jobs=8)]: Done  27 tasks      | elapsed:    0.0s\n",
      "[Parallel(n_jobs=8)]: Done  28 tasks      | elapsed:    0.0s\n",
      "[Parallel(n_jobs=8)]: Done  29 tasks      | elapsed:    0.0s\n",
      "[Parallel(n_jobs=8)]: Done  30 tasks      | elapsed:    0.0s\n",
      "[Parallel(n_jobs=8)]: Done  31 tasks      | elapsed:    0.0s\n",
      "[Parallel(n_jobs=8)]: Done  32 tasks      | elapsed:    0.0s\n",
      "[Parallel(n_jobs=8)]: Done  33 tasks      | elapsed:    0.0s\n",
      "[Parallel(n_jobs=8)]: Done  34 tasks      | elapsed:    0.0s\n",
      "[Parallel(n_jobs=8)]: Done  35 tasks      | elapsed:    0.0s\n",
      "[Parallel(n_jobs=8)]: Done  36 tasks      | elapsed:    0.0s\n",
      "[Parallel(n_jobs=8)]: Done  37 tasks      | elapsed:    0.0s\n",
      "[Parallel(n_jobs=8)]: Done  38 tasks      | elapsed:    0.1s\n",
      "[Parallel(n_jobs=8)]: Done  39 tasks      | elapsed:    0.1s\n",
      "[Parallel(n_jobs=8)]: Done  40 tasks      | elapsed:    0.1s\n",
      "[Parallel(n_jobs=8)]: Done  41 tasks      | elapsed:    0.1s\n",
      "[Parallel(n_jobs=8)]: Done  42 tasks      | elapsed:    0.1s\n",
      "[Parallel(n_jobs=8)]: Done  43 tasks      | elapsed:    0.1s\n",
      "[Parallel(n_jobs=8)]: Done  44 tasks      | elapsed:    0.1s\n",
      "[Parallel(n_jobs=8)]: Done  45 tasks      | elapsed:    0.1s\n",
      "[Parallel(n_jobs=8)]: Done  46 tasks      | elapsed:    0.1s\n",
      "[Parallel(n_jobs=8)]: Done  47 tasks      | elapsed:    0.1s\n",
      "[Parallel(n_jobs=8)]: Done  48 tasks      | elapsed:    0.1s\n",
      "[Parallel(n_jobs=8)]: Done  49 tasks      | elapsed:    0.1s\n",
      "[Parallel(n_jobs=8)]: Done  50 tasks      | elapsed:    0.1s\n",
      "[Parallel(n_jobs=8)]: Done  51 tasks      | elapsed:    0.1s\n",
      "[Parallel(n_jobs=8)]: Done  52 tasks      | elapsed:    0.1s\n",
      "[Parallel(n_jobs=8)]: Done  53 tasks      | elapsed:    0.1s\n",
      "[Parallel(n_jobs=8)]: Done  54 tasks      | elapsed:    0.1s\n",
      "[Parallel(n_jobs=8)]: Done  55 tasks      | elapsed:    0.1s\n",
      "[Parallel(n_jobs=8)]: Done  56 tasks      | elapsed:    0.1s\n",
      "[Parallel(n_jobs=8)]: Done  57 tasks      | elapsed:    0.1s\n",
      "[Parallel(n_jobs=8)]: Done  58 tasks      | elapsed:    0.1s\n",
      "[Parallel(n_jobs=8)]: Done  59 tasks      | elapsed:    0.1s\n",
      "[Parallel(n_jobs=8)]: Done  60 tasks      | elapsed:    0.1s\n",
      "[Parallel(n_jobs=8)]: Done  61 tasks      | elapsed:    0.1s\n",
      "[Parallel(n_jobs=8)]: Done  62 tasks      | elapsed:    0.1s\n",
      "[Parallel(n_jobs=8)]: Done  63 tasks      | elapsed:    0.1s\n",
      "[Parallel(n_jobs=8)]: Done  64 tasks      | elapsed:    0.1s\n",
      "[Parallel(n_jobs=8)]: Done  65 tasks      | elapsed:    0.1s\n",
      "[Parallel(n_jobs=8)]: Done  66 tasks      | elapsed:    0.1s\n",
      "[Parallel(n_jobs=8)]: Done  67 tasks      | elapsed:    0.1s\n",
      "[Parallel(n_jobs=8)]: Done  68 tasks      | elapsed:    0.1s\n",
      "[Parallel(n_jobs=8)]: Done  69 tasks      | elapsed:    0.1s\n",
      "[Parallel(n_jobs=8)]: Done  70 tasks      | elapsed:    0.1s\n",
      "[Parallel(n_jobs=8)]: Done  71 tasks      | elapsed:    0.1s\n",
      "[Parallel(n_jobs=8)]: Done  72 tasks      | elapsed:    0.1s\n",
      "[Parallel(n_jobs=8)]: Done  73 tasks      | elapsed:    0.1s\n",
      "[Parallel(n_jobs=8)]: Done  74 tasks      | elapsed:    0.1s\n",
      "[Parallel(n_jobs=8)]: Done  75 tasks      | elapsed:    0.1s\n",
      "[Parallel(n_jobs=8)]: Done  76 tasks      | elapsed:    0.1s\n",
      "[Parallel(n_jobs=8)]: Done  77 tasks      | elapsed:    0.1s\n",
      "[Parallel(n_jobs=8)]: Done  78 tasks      | elapsed:    0.1s\n",
      "[Parallel(n_jobs=8)]: Done  79 tasks      | elapsed:    0.1s\n",
      "[Parallel(n_jobs=8)]: Done  80 tasks      | elapsed:    0.1s\n",
      "[Parallel(n_jobs=8)]: Done  81 tasks      | elapsed:    0.1s\n",
      "[Parallel(n_jobs=8)]: Done  82 tasks      | elapsed:    0.1s\n",
      "[Parallel(n_jobs=8)]: Done  83 tasks      | elapsed:    0.1s\n",
      "[Parallel(n_jobs=8)]: Done  84 tasks      | elapsed:    0.1s\n",
      "[Parallel(n_jobs=8)]: Done  85 tasks      | elapsed:    0.1s\n",
      "[Parallel(n_jobs=8)]: Done  86 tasks      | elapsed:    0.1s\n",
      "[Parallel(n_jobs=8)]: Done  87 tasks      | elapsed:    0.1s\n",
      "[Parallel(n_jobs=8)]: Done  88 tasks      | elapsed:    0.1s\n",
      "[Parallel(n_jobs=8)]: Done  89 tasks      | elapsed:    0.1s\n",
      "[Parallel(n_jobs=8)]: Done  90 tasks      | elapsed:    0.1s\n",
      "[Parallel(n_jobs=8)]: Done  91 tasks      | elapsed:    0.1s\n",
      "[Parallel(n_jobs=8)]: Done  92 tasks      | elapsed:    0.1s\n",
      "[Parallel(n_jobs=8)]: Done  93 tasks      | elapsed:    0.1s\n",
      "[Parallel(n_jobs=8)]: Done  94 tasks      | elapsed:    0.1s\n",
      "[Parallel(n_jobs=8)]: Done  95 tasks      | elapsed:    0.1s\n",
      "[Parallel(n_jobs=8)]: Done  96 tasks      | elapsed:    0.1s\n",
      "[Parallel(n_jobs=8)]: Done  97 tasks      | elapsed:    0.1s\n",
      "[Parallel(n_jobs=8)]: Done  98 tasks      | elapsed:    0.1s\n",
      "[Parallel(n_jobs=8)]: Done  99 tasks      | elapsed:    0.1s\n",
      "[Parallel(n_jobs=8)]: Done 100 tasks      | elapsed:    0.1s\n",
      "[Parallel(n_jobs=8)]: Done 101 tasks      | elapsed:    0.1s\n",
      "[Parallel(n_jobs=8)]: Done 102 tasks      | elapsed:    0.1s\n",
      "[Parallel(n_jobs=8)]: Done 103 tasks      | elapsed:    0.1s\n",
      "[Parallel(n_jobs=8)]: Done 104 tasks      | elapsed:    0.1s\n",
      "[Parallel(n_jobs=8)]: Done 105 tasks      | elapsed:    0.1s\n",
      "[Parallel(n_jobs=8)]: Done 106 tasks      | elapsed:    0.1s\n",
      "[Parallel(n_jobs=8)]: Done 107 tasks      | elapsed:    0.1s\n",
      "[Parallel(n_jobs=8)]: Done 108 tasks      | elapsed:    0.1s\n",
      "[Parallel(n_jobs=8)]: Done 109 tasks      | elapsed:    0.1s\n",
      "[Parallel(n_jobs=8)]: Done 110 tasks      | elapsed:    0.1s\n",
      "[Parallel(n_jobs=8)]: Done 111 tasks      | elapsed:    0.1s\n",
      "[Parallel(n_jobs=8)]: Done 112 tasks      | elapsed:    0.1s\n",
      "[Parallel(n_jobs=8)]: Done 113 tasks      | elapsed:    0.1s\n",
      "[Parallel(n_jobs=8)]: Done 114 tasks      | elapsed:    0.1s\n",
      "[Parallel(n_jobs=8)]: Done 115 tasks      | elapsed:    0.1s\n",
      "[Parallel(n_jobs=8)]: Done 116 tasks      | elapsed:    0.1s\n",
      "[Parallel(n_jobs=8)]: Done 117 tasks      | elapsed:    0.1s\n",
      "[Parallel(n_jobs=8)]: Done 118 tasks      | elapsed:    0.1s\n",
      "[Parallel(n_jobs=8)]: Done 119 tasks      | elapsed:    0.1s\n",
      "[Parallel(n_jobs=8)]: Done 120 tasks      | elapsed:    0.1s\n",
      "[Parallel(n_jobs=8)]: Done 121 tasks      | elapsed:    0.1s\n",
      "[Parallel(n_jobs=8)]: Done 122 tasks      | elapsed:    0.1s\n",
      "[Parallel(n_jobs=8)]: Done 123 tasks      | elapsed:    0.1s\n",
      "[Parallel(n_jobs=8)]: Done 124 tasks      | elapsed:    0.1s\n",
      "[Parallel(n_jobs=8)]: Done 125 tasks      | elapsed:    0.1s\n",
      "[Parallel(n_jobs=8)]: Done 126 tasks      | elapsed:    0.1s\n",
      "[Parallel(n_jobs=8)]: Done 127 tasks      | elapsed:    0.1s\n",
      "[Parallel(n_jobs=8)]: Done 128 tasks      | elapsed:    0.1s\n",
      "[Parallel(n_jobs=8)]: Done 129 tasks      | elapsed:    0.1s\n",
      "[Parallel(n_jobs=8)]: Done 130 tasks      | elapsed:    0.1s\n",
      "[Parallel(n_jobs=8)]: Done 131 tasks      | elapsed:    0.1s\n",
      "[Parallel(n_jobs=8)]: Done 132 tasks      | elapsed:    0.1s\n",
      "[Parallel(n_jobs=8)]: Done 133 tasks      | elapsed:    0.1s\n",
      "[Parallel(n_jobs=8)]: Done 134 tasks      | elapsed:    0.1s\n",
      "[Parallel(n_jobs=8)]: Done 135 tasks      | elapsed:    0.1s\n",
      "[Parallel(n_jobs=8)]: Done 136 tasks      | elapsed:    0.1s\n",
      "[Parallel(n_jobs=8)]: Done 137 tasks      | elapsed:    0.1s\n",
      "[Parallel(n_jobs=8)]: Done 138 tasks      | elapsed:    0.1s\n",
      "[Parallel(n_jobs=8)]: Done 139 tasks      | elapsed:    0.1s\n",
      "[Parallel(n_jobs=8)]: Done 140 tasks      | elapsed:    0.1s\n",
      "[Parallel(n_jobs=8)]: Done 141 tasks      | elapsed:    0.1s\n",
      "[Parallel(n_jobs=8)]: Done 142 tasks      | elapsed:    0.1s\n",
      "[Parallel(n_jobs=8)]: Done 143 tasks      | elapsed:    0.1s\n",
      "[Parallel(n_jobs=8)]: Done 144 tasks      | elapsed:    0.1s\n",
      "[Parallel(n_jobs=8)]: Done 145 tasks      | elapsed:    0.2s\n",
      "[Parallel(n_jobs=8)]: Done 146 tasks      | elapsed:    0.2s\n",
      "[Parallel(n_jobs=8)]: Done 147 tasks      | elapsed:    0.2s\n",
      "[Parallel(n_jobs=8)]: Done 148 tasks      | elapsed:    0.2s\n",
      "[Parallel(n_jobs=8)]: Done 149 tasks      | elapsed:    0.2s\n",
      "[Parallel(n_jobs=8)]: Done 150 tasks      | elapsed:    0.2s\n",
      "[Parallel(n_jobs=8)]: Done 151 tasks      | elapsed:    0.2s\n",
      "[Parallel(n_jobs=8)]: Done 152 tasks      | elapsed:    0.2s\n",
      "[Parallel(n_jobs=8)]: Done 153 tasks      | elapsed:    0.2s\n",
      "[Parallel(n_jobs=8)]: Done 154 tasks      | elapsed:    0.2s\n",
      "[Parallel(n_jobs=8)]: Done 155 tasks      | elapsed:    0.2s\n",
      "[Parallel(n_jobs=8)]: Done 156 tasks      | elapsed:    0.2s\n",
      "[Parallel(n_jobs=8)]: Done 157 tasks      | elapsed:    0.2s\n",
      "[Parallel(n_jobs=8)]: Done 158 tasks      | elapsed:    0.2s\n",
      "[Parallel(n_jobs=8)]: Done 159 tasks      | elapsed:    0.2s\n",
      "[Parallel(n_jobs=8)]: Done 160 tasks      | elapsed:    0.2s\n",
      "[Parallel(n_jobs=8)]: Done 161 tasks      | elapsed:    0.2s\n",
      "[Parallel(n_jobs=8)]: Done 162 tasks      | elapsed:    0.2s\n",
      "[Parallel(n_jobs=8)]: Done 163 tasks      | elapsed:    0.2s\n",
      "[Parallel(n_jobs=8)]: Done 164 tasks      | elapsed:    0.2s\n",
      "[Parallel(n_jobs=8)]: Done 165 tasks      | elapsed:    0.2s\n",
      "[Parallel(n_jobs=8)]: Done 166 tasks      | elapsed:    0.2s\n",
      "[Parallel(n_jobs=8)]: Done 167 tasks      | elapsed:    0.2s\n",
      "[Parallel(n_jobs=8)]: Done 168 tasks      | elapsed:    0.2s\n",
      "[Parallel(n_jobs=8)]: Done 169 tasks      | elapsed:    0.2s\n",
      "[Parallel(n_jobs=8)]: Done 170 tasks      | elapsed:    0.2s\n",
      "[Parallel(n_jobs=8)]: Done 171 tasks      | elapsed:    0.2s\n",
      "[Parallel(n_jobs=8)]: Done 172 tasks      | elapsed:    0.2s\n",
      "[Parallel(n_jobs=8)]: Done 173 tasks      | elapsed:    0.2s\n",
      "[Parallel(n_jobs=8)]: Done 174 tasks      | elapsed:    0.2s\n",
      "[Parallel(n_jobs=8)]: Done 175 tasks      | elapsed:    0.2s\n",
      "[Parallel(n_jobs=8)]: Done 176 tasks      | elapsed:    0.2s\n",
      "[Parallel(n_jobs=8)]: Done 177 tasks      | elapsed:    0.2s\n",
      "[Parallel(n_jobs=8)]: Done 178 tasks      | elapsed:    0.2s\n",
      "[Parallel(n_jobs=8)]: Done 179 tasks      | elapsed:    0.2s\n",
      "[Parallel(n_jobs=8)]: Done 180 tasks      | elapsed:    0.2s\n",
      "[Parallel(n_jobs=8)]: Done 181 tasks      | elapsed:    0.2s\n",
      "[Parallel(n_jobs=8)]: Done 182 tasks      | elapsed:    0.2s\n",
      "[Parallel(n_jobs=8)]: Done 183 tasks      | elapsed:    0.2s\n",
      "[Parallel(n_jobs=8)]: Done 184 tasks      | elapsed:    0.2s\n",
      "[Parallel(n_jobs=8)]: Done 185 tasks      | elapsed:    0.2s\n",
      "[Parallel(n_jobs=8)]: Done 196 out of 200 | elapsed:    0.2s remaining:    0.0s\n",
      "[Parallel(n_jobs=8)]: Done 200 out of 200 | elapsed:    0.2s finished\n"
     ]
    }
   ],
   "source": [
    "clf = rf_model_7.fit(train_resampled, train_label_resampled)\n",
    "prediction = clf.predict(news_vec)"
   ]
  },
  {
   "cell_type": "code",
   "execution_count": 241,
   "id": "8245be82",
   "metadata": {},
   "outputs": [
    {
     "name": "stdout",
     "output_type": "stream",
     "text": [
      "Predicted positive news: 19979 out of 20000\n",
      "Predicted negative news: 11 out of 20000\n",
      "Predicted neutral news: 10 out of 20000\n"
     ]
    }
   ],
   "source": [
    "positive = 0\n",
    "negative = 0\n",
    "neutral = 0\n",
    "for p in prediction:\n",
    "    if p == 'pos':\n",
    "        positive += 1\n",
    "    elif p == 'neg':\n",
    "        negative += 1\n",
    "    else:\n",
    "        neutral += 1\n",
    "print(\"Predicted positive news: \" + str(positive), \"out of 20000\")\n",
    "print(\"Predicted negative news: \" + str(negative), \"out of 20000\")\n",
    "print(\"Predicted neutral news: \" + str(neutral), \"out of 20000\")"
   ]
  },
  {
   "cell_type": "code",
   "execution_count": 243,
   "id": "f678f4a2",
   "metadata": {},
   "outputs": [],
   "source": [
    "pos_news_mentions = collections.defaultdict(lambda:0)\n",
    "neg_news_mentions = collections.defaultdict(lambda:0)\n",
    "neutr_news_mentions = collections.defaultdict(lambda:0)\n",
    "\n",
    "for idx in range(len(prediction)):\n",
    "    ally_mentioned = 0\n",
    "    opponent_mentioned = 0\n",
    "    \n",
    "    for a in allies:\n",
    "        if news[idx].find(a) != -1:\n",
    "            ally_mentioned = 1\n",
    "            break\n",
    "    for o in opponents:\n",
    "        if news[idx].find(o) != -1:\n",
    "            opponent_mentioned = 1\n",
    "            break\n",
    "    total = 0\n",
    "    total += ally_mentioned + opponent_mentioned\n",
    "    key = ''\n",
    "    if total == 2:\n",
    "        key = 'both'\n",
    "    elif total == 0:\n",
    "        continue\n",
    "    else:\n",
    "        if ally_mentioned == 1:\n",
    "            key = 'ally'\n",
    "        else:\n",
    "            key = 'opponent'\n",
    "    \n",
    "    if prediction[idx] == 'pos':\n",
    "        pos_news_mentions[key] += 1\n",
    "    elif prediction[idx] == 'neg':\n",
    "        neg_news_mentions[key] += 1\n",
    "    else:\n",
    "        neutr_news_mentions[key] += 1"
   ]
  },
  {
   "cell_type": "code",
   "execution_count": 245,
   "id": "81396f73",
   "metadata": {},
   "outputs": [
    {
     "name": "stdout",
     "output_type": "stream",
     "text": [
      "Out of 19979 predicted positive news,\n",
      "    19.33% mentioned both allied and opponent countires,\n",
      "    44.35% mentioned only allied country(ies),\n",
      "    4.93% mentioned only opponent country(ies)\n",
      "Out of 11 predicted negative news,\n",
      "    0.0% mentioned both allied and opponent countires,\n",
      "    18.18% mentioned only allied country(ies),\n",
      "    0.0% mentioned only opponent country(ies)\n",
      "Out of 10 predicted neutral news,\n",
      "    0.0% mentioned both allied and opponent countires,\n",
      "    0.0% mentioned only allied country(ies),\n",
      "    0.0% mentioned only opponent country(ies)\n"
     ]
    }
   ],
   "source": [
    "print(f\"Out of {positive} predicted positive news,\\n\\\n",
    "    {round(pos_news_mentions['both'] * 100 / positive, 2)}% mentioned both allied and opponent countires,\\n\\\n",
    "    {round(pos_news_mentions['ally'] * 100 / positive, 2)}% mentioned only allied country(ies),\\n\\\n",
    "    {round(pos_news_mentions['opponent'] * 100 / positive, 2)}% mentioned only opponent country(ies)\")\n",
    "print(f\"Out of {negative} predicted negative news,\\n\\\n",
    "    {round(neg_news_mentions['both'] * 100 / negative, 2)}% mentioned both allied and opponent countires,\\n\\\n",
    "    {round(neg_news_mentions['ally'] * 100 / negative, 2)}% mentioned only allied country(ies),\\n\\\n",
    "    {round(neg_news_mentions['opponent'] * 100 / negative, 2)}% mentioned only opponent country(ies)\")\n",
    "print(f\"Out of {neutral} predicted neutral news,\\n\\\n",
    "    {round(neutr_news_mentions['both'] * 100 / neutral, 2)}% mentioned both allied and opponent countires,\\n\\\n",
    "    {round(neutr_news_mentions['ally'] * 100 / neutral, 2)}% mentioned only allied country(ies),\\n\\\n",
    "    {round(neutr_news_mentions['opponent'] * 100 / neutral, 2)}% mentioned only opponent country(ies)\")"
   ]
  },
  {
   "cell_type": "markdown",
   "id": "8ecc9861",
   "metadata": {},
   "source": [
    "## Tri-gram text generation\n",
    "\n",
    "This is a part where I build a Tri-gram model on the collected news dataset and generate sentence around the hand-coded countries"
   ]
  },
  {
   "cell_type": "code",
   "execution_count": 7,
   "id": "2205384c",
   "metadata": {},
   "outputs": [],
   "source": [
    "from nltk.util import ngrams"
   ]
  },
  {
   "cell_type": "code",
   "execution_count": 26,
   "id": "7e3174bb",
   "metadata": {},
   "outputs": [],
   "source": [
    "import collections\n",
    "import random"
   ]
  },
  {
   "cell_type": "code",
   "execution_count": 100,
   "id": "60ebd6b0",
   "metadata": {},
   "outputs": [],
   "source": [
    "import json\n",
    "class TriGramModel():\n",
    "    def __init__(self):\n",
    "        self.next_word = collections.defaultdict(list)\n",
    "        \n",
    "        self.ngram = collections.defaultdict(lambda:0)\n",
    "        \n",
    "    def update(self, doc):\n",
    "        grams = ngrams(doc.split(), 3)\n",
    "        \n",
    "        for gram in grams:\n",
    "            # Provide fall back to bigram\n",
    "            self.ngram[gram] += 1\n",
    "            self.ngram[gram[:2]] += 1\n",
    "            self.ngram[gram[1:]] += 1\n",
    "            \n",
    "            self.next_word[gram[:2]].append(gram[2])\n",
    "            # Provide fall back to unigram\n",
    "            for j in range(2):\n",
    "                self.next_word[tuple([gram[j]])].append(gram[j+1])\n",
    "    \n",
    "    # Write to file in case the session quit unexpectedly\n",
    "    def write(self):\n",
    "        with open('ngram.txt', 'w', newline='') as csvwriter:\n",
    "            writer = csv.writer(csvwriter, delimiter=',')\n",
    "            for key in self.ngram:\n",
    "                grams = ' '.join(key)\n",
    "                num = str(self.ngram[key])\n",
    "                writer.writerow([grams, num])\n",
    "                \n",
    "    # Read from file to accelerate the process\n",
    "    def read(self): \n",
    "        with open('ngram.txt', newline='') as csvreader:\n",
    "            reader = csv.reader(csvreader, delimiter=',')\n",
    "            for line in reader:\n",
    "                words = line[0].split()\n",
    "                num = int(line[1])\n",
    "                grams = tuple(words)\n",
    "                self.ngram[grams] += 1\n",
    "                \n",
    "                for j in range(len(grams) - 1):\n",
    "                    self.next_word[tuple([grams[j]])].append(grams[j+1])\n",
    "    \n",
    "    # Calculate the probability of the next word given one or two previous words             \n",
    "    def prob(self, start, next_word):\n",
    "        try:\n",
    "            gram = start + tuple([next_word])\n",
    "\n",
    "            full_grams_count = self.ngram[gram]\n",
    "            \n",
    "            context_count = len(self.next_word[start])\n",
    "\n",
    "            if context_count == 0:\n",
    "                return 0\n",
    "        except KeyError:\n",
    "            return 0\n",
    "        return full_grams_count / context_count\n",
    "\n",
    "    # Randomly generate the next word given one or two start words\n",
    "    def random_next_word(self, start):\n",
    "        r = random.random()\n",
    "        \n",
    "        word_prob = {}\n",
    "        following_words = set(self.next_word[start])\n",
    "        for word in following_words:\n",
    "            word_prob[word] = self.prob(start, word)\n",
    "\n",
    "        _sum = 0\n",
    "        word_prob_items = sorted(word_prob.items(), key=lambda x: x[1])\n",
    "        for item in word_prob_items:\n",
    "            _sum += item[1]\n",
    "            if _sum > r:\n",
    "                return item[0]\n",
    "    \n",
    "    # Randomly text given the starting word, generate at most {count} words\n",
    "    def generate(self, start, count):\n",
    "        i = 0\n",
    "        result = [start]\n",
    "        # Get the immediately next word as a start\n",
    "        imm_next = self.random_next_word(tuple([start]))\n",
    "        if imm_next != None:\n",
    "            result.append(imm_next)\n",
    "            i = 1\n",
    "        else:\n",
    "            return f\"{start} not in the vocabulary\"\n",
    "        \n",
    "        while i < count - 1:\n",
    "            # Get tri-gram first\n",
    "            tk_tri = self.random_next_word(tuple(result[i-1:]))\n",
    "            # If none, fall back to bigram\n",
    "            if tk_tri == None:\n",
    "                tk_tri = self.random_next_word(tuple([result[i]]))\n",
    "            # Nothing left, return the result\n",
    "            if tk_tri == None:\n",
    "                return \" \".join(result)\n",
    "\n",
    "            result.append(tk_tri)\n",
    "            i = len(result) - 1\n",
    "\n",
    "        return \" \".join(result)"
   ]
  },
  {
   "cell_type": "code",
   "execution_count": 101,
   "id": "e81f1c9c",
   "metadata": {},
   "outputs": [],
   "source": [
    "mod = TriGramModel()\n",
    "for doc in news:\n",
    "    mod.update(doc)"
   ]
  },
  {
   "cell_type": "code",
   "execution_count": 102,
   "id": "aeabefa4",
   "metadata": {},
   "outputs": [
    {
     "data": {
      "text/plain": [
       "'china canada and the president and often the case after case as an extra chip called the changes in water'"
      ]
     },
     "execution_count": 102,
     "metadata": {},
     "output_type": "execute_result"
    }
   ],
   "source": [
    "mod.generate(\"china\", 20)"
   ]
  },
  {
   "cell_type": "code",
   "execution_count": 103,
   "id": "e5bc449a",
   "metadata": {},
   "outputs": [
    {
     "data": {
      "text/plain": [
       "'united states’ use of pesticides but the doctors without borders “i’ve never seen that it’s been published in the liberal'"
      ]
     },
     "execution_count": 103,
     "metadata": {},
     "output_type": "execute_result"
    }
   ],
   "source": [
    "mod.generate(\"united\", 20)"
   ]
  },
  {
   "cell_type": "code",
   "execution_count": 104,
   "id": "580a9471",
   "metadata": {},
   "outputs": [
    {
     "data": {
      "text/plain": [
       "'china s growing compensation culture he also talked about our culture ” said gabrielle mcdowell vice chair of the airport’s bylaws london city airport the'"
      ]
     },
     "execution_count": 104,
     "metadata": {},
     "output_type": "execute_result"
    }
   ],
   "source": [
    "mod.generate(\"china\", 25)"
   ]
  },
  {
   "cell_type": "code",
   "execution_count": 105,
   "id": "90816685",
   "metadata": {},
   "outputs": [
    {
     "data": {
      "text/plain": [
       "'australia must pick out my time it was wielded in startling revelations are important to explore its possibilities for peace werk for peace of what'"
      ]
     },
     "execution_count": 105,
     "metadata": {},
     "output_type": "execute_result"
    }
   ],
   "source": [
    "mod.generate(\"australia\", 25)"
   ]
  },
  {
   "cell_type": "code",
   "execution_count": 106,
   "id": "c0bfe90a",
   "metadata": {},
   "outputs": [
    {
     "data": {
      "text/plain": [
       "'india has ” mr kodesh said is repeating itself ” so militant abusive violent and'"
      ]
     },
     "execution_count": 106,
     "metadata": {},
     "output_type": "execute_result"
    }
   ],
   "source": [
    "mod.generate(\"india\", 15)"
   ]
  },
  {
   "cell_type": "code",
   "execution_count": 107,
   "id": "6f911517",
   "metadata": {},
   "outputs": [
    {
     "data": {
      "text/plain": [
       "'india and pakistan but we did keep a hospital when they go through several crises unique to private sector backers the commons despite the government'"
      ]
     },
     "execution_count": 107,
     "metadata": {},
     "output_type": "execute_result"
    }
   ],
   "source": [
    "mod.generate(\"india\", 25)"
   ]
  },
  {
   "cell_type": "code",
   "execution_count": 108,
   "id": "704b9d56",
   "metadata": {},
   "outputs": [
    {
     "data": {
      "text/plain": [
       "'iraq is known for his wedding because she shook her head according to promotional material'"
      ]
     },
     "execution_count": 108,
     "metadata": {},
     "output_type": "execute_result"
    }
   ],
   "source": [
    "mod.generate(\"iraq\", 15)"
   ]
  },
  {
   "cell_type": "code",
   "execution_count": 109,
   "id": "417aad6a",
   "metadata": {},
   "outputs": [
    {
     "data": {
      "text/plain": [
       "'syria the city the prevailing wind police told reporters outside their office and republicans ”'"
      ]
     },
     "execution_count": 109,
     "metadata": {},
     "output_type": "execute_result"
    }
   ],
   "source": [
    "mod.generate(\"syria\", 15)"
   ]
  },
  {
   "cell_type": "code",
   "execution_count": 110,
   "id": "14e1f699",
   "metadata": {},
   "outputs": [
    {
     "data": {
      "text/plain": [
       "'chinese government had continued the draft of the televangelists jim and that it likely that they use pester power to check on him our job is not being invited to make the proscribed limit of miles of muddy water below before he was particularly painful news for volkswagen at billion'"
      ]
     },
     "execution_count": 110,
     "metadata": {},
     "output_type": "execute_result"
    }
   ],
   "source": [
    "mod.generate(\"chinese\", 50)"
   ]
  },
  {
   "cell_type": "code",
   "execution_count": 111,
   "id": "d4267915",
   "metadata": {},
   "outputs": [
    {
     "data": {
      "text/plain": [
       "'chinese entomologist who discovered the company’s service was conducted following last week’s wildcard the giants scored just one example ” but he said on international flights “some people were in the importance of the tutelary spirit prevails — not just by speaking directly with your equation if you read that'"
      ]
     },
     "execution_count": 111,
     "metadata": {},
     "output_type": "execute_result"
    }
   ],
   "source": [
    "mod.generate(\"chinese\", 50)"
   ]
  },
  {
   "cell_type": "code",
   "execution_count": 112,
   "id": "8d8ec61d",
   "metadata": {},
   "outputs": [
    {
     "data": {
      "text/plain": [
       "'chinese government cyberattacks that he has always wanted to respond there should not shut down their funding for haiti breitbart'"
      ]
     },
     "execution_count": 112,
     "metadata": {},
     "output_type": "execute_result"
    }
   ],
   "source": [
    "mod.generate(\"chinese\", 20)"
   ]
  },
  {
   "cell_type": "code",
   "execution_count": 113,
   "id": "d62b9e42",
   "metadata": {},
   "outputs": [
    {
     "data": {
      "text/plain": [
       "'london in marking a reversal of tradition by wearing short skirts and he could very well opening stores across the'"
      ]
     },
     "execution_count": 113,
     "metadata": {},
     "output_type": "execute_result"
    }
   ],
   "source": [
    "mod.generate(\"london\", 20)"
   ]
  },
  {
   "cell_type": "code",
   "execution_count": 114,
   "id": "5cca60f3",
   "metadata": {},
   "outputs": [
    {
     "data": {
      "text/plain": [
       "'london raheem kassam will continue our discussion of his motive appeared to ignore them egypt used to sit here and having universal access to the dean of students’ sfl office'"
      ]
     },
     "execution_count": 114,
     "metadata": {},
     "output_type": "execute_result"
    }
   ],
   "source": [
    "mod.generate(\"london\", 30)"
   ]
  },
  {
   "cell_type": "code",
   "execution_count": 115,
   "id": "9faabd08",
   "metadata": {},
   "outputs": [
    {
     "data": {
      "text/plain": [
       "'japan to ratchet down former boyfriends mr malik said more information on public view for instance they would have been killed the senior counsel justin clark deputy assistant secretary of'"
      ]
     },
     "execution_count": 115,
     "metadata": {},
     "output_type": "execute_result"
    }
   ],
   "source": [
    "mod.generate(\"japan\", 30)"
   ]
  },
  {
   "cell_type": "code",
   "execution_count": 116,
   "id": "cb79f9af",
   "metadata": {},
   "outputs": [
    {
     "data": {
      "text/plain": [
       "'japan is off to the script of a bridge this divide between the trump campaign associates that he intends to sign the partnership to begin with but we’re creating jobs'"
      ]
     },
     "execution_count": 116,
     "metadata": {},
     "output_type": "execute_result"
    }
   ],
   "source": [
    "mod.generate(\"japan\", 30)"
   ]
  },
  {
   "cell_type": "code",
   "execution_count": 117,
   "id": "e4551524",
   "metadata": {},
   "outputs": [
    {
     "data": {
      "text/plain": [
       "'japan china mexico trump says at the painkiller as albritton had managed to trick them'"
      ]
     },
     "execution_count": 117,
     "metadata": {},
     "output_type": "execute_result"
    }
   ],
   "source": [
    "mod.generate(\"japan\", 15)"
   ]
  },
  {
   "cell_type": "code",
   "execution_count": 119,
   "id": "a653ede0",
   "metadata": {},
   "outputs": [
    {
     "data": {
      "text/plain": [
       "'russia trump’s spokesman said he will vote to be able to shave their legs so'"
      ]
     },
     "execution_count": 119,
     "metadata": {},
     "output_type": "execute_result"
    }
   ],
   "source": [
    "mod.generate(\"russia\", 15)"
   ]
  },
  {
   "cell_type": "code",
   "execution_count": null,
   "id": "dfd71185",
   "metadata": {},
   "outputs": [],
   "source": []
  }
 ],
 "metadata": {
  "kernelspec": {
   "display_name": "Python 3 (ipykernel)",
   "language": "python",
   "name": "python3"
  },
  "language_info": {
   "codemirror_mode": {
    "name": "ipython",
    "version": 3
   },
   "file_extension": ".py",
   "mimetype": "text/x-python",
   "name": "python",
   "nbconvert_exporter": "python",
   "pygments_lexer": "ipython3",
   "version": "3.9.7"
  }
 },
 "nbformat": 4,
 "nbformat_minor": 5
}
